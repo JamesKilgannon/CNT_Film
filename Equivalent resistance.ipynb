{
 "cells": [
  {
   "cell_type": "code",
   "execution_count": 1,
   "metadata": {
    "collapsed": true
   },
   "outputs": [],
   "source": [
    "from matplotlib import pyplot as plt\n",
    "import numpy as np\n",
    "import scipy as sp\n",
    "import networkx as nx\n",
    "\n",
    "%matplotlib inline"
   ]
  },
  {
   "cell_type": "markdown",
   "metadata": {},
   "source": [
    "---\n",
    "Let's say we want to represent the situation in a film of CNT as a mathematical graph (with nodes and lines). Make some simplifying assumptions:\n",
    "1. There is a resistance at each **node** (this corresponds with our greatly simplified picture of the physical reality)\n",
    "2. There is no resistance in the lines; just in the connections\n",
    "3. Each CNT intersects with exactly two others\n",
    "\n",
    "Developing this idea:\n",
    "* There are only ever two CNT involved at each node, meaning maximum four lines connected to the node.\n",
    "    * Problem: resistance should be zero when staying on the same CNT but not zero when jumping from one to another.\n",
    "    \n",
    "\n",
    "Oh goodness this is very complex.\n",
    "\n",
    "Ok figure that out later, let's code *something*. \n",
    "\n",
    "\n",
    "[Wikipedia: Nodal Analysis](https://en.wikipedia.org/wiki/Nodal_analysis)\n",
    "\n",
    "Nodal analysis is based on Kirchhoff's Current Law, which says the sum of currents at a node is zero. Note positive currents come toward the node and negative currents go away from the node.\n",
    "$$V=IR$$\n",
    "$$I = \\frac{V}{R}$$\n"
   ]
  },
  {
   "cell_type": "markdown",
   "metadata": {},
   "source": [
    "Sample network\n",
    "\n",
    "![img](https://dl2.pushbulletusercontent.com/vbQLyBgJMAF46sICGIOBqQGxrFnbvJFe/IMG_8700.JPG)"
   ]
  },
  {
   "cell_type": "code",
   "execution_count": null,
   "metadata": {
    "collapsed": true
   },
   "outputs": [],
   "source": []
  },
  {
   "cell_type": "code",
   "execution_count": 2,
   "metadata": {
    "collapsed": true
   },
   "outputs": [],
   "source": [
    "#nx.draw(example_graph, with_labels=True, font_weight='bold')"
   ]
  },
  {
   "cell_type": "code",
   "execution_count": 3,
   "metadata": {
    "collapsed": true
   },
   "outputs": [],
   "source": [
    "# We will use the wonderfully useful library networkx to allow us\n",
    "# to represent graphs in a nice way.\n",
    "\n",
    "example_graph = nx.Graph()\n",
    "example_graph.clear()\n",
    "example_graph.add_nodes_from(list(\"ABCDEF\"), current=0.) # initialize with all current = 0.\n",
    "edges = [\n",
    "    ('A', 'B', {'resistance': 10.}),\n",
    "    ('A', 'C', {'resistance': 1.}),\n",
    "    ('B', 'C', {'resistance': 3.}),\n",
    "    ('B', 'D', {'resistance': 100.}),\n",
    "    ('C', 'F', {'resistance': 1.}),\n",
    "    ('D', 'E', {'resistance': 4.}),\n",
    "    ('D', 'F', {'resistance': 1.}),\n",
    "    ('E', 'F', {'resistance': 15.}),\n",
    "]\n",
    "\n",
    "example_graph.add_edges_from(edges)"
   ]
  },
  {
   "cell_type": "code",
   "execution_count": 4,
   "metadata": {
    "collapsed": true
   },
   "outputs": [],
   "source": [
    "# we can assign a current at the two nodes we want to examine,\n",
    "# and leave zero current at the others:\n",
    "\n",
    "\n",
    "def set_currents(graph, check_nodes):\n",
    "    \"\"\"\n",
    "    Takes a graph list of two nodes in that graph.\n",
    "    Sets current of +1A at one of the nodes and -1A at the other\n",
    "    to prepare for nodal analysis. Returns the new graph.\n",
    "    \"\"\"\n",
    "    first_node = True\n",
    "    for node in check_nodes:\n",
    "        try:\n",
    "            if first_node:\n",
    "                graph.nodes[node]['current'] = 1.\n",
    "                first_node = False\n",
    "            else:\n",
    "                graph.nodes[node]['current'] = -1.\n",
    "        except KeyError:\n",
    "            print(\"Illegal node given as start or endpoint!\")\n",
    "            raise\n",
    "    return graph\n"
   ]
  },
  {
   "cell_type": "code",
   "execution_count": 5,
   "metadata": {
    "collapsed": true
   },
   "outputs": [],
   "source": []
  },
  {
   "cell_type": "code",
   "execution_count": 6,
   "metadata": {},
   "outputs": [
    {
     "name": "stdout",
     "output_type": "stream",
     "text": [
      "['A', 'C', 'D']\n",
      "10.0\n",
      "3.0\n",
      "100.0\n"
     ]
    },
    {
     "data": {
      "text/plain": [
       "0.008849557522123894"
      ]
     },
     "execution_count": 6,
     "metadata": {},
     "output_type": "execute_result"
    }
   ],
   "source": [
    "nodei = 'B'\n",
    "neighbors = list(example_graph.neighbors(nodei))\n",
    "print(neighbors)\n",
    "\n",
    "for x in neighbors:\n",
    "    print(example_graph.edges[x,nodei]['resistance'])\n",
    "\n",
    "Gij = 1./sum(example_graph.edges[x,nodei]['resistance'] for x in neighbors)\n",
    "Gij"
   ]
  },
  {
   "cell_type": "markdown",
   "metadata": {},
   "source": [
    "We want to make a matrix in the following form:\n",
    "\n",
    " | | | | \n",
    "---|---|---|---|---\n",
    "G_11|G_12|G_13|...|G_1N\n",
    "G_21|G_22|...|...|G_2N\n",
    "...|...|...|...|...\n",
    "G_N1|G_N2|...|...|G_NN\n",
    "\n",
    "Where in this case we'll use the DC simplification\n",
    "$G=\\frac{1}{R}$\n",
    "\n",
    "And we know $G_{ii}$ is the sum of $G$s connected to node $i$\n",
    "\n",
    "~~And also that $G_{ij}$ is the negative sum of $G$s between $i$ and $j$~~\n",
    "\n",
    "From the paper [\"Modeling percolation...\"](http://www.mdpi.com/1996-1944/8/10/5334), we read that $G_{ij}=0$ except when $i$ and $j$ have a *direct* connection by one resistor. When they do have a direct connection, $G_{ij} = -\\frac{1}{R_{ij}}$\n",
    "\n",
    "(note, this may be a simplification the authors of that paper used[{?}])"
   ]
  },
  {
   "cell_type": "code",
   "execution_count": 7,
   "metadata": {
    "collapsed": true
   },
   "outputs": [],
   "source": [
    "\n",
    "\n",
    "def G_matrix(graph):\n",
    "    \"\"\"\n",
    "    Returns a matrix of the conductances G[i][j], given a networkx graph\n",
    "    whose edges hold resistance data.\n",
    "    \"\"\"\n",
    "    num_nodes = len(graph.nodes)\n",
    "    G = np.zeros((num_nodes, num_nodes))\n",
    "    \n",
    "    i = 0\n",
    "    for nodei in graph:\n",
    "        j = 0\n",
    "        for nodej in graph:\n",
    "            # if the element is on the diagonal, Gjj is the reciprocal\n",
    "            # of the sum of the resistances attached to node j\n",
    "            if i == j:\n",
    "                Gij = 1./sum(graph.edges[x, nodei]['resistance'] for x in list(graph.neighbors(nodei)))\n",
    "                G[i][j] = Gij\n",
    "            # if the element is above the diagonal, Gij is the negative reciprocal\n",
    "            # of Rij (if an edge ij exists). If not, Gij stays 0.\n",
    "            elif i < j:\n",
    "                try:\n",
    "                    Gij = 1./graph.edges[nodei, nodej]['resistance']\n",
    "                    G[i][j] = Gij\n",
    "                except KeyError:\n",
    "                    pass\n",
    "            # if the element is below the diagonal, use symmetry, i.e. Gij = Gji\n",
    "            else:\n",
    "                G[i][j] = G[j][i]\n",
    "            j += 1\n",
    "        i += 1\n",
    "    return G\n"
   ]
  },
  {
   "cell_type": "markdown",
   "metadata": {},
   "source": [
    "To calculate the equivalent resistance between two points in the graph, here's a cno"
   ]
  },
  {
   "cell_type": "code",
   "execution_count": 8,
   "metadata": {
    "collapsed": true
   },
   "outputs": [],
   "source": [
    "########################################################\n",
    "### up to here is what I've refactored into networkx ###\n",
    "########################################################"
   ]
  },
  {
   "cell_type": "code",
   "execution_count": 58,
   "metadata": {
    "collapsed": true
   },
   "outputs": [],
   "source": [
    "def equivalent_resistance(graph, check_nodes):\n",
    "    \"\"\"\n",
    "    Given a graph and a list of two check nodes,\n",
    "    computes the equivalent resistance.\n",
    "    \"\"\"\n",
    "    # put a 1A current at one check node and a -1A current at the other\n",
    "    graph = set_currents(graph, check_nodes)\n",
    "    \n",
    "    # get the matrix of conductances, G[i][j]\n",
    "    G = G_matrix(graph)\n",
    "    \n",
    "    # get the matrix of currents, I\n",
    "    I = np.array(list(graph.nodes[x]['current'] for x in graph.nodes))\n",
    "    \n",
    "    # run np.linalg.solve to get the matrix of voltages\n",
    "    V = np.linalg.solve(G, I)\n",
    "    \n",
    "    print(G)\n",
    "    print(I)\n",
    "    print(V)\n",
    "    \n",
    "    # use a simple numpy operation to compute the equivalent resistance\n",
    "    equivalent_resistance = abs(sum(I*V))\n",
    "    return equivalent_resistance\n",
    "    \n",
    "\n",
    "\n",
    "\n"
   ]
  },
  {
   "cell_type": "code",
   "execution_count": 47,
   "metadata": {},
   "outputs": [
    {
     "name": "stdout",
     "output_type": "stream",
     "text": [
      "Check nodes: ('A', 'B'). The calculated equivalent resistance is 36.28 V\n",
      "Check nodes: ('A', 'C'). The calculated equivalent resistance is 35.01 V\n",
      "Check nodes: ('B', 'C'). The calculated equivalent resistance is 6.02 V\n",
      "Check nodes: ('B', 'D'). The calculated equivalent resistance is 1.59 V\n",
      "Check nodes: ('C', 'F'). The calculated equivalent resistance is 13.34 V\n",
      "Check nodes: ('D', 'E'). The calculated equivalent resistance is 11.07 V\n",
      "Check nodes: ('D', 'F'). The calculated equivalent resistance is 11.07 V\n",
      "Check nodes: ('E', 'F'). The calculated equivalent resistance is 70.43 V\n"
     ]
    }
   ],
   "source": [
    "example_graph = nx.Graph()\n",
    "example_graph.clear()\n",
    "example_graph.add_nodes_from(list(\"ABCDEF\"), current=0.) # initialize with all current = 0.\n",
    "edges = [\n",
    "    ('A', 'B', {'resistance': 10.}),\n",
    "    ('A', 'C', {'resistance': 1.}),\n",
    "    ('B', 'C', {'resistance': 3.}),\n",
    "    ('B', 'D', {'resistance': 100.}),\n",
    "    ('C', 'F', {'resistance': 1.}),\n",
    "    ('D', 'E', {'resistance': 4.}),\n",
    "    ('D', 'F', {'resistance': 1.}),\n",
    "    ('E', 'F', {'resistance': 15.}),\n",
    "]\n",
    "\n",
    "example_graph.add_edges_from(edges)\n",
    "\n",
    "check_nodes = list(\"AF\")\n",
    "check_nodeses = list(example_graph.edges)\n",
    "\n",
    "for cn in check_nodeses:\n",
    "    er = equivalent_resistance(example_graph, cn)\n",
    "    print(\"Check nodes: {}. The calculated equivalent resistance is {:.2f} V\".format(cn, er))"
   ]
  },
  {
   "cell_type": "code",
   "execution_count": null,
   "metadata": {
    "collapsed": true
   },
   "outputs": [],
   "source": []
  },
  {
   "cell_type": "code",
   "execution_count": null,
   "metadata": {
    "collapsed": true
   },
   "outputs": [],
   "source": []
  },
  {
   "cell_type": "markdown",
   "metadata": {},
   "source": [
    "## Procedure for using this on an arbitrary graph of resistors:\n",
    "1. Construct a graph using `graph = nx.Graph()`, `graph.add_nodes_from`, and `graph.add_edges_from`.\n",
    "    * Each node should have a 'current' attribute, set to 0.\n",
    "    * Each edge should have a 'resistance' attribute, set to the resistance of the resistor it represents.\n",
    "    * Syntax:\n",
    "\n",
    "    ```\n",
    "    graph.add_nodes_from([list, of, node, names], current=0.)\n",
    "    ```\n",
    "\n",
    "    ```\n",
    "    graph.add_edges_from([\n",
    "        (node1, node2, {'resistance': 1111.}),\n",
    "        (node1, node2, {'resistance': 1111.}),\n",
    "        (node1, node2, {'resistance': 1111.})\n",
    "            ])\n",
    "    ```\n",
    "\n",
    "2. Define the two nodes between which equivalent resistance will be calculated. Use a two-element list or similar.\n",
    "\n",
    "3. Run `equivalent_resistance(graph, check_nodes)` to get the answer!"
   ]
  },
  {
   "cell_type": "code",
   "execution_count": null,
   "metadata": {
    "collapsed": true
   },
   "outputs": [],
   "source": []
  },
  {
   "cell_type": "code",
   "execution_count": 54,
   "metadata": {},
   "outputs": [
    {
     "name": "stdout",
     "output_type": "stream",
     "text": [
      "16.6821705426\n"
     ]
    },
    {
     "data": {
      "image/png": "[encoded data removed]",
      "text/plain": [
       "<matplotlib.figure.Figure at 0x114597c18>"
      ]
     },
     "metadata": {},
     "output_type": "display_data"
    }
   ],
   "source": [
    "# Now that this seems to work, we should do some testing.\n",
    "\n",
    "graphA = nx.Graph()\n",
    "graphA.clear\n",
    "graphA.add_nodes_from((1,2,3,4), current=0.)\n",
    "edges = [\n",
    "    (1, 2, {'resistance': 2.}),\n",
    "    (4, 2, {'resistance': 1.}),\n",
    "    (1, 3, {'resistance': 3.}),\n",
    "    (3, 4, {'resistance': 3.})\n",
    "]\n",
    "graphA.add_edges_from(edges)\n",
    "\n",
    "check_nodes = (1, 4)\n",
    "\n",
    "eq_r = equivalent_resistance(graphA, check_nodes)\n",
    "print(eq_r)\n",
    "\n",
    "nx.draw(graphA, with_labels=True, font_weight='bold')"
   ]
  },
  {
   "cell_type": "code",
   "execution_count": 63,
   "metadata": {},
   "outputs": [
    {
     "name": "stdout",
     "output_type": "stream",
     "text": [
      "[[ 0.5   0.5   0.    0.  ]\n",
      " [ 0.5   0.25  0.5   0.  ]\n",
      " [ 0.    0.5   0.25  0.5 ]\n",
      " [ 0.    0.    0.5   0.5 ]]\n",
      "[ 1.  0. -1.  0.]\n",
      "[ 6. -4. -4.  4.]\n",
      "10.0\n"
     ]
    },
    {
     "data": {
      "image/png": "[encoded data removed]",
      "text/plain": [
       "<matplotlib.figure.Figure at 0x114a7c5c0>"
      ]
     },
     "metadata": {},
     "output_type": "display_data"
    }
   ],
   "source": [
    "\n",
    "\n",
    "graphB = nx.Graph()\n",
    "graphB.clear\n",
    "graphB.add_nodes_from((1,2,3,4), current=0.)\n",
    "edges = [\n",
    "    (1, 2, {'resistance': 2.}),\n",
    "    (2, 3, {'resistance': 2.}),\n",
    "    (3, 4, {'resistance': 2.})\n",
    "]\n",
    "graphB.add_edges_from(edges)\n",
    "\n",
    "check_nodes = (1, 3)\n",
    "\n",
    "eq_r = equivalent_resistance(graphB, check_nodes)\n",
    "print(eq_r)\n",
    "\n",
    "nx.draw(graphB, with_labels=True, font_weight='bold')"
   ]
  },
  {
   "cell_type": "code",
   "execution_count": null,
   "metadata": {
    "collapsed": true
   },
   "outputs": [],
   "source": [
    "# The two above both fail, and that is a bummer."
   ]
  }
 ],
 "metadata": {
  "kernelspec": {
   "display_name": "Python 3",
   "language": "python",
   "name": "python3"
  },
  "language_info": {
   "codemirror_mode": {
    "name": "ipython",
    "version": 3
   },
   "file_extension": ".py",
   "mimetype": "text/x-python",
   "name": "python",
   "nbconvert_exporter": "python",
   "pygments_lexer": "ipython3",
   "version": "3.6.1"
  }
 },
 "nbformat": 4,
 "nbformat_minor": 2
}
