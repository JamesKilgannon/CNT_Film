{
 "cells": [
  {
   "cell_type": "code",
   "execution_count": 1,
   "metadata": {
    "collapsed": true
   },
   "outputs": [],
   "source": [
    "from matplotlib import pyplot as plt\n",
    "import numpy as np\n",
    "import scipy as sp\n",
    "import networkx as nx\n",
    "\n",
    "%matplotlib inline"
   ]
  },
  {
   "cell_type": "markdown",
   "metadata": {},
   "source": [
    "Sample network\n",
    "\n",
    "![img](https://dl2.pushbulletusercontent.com/vbQLyBgJMAF46sICGIOBqQGxrFnbvJFe/IMG_8700.JPG)"
   ]
  },
  {
   "cell_type": "code",
   "execution_count": null,
   "metadata": {
    "collapsed": true
   },
   "outputs": [],
   "source": []
  },
  {
   "cell_type": "code",
   "execution_count": 2,
   "metadata": {
    "collapsed": true
   },
   "outputs": [],
   "source": [
    "# this will draw the graph to the screen: \n",
    "#nx.draw(example_graph, with_labels=True, font_weight='bold')"
   ]
  },
  {
   "cell_type": "code",
   "execution_count": 3,
   "metadata": {
    "collapsed": true
   },
   "outputs": [],
   "source": [
    "# We will use the wonderfully useful library networkx to allow us\n",
    "# to represent graphs in a nice way.\n",
    "\n",
    "example_graph = nx.Graph()\n",
    "example_graph.clear()\n",
    "example_graph.add_nodes_from(list(\"ABCDEF\"), current=0.) # initialize with all current = 0.\n",
    "edges = [\n",
    "    ('A', 'B', {'resistance': 10.}),\n",
    "    ('A', 'C', {'resistance': 1.}),\n",
    "    ('B', 'C', {'resistance': 3.}),\n",
    "    ('B', 'D', {'resistance': 100.}),\n",
    "    ('C', 'F', {'resistance': 1.}),\n",
    "    ('D', 'E', {'resistance': 4.}),\n",
    "    ('D', 'F', {'resistance': 1.}),\n",
    "    ('E', 'F', {'resistance': 15.}),\n",
    "]\n",
    "\n",
    "example_graph.add_edges_from(edges)"
   ]
  },
  {
   "cell_type": "raw",
   "metadata": {},
   "source": [
    "# Scratch work to improve efficiency of G matrix function\n",
    "\n",
    "# This works to make everything except the diagonal\n",
    "for node1, node2 in example_graph.edges():\n",
    "    example_graph[node1][node2]['reciprocalR'] = 1.0 / example_graph[node1][node2]['resistance']\n",
    "    print(\"{}{}\".format(node1, node2))\n",
    "    \n",
    "GGG = nx.adjacency_matrix(example_graph, weight='reciprocalR')\n",
    "# for the diagonal\n",
    "GGG.setdiag(np.squeeze(np.asarray(-nx.incidence_matrix(example_graph, \n",
    "                                                      weight='reciprocalR').sum(axis=1))))\n",
    "\n",
    "\n",
    "\n",
    "\n",
    "\n",
    "\n",
    "\n",
    "print(\"GGG\")\n",
    "print(GGG.todense())\n",
    "print(\"old fct\")\n",
    "print(G_matrix(example_graph))"
   ]
  },
  {
   "cell_type": "code",
   "execution_count": null,
   "metadata": {
    "collapsed": true
   },
   "outputs": [],
   "source": []
  },
  {
   "cell_type": "code",
   "execution_count": 4,
   "metadata": {},
   "outputs": [
    {
     "name": "stdout",
     "output_type": "stream",
     "text": [
      "['A', 'C', 'D']\n",
      "10.0\n",
      "3.0\n",
      "100.0\n"
     ]
    },
    {
     "data": {
      "text/plain": [
       "0.008849557522123894"
      ]
     },
     "execution_count": 4,
     "metadata": {},
     "output_type": "execute_result"
    }
   ],
   "source": [
    "nodei = 'B'\n",
    "neighbors = list(example_graph.neighbors(nodei))\n",
    "print(neighbors)\n",
    "\n",
    "for x in neighbors:\n",
    "    print(example_graph.edges[x,nodei]['resistance'])\n",
    "\n",
    "Gij = 1./sum(example_graph.edges[x,nodei]['resistance'] for x in neighbors)\n",
    "Gij"
   ]
  },
  {
   "cell_type": "markdown",
   "metadata": {},
   "source": [
    "We want to make a matrix in the following form:\n",
    "\n",
    " | | | | \n",
    "---|---|---|---|---\n",
    "G_11|G_12|G_13|...|G_1N\n",
    "G_21|G_22|...|...|G_2N\n",
    "...|...|...|...|...\n",
    "G_N1|G_N2|...|...|G_NN\n",
    "\n",
    "Where in this case we'll use the DC simplification\n",
    "$G=\\frac{1}{R}$\n",
    "\n",
    "And we know $G_{ii}$ is the sum of $G$s connected to node $i$\n",
    "\n",
    "~~And also that $G_{ij}$ is the negative sum of $G$s between $i$ and $j$~~\n",
    "\n",
    "From the paper [\"Modeling percolation...\"](http://www.mdpi.com/1996-1944/8/10/5334), we read that $G_{ij}=0$ except when $i$ and $j$ have a *direct* connection by one resistor. When they do have a direct connection, $G_{ij} = -\\frac{1}{R_{ij}}$\n",
    "\n",
    "(note, this may be a simplification the authors of that paper used[{?}])"
   ]
  },
  {
   "cell_type": "raw",
   "metadata": {
    "collapsed": true
   },
   "source": [
    "# old (but almost definitely works) G matrix function\n",
    "\n",
    "def G_matrix(graph):\n",
    "    \"\"\"\n",
    "    Returns a matrix of the conductances G[i][j], given a networkx graph\n",
    "    whose edges hold resistance data.\n",
    "    \"\"\"\n",
    "    num_nodes = len(graph.nodes)\n",
    "    G = np.zeros((num_nodes, num_nodes))\n",
    "    \n",
    "    i = 0\n",
    "    for nodei in graph:\n",
    "        j = 0\n",
    "        for nodej in graph:\n",
    "            # if the element is on the diagonal, Gjj is \n",
    "            # the sum of the conductances attached to node j\n",
    "            if i == j:\n",
    "                \n",
    "               #should be **negative** sum of conductances:\n",
    "                \n",
    "                Gij = -sum(1./(graph.edges[x, nodei]['resistance']) for x in list(graph.neighbors(nodei)))\n",
    "                \n",
    "                G[i][j] = Gij\n",
    "            # if the element is above the diagonal, Gij is the negative reciprocal\n",
    "            # of Rij (if an edge ij exists). If not, Gij stays 0.\n",
    "            elif i < j:\n",
    "                try:\n",
    "                    Gij = 1./graph.edges[nodei, nodej]['resistance']\n",
    "                    G[i][j] = Gij\n",
    "                except KeyError:\n",
    "                    pass\n",
    "            # if the element is below the diagonal, use symmetry, i.e. Gij = Gji\n",
    "            else:\n",
    "                G[i][j] = G[j][i]\n",
    "            j += 1\n",
    "        i += 1\n",
    "    return G\n"
   ]
  },
  {
   "cell_type": "code",
   "execution_count": 5,
   "metadata": {
    "collapsed": true
   },
   "outputs": [],
   "source": [
    "def set_currents(graph, check_nodes):\n",
    "    \"\"\"\n",
    "    Takes a graph list of two nodes in that graph.\n",
    "    Sets current of +1A at one of the nodes and -1A at the other\n",
    "    to prepare for nodal analysis. Returns the new graph.\n",
    "    \"\"\"\n",
    "    graph_with_currents = graph.copy()\n",
    "    \n",
    "    first_node = True\n",
    "    for node in check_nodes:\n",
    "        try:\n",
    "            if first_node:\n",
    "                graph_with_currents.nodes[node]['current'] = 1.\n",
    "                first_node = False\n",
    "            else:\n",
    "                graph_with_currents.nodes[node]['current'] = -1.\n",
    "        except KeyError:\n",
    "            print(\"Illegal node given as start or endpoint!\")\n",
    "            raise\n",
    "    return graph_with_currents"
   ]
  },
  {
   "cell_type": "code",
   "execution_count": 6,
   "metadata": {
    "collapsed": true
   },
   "outputs": [],
   "source": [
    "# re-done G matrix function\n",
    "def G_matrix(graph):\n",
    "    \"\"\"\n",
    "    Returns a matrix of the conductances G[i][j], given a networkx graph\n",
    "    whose edges hold resistance data.\n",
    "    \"\"\"\n",
    "    # This works to make everything except the diagonal\n",
    "    for node1, node2 in graph.edges():\n",
    "        graph[node1][node2]['reciprocalR'] = 1.0 / graph[node1][node2]['resistance']\n",
    "\n",
    "    G = nx.adjacency_matrix(graph, weight='reciprocalR')\n",
    "    # for the diagonal\n",
    "    G.setdiag(np.squeeze(np.asarray(-nx.incidence_matrix(graph, \n",
    "                                                          weight='reciprocalR').sum(axis=1))))\n",
    "    return G.toarray()"
   ]
  },
  {
   "cell_type": "markdown",
   "metadata": {},
   "source": [
    "To calculate the equivalent resistance between two points in the graph, here's a cno"
   ]
  },
  {
   "cell_type": "code",
   "execution_count": 7,
   "metadata": {
    "collapsed": true
   },
   "outputs": [],
   "source": [
    "def equivalent_resistance(graph, check_nodes):\n",
    "    \"\"\"\n",
    "    Given a graph and a list of two check nodes,\n",
    "    computes the equivalent resistance.\n",
    "    \"\"\"\n",
    "    graph_with_currents = graph.copy()\n",
    "    # put a 1A current at one check node and a -1A current at the other\n",
    "    graph_with_currents = set_currents(graph_with_currents, check_nodes)\n",
    "    \n",
    "    # get the matrix of conductances, G[i][j]\n",
    "    G = G_matrix(graph)\n",
    "    \n",
    "    # get the matrix of currents, I\n",
    "    I = np.array(list(graph_with_currents.nodes[x]['current'] for x in graph_with_currents.nodes))\n",
    "  \n",
    "\n",
    "    print(G)\n",
    "    print(I)\n",
    "\n",
    "    # run np.linalg.solve to get the matrix of voltages\n",
    "    try:\n",
    "        V = np.linalg.solve(G, I)\n",
    "        print(V)\n",
    "        \n",
    "            # use a simple numpy operation to compute the equivalent resistance\n",
    "        equivalent_resistance = abs(sum(I*V))\n",
    "        return equivalent_resistance\n",
    "    except:\n",
    "        print(\"Error! Could not solve the matrix equation, possibly because the G-matrix is singular\")\n",
    "        raise\n",
    "    \n",
    "\n",
    "    \n",
    "\n",
    "\n",
    "\n"
   ]
  },
  {
   "cell_type": "code",
   "execution_count": 8,
   "metadata": {},
   "outputs": [
    {
     "name": "stdout",
     "output_type": "stream",
     "text": [
      "[[-1.1         0.1         1.          0.          0.          0.        ]\n",
      " [ 0.1        -0.44333333  0.33333333  0.01        0.          0.        ]\n",
      " [ 1.          0.33333333 -2.33333333  0.          0.          1.        ]\n",
      " [ 0.          0.01        0.         -1.26        0.25        1.        ]\n",
      " [ 0.          0.          0.          0.25       -0.31666667  0.06666667]\n",
      " [ 0.          0.          1.          1.          0.06666667 -2.06666667]]\n",
      "[ 1. -1.  0.  0.  0.  0.]\n",
      "[-0.02121403  2.79190656  0.69747391  0.73753417  0.73342543  0.71801763]\n",
      "Check nodes: ('A', 'B'). The calculated equivalent resistance is 2.81 ohm\n",
      "[[-1.1         0.1         1.          0.          0.          0.        ]\n",
      " [ 0.1        -0.44333333  0.33333333  0.01        0.          0.        ]\n",
      " [ 1.          0.33333333 -2.33333333  0.          0.          1.        ]\n",
      " [ 0.          0.01        0.         -1.26        0.25        1.        ]\n",
      " [ 0.          0.          0.          0.25       -0.31666667  0.06666667]\n",
      " [ 0.          0.          1.          1.          0.06666667 -2.06666667]]\n",
      "[ 1.  0. -1.  0.  0.  0.]\n",
      "[-1.12011086 -0.40142292 -0.19197965 -0.19598568 -0.1955748  -0.19403402]\n",
      "Check nodes: ('A', 'C'). The calculated equivalent resistance is 0.93 ohm\n",
      "[[-1.1         0.1         1.          0.          0.          0.        ]\n",
      " [ 0.1        -0.44333333  0.33333333  0.01        0.          0.        ]\n",
      " [ 1.          0.33333333 -2.33333333  0.          0.          1.        ]\n",
      " [ 0.          0.01        0.         -1.26        0.25        1.        ]\n",
      " [ 0.          0.          0.          0.25       -0.31666667  0.06666667]\n",
      " [ 0.          0.          1.          1.          0.06666667 -2.06666667]]\n",
      "[ 0.  1. -1.  0.  0.  0.]\n",
      "[-0.97743272 -3.07186537 -0.76798945 -0.81205574 -0.80753612 -0.79058755]\n",
      "Check nodes: ('B', 'C'). The calculated equivalent resistance is 2.30 ohm\n",
      "[[-1.1         0.1         1.          0.          0.          0.        ]\n",
      " [ 0.1        -0.44333333  0.33333333  0.01        0.          0.        ]\n",
      " [ 1.          0.33333333 -2.33333333  0.          0.          1.        ]\n",
      " [ 0.          0.01        0.         -1.26        0.25        1.        ]\n",
      " [ 0.          0.          0.          0.25       -0.31666667  0.06666667]\n",
      " [ 0.          0.          1.          1.          0.06666667 -2.06666667]]\n",
      "[ 0.  1.  0. -1.  0.  0.]\n",
      "[-1.96746473 -4.02183712 -1.76202749  0.10745138 -0.08429004 -0.80332038]\n",
      "Check nodes: ('B', 'D'). The calculated equivalent resistance is 4.13 ohm\n",
      "[[-1.1         0.1         1.          0.          0.          0.        ]\n",
      " [ 0.1        -0.44333333  0.33333333  0.01        0.          0.        ]\n",
      " [ 1.          0.33333333 -2.33333333  0.          0.          1.        ]\n",
      " [ 0.          0.01        0.         -1.26        0.25        1.        ]\n",
      " [ 0.          0.          0.          0.25       -0.31666667  0.06666667]\n",
      " [ 0.          0.          1.          1.          0.06666667 -2.06666667]]\n",
      "[ 0.  0.  1.  0.  0. -1.]\n",
      "[ 0.16575812  0.18630184  0.16370375  1.14500896  1.14692637  1.15411668]\n",
      "Check nodes: ('C', 'F'). The calculated equivalent resistance is 0.99 ohm\n",
      "[[-1.1         0.1         1.          0.          0.          0.        ]\n",
      " [ 0.1        -0.44333333  0.33333333  0.01        0.          0.        ]\n",
      " [ 1.          0.33333333 -2.33333333  0.          0.          1.        ]\n",
      " [ 0.          0.01        0.         -1.26        0.25        1.        ]\n",
      " [ 0.          0.          0.          0.25       -0.31666667  0.06666667]\n",
      " [ 0.          0.          1.          1.          0.06666667 -2.06666667]]\n",
      "[ 0.  0.  0.  1. -1.  0.]\n",
      "[-0.29880922 -0.30291797 -0.29839835 -0.49465939  2.70495713 -0.29648093]\n",
      "Check nodes: ('D', 'E'). The calculated equivalent resistance is 3.20 ohm\n",
      "[[-1.1         0.1         1.          0.          0.          0.        ]\n",
      " [ 0.1        -0.44333333  0.33333333  0.01        0.          0.        ]\n",
      " [ 1.          0.33333333 -2.33333333  0.          0.          1.        ]\n",
      " [ 0.          0.01        0.         -1.26        0.25        1.        ]\n",
      " [ 0.          0.          0.          0.25       -0.31666667  0.06666667]\n",
      " [ 0.          0.          1.          1.          0.06666667 -2.06666667]]\n",
      "[ 0.  0.  0.  1.  0. -1.]\n",
      "[ 0.92150363  0.9019871   0.92345529 -0.00878466  0.18939379  0.93256301]\n",
      "Check nodes: ('D', 'F'). The calculated equivalent resistance is 0.94 ohm\n",
      "[[-1.1         0.1         1.          0.          0.          0.        ]\n",
      " [ 0.1        -0.44333333  0.33333333  0.01        0.          0.        ]\n",
      " [ 1.          0.33333333 -2.33333333  0.          0.          1.        ]\n",
      " [ 0.          0.01        0.         -1.26        0.25        1.        ]\n",
      " [ 0.          0.          0.          0.25       -0.31666667  0.06666667]\n",
      " [ 0.          0.          1.          1.          0.06666667 -2.06666667]]\n",
      "[ 0.  0.  0.  0.  1. -1.]\n",
      "[ 0.97450407  0.95909628  0.97604485  0.24006594 -2.76137212  0.98323515]\n",
      "Check nodes: ('E', 'F'). The calculated equivalent resistance is 3.74 ohm\n"
     ]
    },
    {
     "name": "stderr",
     "output_type": "stream",
     "text": [
      "/Users/mplajer/anaconda/lib/python3.6/site-packages/scipy/sparse/compressed.py:774: SparseEfficiencyWarning: Changing the sparsity structure of a csr_matrix is expensive. lil_matrix is more efficient.\n",
      "  SparseEfficiencyWarning)\n"
     ]
    }
   ],
   "source": [
    "example_graph = nx.Graph()\n",
    "example_graph.clear()\n",
    "example_graph.add_nodes_from(list(\"ABCDEF\"), current=0.) # initialize with all current = 0.\n",
    "edges = [\n",
    "    ('A', 'B', {'resistance': 10.}),\n",
    "    ('A', 'C', {'resistance': 1.}),\n",
    "    ('B', 'C', {'resistance': 3.}),\n",
    "    ('B', 'D', {'resistance': 100.}),\n",
    "    ('C', 'F', {'resistance': 1.}),\n",
    "    ('D', 'E', {'resistance': 4.}),\n",
    "    ('D', 'F', {'resistance': 1.}),\n",
    "    ('E', 'F', {'resistance': 15.}),\n",
    "]\n",
    "\n",
    "example_graph.add_edges_from(edges)\n",
    "\n",
    "check_nodes = list(\"AF\")\n",
    "check_nodeses = list(example_graph.edges)\n",
    "\n",
    "for cn in check_nodeses:\n",
    "    er = equivalent_resistance(example_graph, cn)\n",
    "    print(\"Check nodes: {}. The calculated equivalent resistance is {:.2f} ohm\".format(cn, er))"
   ]
  },
  {
   "cell_type": "code",
   "execution_count": null,
   "metadata": {
    "collapsed": true
   },
   "outputs": [],
   "source": []
  },
  {
   "cell_type": "code",
   "execution_count": null,
   "metadata": {
    "collapsed": true
   },
   "outputs": [],
   "source": []
  },
  {
   "cell_type": "markdown",
   "metadata": {},
   "source": [
    "## Procedure for using this on an arbitrary graph of resistors:\n",
    "1. Construct a graph using `graph = nx.Graph()`, `graph.add_nodes_from`, and `graph.add_edges_from`.\n",
    "    * Each node should have a 'current' attribute, set to 0.\n",
    "    * Each edge should have a 'resistance' attribute, set to the resistance of the resistor it represents.\n",
    "    * Syntax:\n",
    "\n",
    "    ```\n",
    "    graph.add_nodes_from([list, of, node, names], current=0.)\n",
    "    ```\n",
    "\n",
    "    ```\n",
    "    graph.add_edges_from([\n",
    "        (node1, node2, {'resistance': 1111.}),\n",
    "        (node1, node2, {'resistance': 1111.}),\n",
    "        (node1, node2, {'resistance': 1111.})\n",
    "            ])\n",
    "    ```\n",
    "\n",
    "2. Define the two nodes between which equivalent resistance will be calculated. Use a two-element list or similar.\n",
    "\n",
    "3. Run `equivalent_resistance(graph, check_nodes)` to get the answer!"
   ]
  },
  {
   "cell_type": "code",
   "execution_count": 9,
   "metadata": {},
   "outputs": [
    {
     "name": "stdout",
     "output_type": "stream",
     "text": [
      "[[-0.83333333  0.5         0.33333333  0.        ]\n",
      " [ 0.5        -1.5         0.          1.        ]\n",
      " [ 0.33333333  0.         -0.66666667  0.33333333]\n",
      " [ 0.          1.          0.33333333 -1.33333333]]\n",
      "[ 1.  0.  0. -1.]\n",
      "[-1.          0.33333333  0.          1.        ]\n",
      "2.0\n"
     ]
    },
    {
     "name": "stderr",
     "output_type": "stream",
     "text": [
      "/Users/mplajer/anaconda/lib/python3.6/site-packages/scipy/sparse/compressed.py:774: SparseEfficiencyWarning: Changing the sparsity structure of a csr_matrix is expensive. lil_matrix is more efficient.\n",
      "  SparseEfficiencyWarning)\n"
     ]
    },
    {
     "data": {
      "image/png": "[encoded data removed]",
      "text/plain": [
       "<matplotlib.figure.Figure at 0x10b495e48>"
      ]
     },
     "metadata": {},
     "output_type": "display_data"
    }
   ],
   "source": [
    "# Now that this seems to work, we should do some testing.\n",
    "\n",
    "graphA = nx.Graph()\n",
    "graphA.clear\n",
    "graphA.add_nodes_from((1,2,3,4), current=0.)\n",
    "edges = [\n",
    "    (1, 2, {'resistance': 2.}),\n",
    "    (4, 2, {'resistance': 1.}),\n",
    "    (1, 3, {'resistance': 3.}),\n",
    "    (3, 4, {'resistance': 3.})\n",
    "]\n",
    "graphA.add_edges_from(edges)\n",
    "\n",
    "check_nodes = (1, 4)\n",
    "\n",
    "eq_r = equivalent_resistance(graphA, check_nodes)\n",
    "print(eq_r)\n",
    "\n",
    "nx.draw(graphA, with_labels=True, font_weight='bold')"
   ]
  },
  {
   "cell_type": "code",
   "execution_count": 10,
   "metadata": {
    "collapsed": true
   },
   "outputs": [],
   "source": [
    " # that's right. 1/R = 1/3 + 1/6; R = 2"
   ]
  },
  {
   "cell_type": "code",
   "execution_count": 11,
   "metadata": {},
   "outputs": [
    {
     "name": "stdout",
     "output_type": "stream",
     "text": [
      "[[-0.5         0.5         0.          0.          0.        ]\n",
      " [ 0.5        -0.83333333  0.33333333  0.          0.        ]\n",
      " [ 0.          0.33333333 -0.83333333  0.5         0.        ]\n",
      " [ 0.          0.          0.5        -1.          0.5       ]\n",
      " [ 0.          0.          0.          0.5        -0.5       ]]\n",
      "[ 1.  0.  0.  0. -1.]\n",
      "[-3. -1.  2.  4.  6.]\n",
      "9.0\n"
     ]
    },
    {
     "name": "stderr",
     "output_type": "stream",
     "text": [
      "/Users/mplajer/anaconda/lib/python3.6/site-packages/scipy/sparse/compressed.py:774: SparseEfficiencyWarning: Changing the sparsity structure of a csr_matrix is expensive. lil_matrix is more efficient.\n",
      "  SparseEfficiencyWarning)\n"
     ]
    },
    {
     "data": {
      "image/png": "[encoded data removed]",
      "text/plain": [
       "<matplotlib.figure.Figure at 0x10ec23d30>"
      ]
     },
     "metadata": {},
     "output_type": "display_data"
    }
   ],
   "source": [
    "\n",
    "\n",
    "graphB = nx.Graph()\n",
    "graphB.clear\n",
    "graphB.add_nodes_from((1,2,3,4,5), current=0.)\n",
    "edges = [\n",
    "    (1, 2, {'resistance': 2.}),\n",
    "    (2, 3, {'resistance': 3.}),\n",
    "    (3, 4, {'resistance': 2.}),\n",
    "    (4, 5, {'resistance': 2.})\n",
    "]\n",
    "graphB.add_edges_from(edges)\n",
    "\n",
    "check_nodes = (1, 5)\n",
    "\n",
    "nx.draw(graphB, with_labels=True, font_weight='bold')\n",
    "\n",
    "eq_r = equivalent_resistance(graphB, check_nodes)\n",
    "print(eq_r)\n",
    "\n"
   ]
  },
  {
   "cell_type": "code",
   "execution_count": null,
   "metadata": {
    "collapsed": true
   },
   "outputs": [],
   "source": []
  },
  {
   "cell_type": "code",
   "execution_count": 12,
   "metadata": {},
   "outputs": [
    {
     "name": "stderr",
     "output_type": "stream",
     "text": [
      "/Users/mplajer/anaconda/lib/python3.6/site-packages/scipy/sparse/compressed.py:774: SparseEfficiencyWarning: Changing the sparsity structure of a csr_matrix is expensive. lil_matrix is more efficient.\n",
      "  SparseEfficiencyWarning)\n"
     ]
    },
    {
     "name": "stdout",
     "output_type": "stream",
     "text": [
      "[[-2.    1.    1.    0.    0.  ]\n",
      " [ 1.   -2.25  0.25  0.    1.  ]\n",
      " [ 1.    0.25 -2.25  1.    0.  ]\n",
      " [ 0.    0.    1.   -1.    0.  ]\n",
      " [ 0.    1.    0.    0.   -1.  ]]\n",
      "[ 0.  0.  0. -1.  1.]\n",
      "[ 0.41666667 -0.25        1.08333333  2.08333333 -1.25      ]\n",
      "3.33333333333\n"
     ]
    },
    {
     "data": {
      "image/png": "[encoded data removed]",
      "text/plain": [
       "<matplotlib.figure.Figure at 0x10f10b7b8>"
      ]
     },
     "metadata": {},
     "output_type": "display_data"
    }
   ],
   "source": [
    "graphB = nx.Graph()\n",
    "graphB.clear\n",
    "graphB.add_nodes_from((1,2,3,4,'whyy'), current=0.)\n",
    "edges = [\n",
    "    (1, 2, {'resistance': 1.}),\n",
    "    (2, 3, {'resistance': 4.}),\n",
    "    (3, 4, {'resistance': 1.}),\n",
    "    (3, 1, {'resistance': 1.}),\n",
    "    ('whyy', 2, {'resistance': 1.})\n",
    "]\n",
    "graphB.add_edges_from(edges)\n",
    "\n",
    "check_nodes = ('whyy', 4)\n",
    "\n",
    "eq_r = equivalent_resistance(graphB, check_nodes)\n",
    "print(eq_r)\n",
    "\n",
    "nx.draw(graphB, with_labels=True, font_weight='bold')"
   ]
  },
  {
   "cell_type": "code",
   "execution_count": 13,
   "metadata": {
    "collapsed": true
   },
   "outputs": [],
   "source": [
    "# Seems to be ignoring the connection (2,3)"
   ]
  },
  {
   "cell_type": "code",
   "execution_count": 14,
   "metadata": {},
   "outputs": [
    {
     "name": "stderr",
     "output_type": "stream",
     "text": [
      "/Users/mplajer/anaconda/lib/python3.6/site-packages/scipy/sparse/compressed.py:774: SparseEfficiencyWarning: Changing the sparsity structure of a csr_matrix is expensive. lil_matrix is more efficient.\n",
      "  SparseEfficiencyWarning)\n"
     ]
    },
    {
     "name": "stdout",
     "output_type": "stream",
     "text": [
      "[[-0.83333333  0.5         0.33333333  0.          0.        ]\n",
      " [ 0.5        -1.5         0.          1.          0.        ]\n",
      " [ 0.33333333  0.         -0.66666667  0.33333333  0.        ]\n",
      " [ 0.          1.          0.33333333 -2.33333333  1.        ]\n",
      " [ 0.          0.          0.          1.         -1.        ]]\n",
      "[ 1.  0.  0.  0. -1.]\n",
      "[-2.         -0.66666667 -1.          0.          1.        ]\n",
      "3.0\n"
     ]
    },
    {
     "data": {
      "image/png": "[encoded data removed]",
      "text/plain": [
       "<matplotlib.figure.Figure at 0x10f313080>"
      ]
     },
     "metadata": {},
     "output_type": "display_data"
    }
   ],
   "source": [
    "# Now that this seems to work, we should do some testing.\n",
    "\n",
    "graphA = nx.Graph()\n",
    "graphA.clear\n",
    "graphA.add_nodes_from((1,2,3,4,5), current=0.)\n",
    "edges = [\n",
    "    (1, 2, {'resistance': 2.}),\n",
    "    (4, 2, {'resistance': 1.}),\n",
    "    (1, 3, {'resistance': 3.}),\n",
    "    (3, 4, {'resistance': 3.}),\n",
    "    (4, 5, {'resistance': 1.})\n",
    "]\n",
    "graphA.add_edges_from(edges)\n",
    "\n",
    "check_nodes = (1, 5)\n",
    "\n",
    "eq_r = equivalent_resistance(graphA, check_nodes)\n",
    "print(eq_r)\n",
    "\n",
    "nx.draw(graphA, with_labels=True, font_weight='bold')"
   ]
  },
  {
   "cell_type": "markdown",
   "metadata": {
    "collapsed": true
   },
   "source": [
    "# still to do:\n",
    "\n",
    "Check on those warnings; figure out whether lil_matrix is better?"
   ]
  },
  {
   "cell_type": "code",
   "execution_count": null,
   "metadata": {
    "collapsed": true
   },
   "outputs": [],
   "source": []
  }
 ],
 "metadata": {
  "kernelspec": {
   "display_name": "Python 3",
   "language": "python",
   "name": "python3"
  },
  "language_info": {
   "codemirror_mode": {
    "name": "ipython",
    "version": 3
   },
   "file_extension": ".py",
   "mimetype": "text/x-python",
   "name": "python",
   "nbconvert_exporter": "python",
   "pygments_lexer": "ipython3",
   "version": "3.6.1"
  }
 },
 "nbformat": 4,
 "nbformat_minor": 2
}
