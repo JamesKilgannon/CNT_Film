{
 "cells": [
  {
   "cell_type": "code",
   "execution_count": 1,
   "metadata": {
    "collapsed": true
   },
   "outputs": [],
   "source": [
    "from matplotlib import pyplot as plt\n",
    "import numpy as np\n",
    "import scipy as sp\n",
    "import networkx as nx\n",
    "\n",
    "%matplotlib inline"
   ]
  },
  {
   "cell_type": "markdown",
   "metadata": {},
   "source": [
    "Sample network\n",
    "\n",
    "![img](https://dl2.pushbulletusercontent.com/vbQLyBgJMAF46sICGIOBqQGxrFnbvJFe/IMG_8700.JPG)"
   ]
  },
  {
   "cell_type": "code",
   "execution_count": null,
   "metadata": {
    "collapsed": true
   },
   "outputs": [],
   "source": []
  },
  {
   "cell_type": "code",
   "execution_count": 2,
   "metadata": {
    "collapsed": true
   },
   "outputs": [],
   "source": [
    "# this will draw the graph to the screen: \n",
    "#nx.draw(example_graph, with_labels=True, font_weight='bold')"
   ]
  },
  {
   "cell_type": "code",
   "execution_count": 3,
   "metadata": {
    "collapsed": true
   },
   "outputs": [],
   "source": [
    "# We will use the wonderfully useful library networkx to allow us\n",
    "# to represent graphs in a nice way.\n",
    "\n",
    "example_graph = nx.Graph()\n",
    "example_graph.clear()\n",
    "example_graph.add_nodes_from(list(\"ABCDEF\"), current=0.) # initialize with all current = 0.\n",
    "edges = [\n",
    "    ('A', 'B', {'resistance': 10.}),\n",
    "    ('A', 'C', {'resistance': 1.}),\n",
    "    ('B', 'C', {'resistance': 3.}),\n",
    "    ('B', 'D', {'resistance': 100.}),\n",
    "    ('C', 'F', {'resistance': 1.}),\n",
    "    ('D', 'E', {'resistance': 4.}),\n",
    "    ('D', 'F', {'resistance': 1.}),\n",
    "    ('E', 'F', {'resistance': 15.}),\n",
    "]\n",
    "\n",
    "example_graph.add_edges_from(edges)"
   ]
  },
  {
   "cell_type": "code",
   "execution_count": 4,
   "metadata": {
    "collapsed": true
   },
   "outputs": [],
   "source": [
    "# we can assign a current at the two nodes we want to examine,\n",
    "# and leave zero current at the others:\n",
    "\n",
    "\n",
    "def set_currents(graph, check_nodes):\n",
    "    \"\"\"\n",
    "    Takes a graph list of two nodes in that graph.\n",
    "    Sets current of +1A at one of the nodes and -1A at the other\n",
    "    to prepare for nodal analysis. Returns the new graph.\n",
    "    \"\"\"\n",
    "    graph_with_currents = graph.copy()\n",
    "    \n",
    "    first_node = True\n",
    "    for node in check_nodes:\n",
    "        try:\n",
    "            if first_node:\n",
    "                graph_with_currents.nodes[node]['current'] = 1.\n",
    "                first_node = False\n",
    "            else:\n",
    "                graph_with_currents.nodes[node]['current'] = -1.\n",
    "        except KeyError:\n",
    "            print(\"Illegal node given as start or endpoint!\")\n",
    "            raise\n",
    "    return graph_with_currents\n"
   ]
  },
  {
   "cell_type": "code",
   "execution_count": null,
   "metadata": {},
   "outputs": [],
   "source": []
  },
  {
   "cell_type": "code",
   "execution_count": 5,
   "metadata": {},
   "outputs": [
    {
     "name": "stdout",
     "output_type": "stream",
     "text": [
      "['A', 'C', 'D']\n",
      "10.0\n",
      "3.0\n",
      "100.0\n"
     ]
    },
    {
     "data": {
      "text/plain": [
       "0.008849557522123894"
      ]
     },
     "execution_count": 5,
     "metadata": {},
     "output_type": "execute_result"
    }
   ],
   "source": [
    "nodei = 'B'\n",
    "neighbors = list(example_graph.neighbors(nodei))\n",
    "print(neighbors)\n",
    "\n",
    "for x in neighbors:\n",
    "    print(example_graph.edges[x,nodei]['resistance'])\n",
    "\n",
    "Gij = 1./sum(example_graph.edges[x,nodei]['resistance'] for x in neighbors)\n",
    "Gij"
   ]
  },
  {
   "cell_type": "markdown",
   "metadata": {},
   "source": [
    "We want to make a matrix in the following form:\n",
    "\n",
    " | | | | \n",
    "---|---|---|---|---\n",
    "G_11|G_12|G_13|...|G_1N\n",
    "G_21|G_22|...|...|G_2N\n",
    "...|...|...|...|...\n",
    "G_N1|G_N2|...|...|G_NN\n",
    "\n",
    "Where in this case we'll use the DC simplification\n",
    "$G=\\frac{1}{R}$\n",
    "\n",
    "And we know $G_{ii}$ is the sum of $G$s connected to node $i$\n",
    "\n",
    "~~And also that $G_{ij}$ is the negative sum of $G$s between $i$ and $j$~~\n",
    "\n",
    "From the paper [\"Modeling percolation...\"](http://www.mdpi.com/1996-1944/8/10/5334), we read that $G_{ij}=0$ except when $i$ and $j$ have a *direct* connection by one resistor. When they do have a direct connection, $G_{ij} = -\\frac{1}{R_{ij}}$\n",
    "\n",
    "(note, this may be a simplification the authors of that paper used[{?}])"
   ]
  },
  {
   "cell_type": "code",
   "execution_count": 6,
   "metadata": {
    "collapsed": true
   },
   "outputs": [],
   "source": [
    "\n",
    "\n",
    "def G_matrix(graph):\n",
    "    \"\"\"\n",
    "    Returns a matrix of the conductances G[i][j], given a networkx graph\n",
    "    whose edges hold resistance data.\n",
    "    \"\"\"\n",
    "    num_nodes = len(graph.nodes)\n",
    "    G = np.zeros((num_nodes, num_nodes))\n",
    "    \n",
    "    i = 0\n",
    "    for nodei in graph:\n",
    "        j = 0\n",
    "        for nodej in graph:\n",
    "            # if the element is on the diagonal, Gjj is \n",
    "            # the sum of the conductances attached to node j\n",
    "            if i == j:\n",
    "                \n",
    "                #wrong:\n",
    "                #Gij = 1./sum(graph.edges[x, nodei]['resistance'] for x in list(graph.neighbors(nodei)))\n",
    "                \n",
    "                #should be sum of conductances:\n",
    "                \n",
    "                Gij = sum(1./(graph.edges[x, nodei]['resistance']) for x in list(graph.neighbors(nodei)))\n",
    "                \n",
    "                G[i][j] = Gij\n",
    "            # if the element is above the diagonal, Gij is the negative reciprocal\n",
    "            # of Rij (if an edge ij exists). If not, Gij stays 0.\n",
    "            elif i < j:\n",
    "                try:\n",
    "                    Gij = 1./graph.edges[nodei, nodej]['resistance']\n",
    "                    G[i][j] = Gij\n",
    "                except KeyError:\n",
    "                    pass\n",
    "            # if the element is below the diagonal, use symmetry, i.e. Gij = Gji\n",
    "            else:\n",
    "                G[i][j] = G[j][i]\n",
    "            j += 1\n",
    "        i += 1\n",
    "    return G\n"
   ]
  },
  {
   "cell_type": "markdown",
   "metadata": {},
   "source": [
    "To calculate the equivalent resistance between two points in the graph, here's a cno"
   ]
  },
  {
   "cell_type": "code",
   "execution_count": 18,
   "metadata": {
    "collapsed": true
   },
   "outputs": [],
   "source": [
<<<<<<< HEAD
=======
    "########################################################\n",
    "### up to here is what I've refactored into networkx ###\n",
    "########################################################"
   ]
  },
  {
   "cell_type": "code",
   "execution_count": 58,
   "metadata": {
    "collapsed": true
   },
   "outputs": [],
   "source": [
>>>>>>> f78b050c6acc35e3eaedfd6151a8cac7a4e0a4d2
    "def equivalent_resistance(graph, check_nodes):\n",
    "    \"\"\"\n",
    "    Given a graph and a list of two check nodes,\n",
    "    computes the equivalent resistance.\n",
    "    \"\"\"\n",
    "    graph_with_currents = graph.copy()\n",
    "    # put a 1A current at one check node and a -1A current at the other\n",
    "    graph_with_currents = set_currents(graph_with_currents, check_nodes)\n",
    "    \n",
    "    # get the matrix of conductances, G[i][j]\n",
    "    G = G_matrix(graph)\n",
    "    \n",
    "    # get the matrix of currents, I\n",
    "    I = np.array(list(graph_with_currents.nodes[x]['current'] for x in graph_with_currents.nodes))\n",
    "  \n",
    "\n",
    "    print(G)\n",
    "    print(I)\n",
    "\n",
    "    # run np.linalg.solve to get the matrix of voltages\n",
    "    try:\n",
    "        V = np.linalg.solve(G, I)\n",
    "        print(V)\n",
    "        \n",
    "            # use a simple numpy operation to compute the equivalent resistance\n",
    "        equivalent_resistance = abs(sum(I*V))\n",
    "        return equivalent_resistance\n",
    "    except:\n",
    "        print(\"Error! Could not solve the matrix equation, possibly because the G-matrix is singular\")\n",
    "        raise\n",
    "    \n",
    "\n",
    "    \n",
    "\n",
    "\n",
    "\n"
   ]
  },
  {
   "cell_type": "code",
   "execution_count": 8,
   "metadata": {},
   "outputs": [
    {
     "name": "stdout",
     "output_type": "stream",
     "text": [
      "[[ 1.1         0.1         1.          0.          0.          0.        ]\n",
      " [ 0.1         0.44333333  0.33333333  0.01        0.          0.        ]\n",
      " [ 1.          0.33333333  2.33333333  0.          0.          1.        ]\n",
      " [ 0.          0.01        0.          1.26        0.25        1.        ]\n",
      " [ 0.          0.          0.          0.25        0.31666667  0.06666667]\n",
      " [ 0.          0.          1.          1.          0.06666667  2.06666667]]\n",
      "[ 1. -1.  0.  0.  0.  0.]\n",
      "[ 1.66995448 -2.15553869 -0.62139605 -0.42412747  0.22989378  0.49848255]\n",
      "Check nodes: ('A', 'B'). The calculated equivalent resistance is 3.83 V\n",
      "[[ 1.1         0.1         1.          0.          0.          0.        ]\n",
      " [ 0.1         0.44333333  0.33333333  0.01        0.          0.        ]\n",
      " [ 1.          0.33333333  2.33333333  0.          0.          1.        ]\n",
      " [ 0.          0.01        0.          1.26        0.25        1.        ]\n",
      " [ 0.          0.          0.          0.25        0.31666667  0.06666667]\n",
      " [ 0.          0.          1.          1.          0.06666667  2.06666667]]\n",
      "[ 1.  0. -1.  0.  0.  0.]\n",
      "[ 4.44233687  2.15098634 -4.1016692  -3.06145675  1.69878604  3.41122914]\n",
      "Check nodes: ('A', 'C'). The calculated equivalent resistance is 8.54 V\n",
      "[[ 1.1         0.1         1.          0.          0.          0.        ]\n",
      " [ 0.1         0.44333333  0.33333333  0.01        0.          0.        ]\n",
      " [ 1.          0.33333333  2.33333333  0.          0.          1.        ]\n",
      " [ 0.          0.01        0.          1.26        0.25        1.        ]\n",
      " [ 0.          0.          0.          0.25        0.31666667  0.06666667]\n",
      " [ 0.          0.          1.          1.          0.06666667  2.06666667]]\n",
      "[ 0.  1. -1.  0.  0.  0.]\n",
      "[ 2.7723824   4.30652504 -3.48027314 -2.63732929  1.46889226  2.91274659]\n",
      "Check nodes: ('B', 'C'). The calculated equivalent resistance is 7.79 V\n",
      "[[ 1.1         0.1         1.          0.          0.          0.        ]\n",
      " [ 0.1         0.44333333  0.33333333  0.01        0.          0.        ]\n",
      " [ 1.          0.33333333  2.33333333  0.          0.          1.        ]\n",
      " [ 0.          0.01        0.          1.26        0.25        1.        ]\n",
      " [ 0.          0.          0.          0.25        0.31666667  0.06666667]\n",
      " [ 0.          0.          1.          1.          0.06666667  2.06666667]]\n",
      "[ 0.  1.  0. -1.  0.  0.]\n",
      "[ 2.29059181  4.02200303 -2.92185129 -3.81967628  2.34471421  3.18639353]\n",
      "Check nodes: ('B', 'D'). The calculated equivalent resistance is 7.84 V\n",
      "[[ 1.1         0.1         1.          0.          0.          0.        ]\n",
      " [ 0.1         0.44333333  0.33333333  0.01        0.          0.        ]\n",
      " [ 1.          0.33333333  2.33333333  0.          0.          1.        ]\n",
      " [ 0.          0.01        0.          1.26        0.25        1.        ]\n",
      " [ 0.          0.          0.          0.25        0.31666667  0.06666667]\n",
      " [ 0.          0.          1.          1.          0.06666667  2.06666667]]\n",
      "[ 0.  0.  1.  0.  0. -1.]\n",
      "[-3.46585736 -2.34597876  4.04704097  3.76226606 -2.08700051 -4.19524532]\n",
      "Check nodes: ('C', 'F'). The calculated equivalent resistance is 8.24 V\n",
      "[[ 1.1         0.1         1.          0.          0.          0.        ]\n",
      " [ 0.1         0.44333333  0.33333333  0.01        0.          0.        ]\n",
      " [ 1.          0.33333333  2.33333333  0.          0.          1.        ]\n",
      " [ 0.          0.01        0.          1.26        0.25        1.        ]\n",
      " [ 0.          0.          0.          0.25        0.31666667  0.06666667]\n",
      " [ 0.          0.          1.          1.          0.06666667  2.06666667]]\n",
      "[ 0.  0.  0.  1. -1.  0.]\n",
      "[-2.19347496 -1.53945372  2.56676783  4.62493677 -6.11810824 -3.28249874]\n",
      "Check nodes: ('D', 'E'). The calculated equivalent resistance is 10.74 V\n",
      "[[ 1.1         0.1         1.          0.          0.          0.        ]\n",
      " [ 0.1         0.44333333  0.33333333  0.01        0.          0.        ]\n",
      " [ 1.          0.33333333  2.33333333  0.          0.          1.        ]\n",
      " [ 0.          0.01        0.          1.26        0.25        1.        ]\n",
      " [ 0.          0.          0.          0.25        0.31666667  0.06666667]\n",
      " [ 0.          0.          1.          1.          0.06666667  2.06666667]]\n",
      "[ 0.  0.  0.  1.  0. -1.]\n",
      "[-2.98406677 -2.06145675  3.48861912  4.94461305 -2.96282246 -4.46889226]\n",
      "Check nodes: ('D', 'F'). The calculated equivalent resistance is 9.41 V\n",
      "[[ 1.1         0.1         1.          0.          0.          0.        ]\n",
      " [ 0.1         0.44333333  0.33333333  0.01        0.          0.        ]\n",
      " [ 1.          0.33333333  2.33333333  0.          0.          1.        ]\n",
      " [ 0.          0.01        0.          1.26        0.25        1.        ]\n",
      " [ 0.          0.          0.          0.25        0.31666667  0.06666667]\n",
      " [ 0.          0.          1.          1.          0.06666667  2.06666667]]\n",
      "[ 0.  0.  0.  0.  1. -1.]\n",
      "[-0.79059181 -0.52200303  0.92185129  0.31967628  3.15528579 -1.18639353]\n",
      "Check nodes: ('E', 'F'). The calculated equivalent resistance is 4.34 V\n"
     ]
    }
   ],
   "source": [
    "example_graph = nx.Graph()\n",
    "example_graph.clear()\n",
    "example_graph.add_nodes_from(list(\"ABCDEF\"), current=0.) # initialize with all current = 0.\n",
    "edges = [\n",
    "    ('A', 'B', {'resistance': 10.}),\n",
    "    ('A', 'C', {'resistance': 1.}),\n",
    "    ('B', 'C', {'resistance': 3.}),\n",
    "    ('B', 'D', {'resistance': 100.}),\n",
    "    ('C', 'F', {'resistance': 1.}),\n",
    "    ('D', 'E', {'resistance': 4.}),\n",
    "    ('D', 'F', {'resistance': 1.}),\n",
    "    ('E', 'F', {'resistance': 15.}),\n",
    "]\n",
    "\n",
    "example_graph.add_edges_from(edges)\n",
    "\n",
    "check_nodes = list(\"AF\")\n",
    "check_nodeses = list(example_graph.edges)\n",
    "\n",
    "for cn in check_nodeses:\n",
    "    er = equivalent_resistance(example_graph, cn)\n",
    "    print(\"Check nodes: {}. The calculated equivalent resistance is {:.2f} V\".format(cn, er))"
   ]
  },
  {
   "cell_type": "code",
   "execution_count": null,
   "metadata": {
    "collapsed": true
   },
   "outputs": [],
   "source": []
  },
  {
   "cell_type": "code",
   "execution_count": null,
   "metadata": {
    "collapsed": true
   },
   "outputs": [],
   "source": []
  },
  {
   "cell_type": "markdown",
   "metadata": {},
   "source": [
    "## Procedure for using this on an arbitrary graph of resistors:\n",
    "1. Construct a graph using `graph = nx.Graph()`, `graph.add_nodes_from`, and `graph.add_edges_from`.\n",
    "    * Each node should have a 'current' attribute, set to 0.\n",
    "    * Each edge should have a 'resistance' attribute, set to the resistance of the resistor it represents.\n",
    "    * Syntax:\n",
    "\n",
    "    ```\n",
    "    graph.add_nodes_from([list, of, node, names], current=0.)\n",
    "    ```\n",
    "\n",
    "    ```\n",
    "    graph.add_edges_from([\n",
    "        (node1, node2, {'resistance': 1111.}),\n",
    "        (node1, node2, {'resistance': 1111.}),\n",
    "        (node1, node2, {'resistance': 1111.})\n",
    "            ])\n",
    "    ```\n",
    "\n",
    "2. Define the two nodes between which equivalent resistance will be calculated. Use a two-element list or similar.\n",
    "\n",
    "3. Run `equivalent_resistance(graph, check_nodes)` to get the answer!"
   ]
  },
  {
   "cell_type": "code",
   "execution_count": 35,
   "metadata": {},
   "outputs": [
    {
     "name": "stdout",
     "output_type": "stream",
     "text": [
      "[[ 0.83333333  0.5         0.33333333  0.        ]\n",
      " [ 0.5         1.5         0.          1.        ]\n",
      " [ 0.33333333  0.          0.66666667  0.33333333]\n",
      " [ 0.          1.          0.33333333  1.33333333]]\n",
      "[ 1.  0.  0. -1.]\n",
      "[ 1.          0.33333333  0.         -1.        ]\n",
      "2.0\n"
     ]
    },
    {
     "data": {
      "image/png": "iVBORw0KGgoAAAANSUhEUgAAAeEAAAFCCAYAAADGwmVOAAAABHNCSVQICAgIfAhkiAAAAAlwSFlz\nAAALEgAACxIB0t1+/AAAIABJREFUeJzt3Xl01fWd//FXWJMAArLJmgVCICHbDahYRZApFLQqSzvi\nMmIterAU7BQ69ZyxnWmt9Dd1xiQIESyIVBYdoYyKSGlHwLEFQ0LIAiRASNiiAYSwZCHL9/fHJZSb\nC/ey3JvPXZ6PcziS5N7LK+rhlc/3fj7vb4hlWZYAAECLa2U6AAAAwYoSBgDAEEoYAABDKGEAAAyh\nhAEAMIQSBgDAEEoYAABDKGEAAAyhhAEAMIQSBgDAEEoYAABDKGEAAAyhhAEAMIQSBgDAEEoYAABD\nKGEAAAyhhAEAMIQSBgDAEEoYAABDKGEAAAyhhAEAMIQSBgDAEEoYAABDKGEAAAyhhAEAMKSN6QAI\nAhUV0vLlUl6eVFkpde4sJSZKzzwj9ehhOh0AGBNiWZZlOgQCVFaWNH++tHGj/eOamr9/LSxMsixp\nwgTppZekESPMZAQAgyhheEdmpjR3rlRdbS/bawkJsRfya69JM2e2XD4A8AFcjobnNRVwVZX7x1qW\n/XFz59o/pogBBBE2ZsGzsrKcCjhNUqKk1pJCJP3b1Z7XVMQ7d7ZESgDwCZQwPGv+fPsl6CtkS7pd\nUn93z62utj8fAIIEJQzPqaiwb8Jq9h7wHyRtkZTs7vmWJX3yiXTihHfyAYCPoYThOcuX3/prhIR4\n5nUAwA9QwvCcvDzHY0g3o7pays/3TB4A8HGUMDynstIzr3P6tGdeBwB8HEeU4DmdO3vkZT7+4gv9\n8dlnlZqaKpvNpsTERIWHh3vktQHAl1DC8JzERGntWqdL0r+X9H+Sci59vF5SqaRHL/26khUaqsQn\nntDR+HhlZ2dr6dKl2rt3r6Kjoy+Xss1mU3Jysjp16uTlbwgAvIuJWfCcigopIsKphKdLeucqD/+l\nrnJmODRUOnzYYab0xYsXVVhYqJycHGVnZysnJ0f5+fnq37//5VK22WxKSUlR165dPfotAYA3UcLw\nrMmTpfXrXY+qvJaQEGnSJPtq2o36+nrt27fvcinn5OQoNzdXPXv2dChmm82mHtwkAoCPooThWVlZ\n0ujR1zeysrnwcGnrVmn48Jv6oxsaGnTgwAGHYs7JydFtt93mUMqpqanq3bv3Tf0ZAOBJlDA870Zm\nRzcJD/fKTRwsy1JJSYlDKWdnZ6tt27YOpWyz2dS/f3+FhIR49M8HAFcoYXhHZqYa//mfZdXUqLWr\nxxm4i5JlWTpy5IhTMdfV1TkVc3R0NMUMwGsoYXjN7/7xHzUhN1fDDh+2l+2VM6Wb7ic8caL9fsI3\neQnak8rLyx1KOScnR2fPnlVKSorDzuyYmBi1bu3yRwsAuC6UMLyisrJSUVFRysvLU7/27e2jKPPz\n7YM4unaVEhKk6dMddkH7ohMnTmjXrl0OxVxRUaGkpCSHYh46dKjatOHEH4AbQwnDK9LS0rR9+3at\nWbPGdBSPO336tHJzcx02gB05ckQJCQkOG8CGDRumdu3amY4LwIdRwvC4hoYGDR48WO+++65Gjhxp\nOk6LOHfunHbv3u1QzAcPHtTQoUMdijkxMVFhYWGm4wLwEZQwPO7DDz/UK6+8oh07dgT1pqaqqirl\n5eU5bADbt2+fBg0a5LABLCkpSR07djQdF4ABlDA8buzYsfrBD36gJ554wnQUn1NbW6uCggKHYi4o\nKNCAAQMcijk5OVldunQxHReAl1HC8Kj8/HyNHz9epaWlvB96nerq6rR3716HYt69e7d69erlcFwq\nJSVF3bt3Nx0XgAdRwvCoGTNmaMCAAXr55ZdNR/FrDQ0NKi4udjgytWvXLnXp0sWhmG02m+644w7T\ncQHcJEoYHnPy5EnFxMSoqKhIPXv2NB0n4DQ2Nl6e/nXlBrD27ds7FXO/fv2C+v14wF9QwvCY+fPn\nq7i4WG+//bbpKEHDsiwdPnzYoZizs7NlWZbTjSyioqIoZsDHUMLwiLq6OkVHR+ujjz5ScnKy6ThB\nzbIslZeXO93I4vz58043shg0aJBatWplOjIQtChheMR7772nRYsWaevWraaj4BoqKiocSjknJ0cn\nT55UcnKyQzHHxsYy/QtoIZQwPOKee+7RT3/6U02ZMsV0FNyAb7755vJYzqZfx44duzz9q+l95ri4\nOHa7A15ACeOWZWVlaerUqTp48CArqABw9uxZ5ebmOhRzSUmJ4uLiHIo5ISFBoaGhpuMCfo0Sxi17\n6qmnlJiYqHnz5pmOAi+5cOGCw/Sv7OxsFRcXKyYmxqGYk5KS1KFDB9NxAb9BCeOWlJeXKy4uTiUl\nJeratavpOGhBNTU1l6d/NW0CKywsVGRkpMNxqeTkZHXu3Nl0XMAnUcK4Jb/85S9VUVGhzMxM01Hg\nA+rq6rRnzx6HYs7Ly1Pv3r0dijklJUXdunUzHRcwjhLGTautrVVERIQ+++wzDR061HQc+KiGhgYV\nFRU5HJnatWuXunXr5nRkiiEvCDaUMG7aO++8o1WrVmnTpk2mo8DPNDY26uDBg05nmcPDw52KuU+f\nPgwZQcCihHFTLMtSamqqXnnlFU2cONF0HAQAy7JUWlrqUMrZ2dkKCQlxKGWbzaaIiAiKGQGBEsZN\n+fzzz/XDH/5Qe/fuZeISvMayLB07dsypmKurq52KeeDAgfy/CL9DCeOmTJ06VaNHj9asWbNMR0EQ\n+uqrrxyGjGRnZ+v06dNKTk522AAWGxur1q1bm44LXBMljBtWVlYmm82m0tJSderUyXQcQJJ06tSp\ny8Xc9F5zeXm5EhMTHYo5Li5Obdu2NR0XkEQJ4yb87Gc/U319vf7rv/7LdBTApcrKSuXm5jpsACsr\nK1N8fLzDBrBhw4Yx/QtGUMK4IRcuXFBERIS+/PJLRUdHm44D3LDz588rLy/PoZj379+v2NhYh2JO\nSkpSeHi46bgIcJQwbsibb76pTz/9VOvXrzcdBfCY6upq5efnO2wA27Nnj6Kjox02gCUnJ/MWDDyK\nEsZ1syxL8fHxWrhwocaMGWM6DuBVFy9eVGFhoUMx5+XlqV+/fg7FnJKSwshW3DRKGNftT3/6k+bN\nm6fc3FzOaCIo1dfXa9++fQ7FnJubq+7duzscl7LZbOrRo4fpuPADlDCu24MPPqjJkyfr2WefNR0F\n8BmNjY3av3+/w3GpnJwcderUyamYe/fuzQ+wcEAJ47oUFxfr3nvvVVlZmcLCwkzHAXyaZVk6dOiQ\nQylnZ2erTZs2DqVss9k0YMAAijmIUcK4Lj/+8Y9122236Te/+Y3pKIBfsixLR48edSjmnJwcXbx4\n0aGUbTaboqOjmf4VJChhuFVZWamoqCjl5+erb9++puMAAaW8vNzhPeacnBxVVlYqJSXFoZgHDx7M\n9K8ARAnDrddff11ffvmlVq9ebToKEBROnjzpVMxff/21kpKSHHZmDx06VG3atDEdF7eAEoZLDQ0N\nGjx4sFauXKm7777bdBwgaJ05c8ZhXnZOTo4OHz6sYcOGOWwAi4+PV/v27U3HxXWihOHShx9+qFde\neUU7duxg8wjgY86dO6fdu3c7FPOBAwc0ZMgQh2JOTExkQ6WPooTh0tixY/WDH/xATzzxhOkoAK5D\nVVWVw/Sv7Oxs7du3TwMHDnTYmZ2cnKyOHTuajhv0KGFcU35+vsaPH6/S0lK1a9fOdBwAN6m2ttZh\n+ld2drYKCgrUv39/h2JOSUlRly5dTMcNKpQwrmnGjBkaMGCAXn75ZdNRAHhYXV3d5elfTUemdu/e\nrZ49ezqdZe7evbvpuI4qKqTly6W8PKmyUurcWUpMlJ55RvKzSWWUMK7q5MmTiomJUVFRkXr27Gk6\nDoAW0NDQoP379zucY961a5c6d+7sdJa5d+/eLR8wK0uaP1/auNH+cU3N378WFiZZljRhgvTSS9KI\nES2f7yZQwriq+fPnq7i4WG+//bbpKAAMamxsVElJicPmr+zsbLVv396hlFNTU9WvXz/vbeDMzJTm\nzpWqq+1ley0hIfZCfu01aeZM72TxIEoYTurq6hQdHa2PPvpIycnJpuMA8DGWZenw4cNOxdzQ0OBQ\nyjabTVFRUbdezE0FXFV1/c8JD/eLIqaE4eS9997TokWLtHXrVtNRAPiR48ePOxXz+fPnlZKS4vA+\nc0xMzPWP5czKkkaPvrECbhIeLm3dKg0ffuPPbSGUMJzcc889mjt3riZPnmw6CgA/V1FR4TBkJDs7\nWydPnlRSUpJDMQ8ZMuTq078mT5bWr3e4BP1DSV9IOiKpvaS7JP2HpGHNnxsSIk2aJK1d66Xv7tZR\nwnCQlZWl733vezp48CBzagF4xenTpy8Xc9MmsKNHjyohIcGhmON79FC7mBjHDViSQmQv3gRJf5ZU\nKqmvpAOSQpv/YaGh0uHDPrtrmhKGgyeffFLJycmaO3eu6SgAgsjZs2e1e/duh53ZDxcV6RcNDQpt\nVlN/lXTPpd+XSoq69PtsSbbmLxwWJv37v0vz5nkx/c2jhHFZeXm54uLiVFJSoq5du5qOAyDI1T/2\nmNq8957LxxRLipXUWvbL01c9OPXUU9KKFR7P5wncsBKXZWZmatq0aRQwAJ/Q5sIFl18/L+mZS7//\nZ12jgCXp9GnPhfIw7oEFSVJNTY0WL17MjmgAvqNz52t+6YSkiZJ2Spoh6f+5eh0fXliwEoYkac2a\nNUpJSdGQIUNMRwEAu8RE+8aqZsok3St7Ab8kaYnsm7WuKixMSkjwVsJbxnvCkGVZstlsevXVVzVh\nwgTTcQDArqJCiohw2h3dV9JxSQMkTbri849LurP5a/j47mguR0Off/65qqqqNH78eNNRAODveva0\nz4Judk74+KV/HpaUfsXDk9WshENCpIkTfbaAJVbCkDRlyhQ98MAD+tGPfmQ6CgA4CvCJWbwnHORK\nS0u1ZcsWPf3006ajAICzESPsM6DDw2/seU2zo324gCVKOOgtWrRI06dPV8eOHU1HAYCrmznzchE3\nuntsSIjf3LxB4nJ0ULtw4YIiIiKUlZWlqKgo908AAIMqPvlEOx59VA+1aqWQVq3stzVs0nQ/4YkT\n7fcT9vEVcBM2ZgWxP/zhD7rvvvsoYAB+If2LL3T2+ef13V/8Qlq+XMrPtw/i6NrVfgxp+nSf3oR1\nNayEg5RlWYqPj9fChQs1ZswY03EAwKXq6mpFREToiy++UExMjOk4HsN7wkFq8+bNatu2rUaPHm06\nCgC4tXLlSt15550BVcASJRy00tPTNXv2bIWEXHPODAD4BMuylJaWphdffNF0FI/jPeEgVFxcrKys\nLH3wwQemowCAW3/5y18kSWPHjjWcxPNYCQehBQsWaMaMGQoLCzMdBQDcaloFB+KVOzZmBZnKykpF\nRUUpPz9fffv2NR0HAFzav3+/vvWtb6msrCwgFw6shIPMsmXLNH78eAoYgF/IyMgI6Ct3rISDSEND\ng2JiYrRq1SrdfffdpuMAgEtnzpxRVFSUCgoKAnbhwEo4iHz88cfq0aMHBQzALyxdulQTJkwI2AKW\n2B0dVNLT0zVnzhzTMQDArfr6ei1YsEDvv/++6ShexUo4SOTl5amoqEhTp041HQUA3Prwww/Vp08f\n3Xnnne4f7Mco4SCRkZGhmTNnql27dqajAIBbgTqcozk2ZgWBkydPKiYmRsXFxerhZ8PNAQSfnJwc\nPfLIIyopKVHbtm1Nx/EqVsJBYMmSJZo0aRIFDMAvpKena9asWQFfwBIr4YBXV1enqKgobdiwQUlJ\nSabjAIBLX331lYYOHaqDBw/q9ttvNx3H61gJB7i1a9dq0KBBFDAAv5CZmanHHnssKApY4ohSwMvI\nyNC8efNMxwAAt2pqarR48WJ99tlnpqO0GFbCASwrK0vl5eV6+OGHTUcBALfWrFmj5ORkDR061HSU\nFkMJB7CmzQ2tW7c2HQUAXArkewa7wsasAFVeXq74+HiVlJSoS5cupuMAgEtbtmzRzJkzVVhYqFat\ngmd9GDzfaZDJzMzUtGnTKGAAfiE9PV2zZ88OqgKWWAkHpJqaGkVGRmrr1q2KjY01HQcAXCopKdGd\nd96psrIydejQwXScFhVcP3IEiTVr1iglJYUCBuAXFixYoGeffTboClhiJRxwLMuSzWbTq6++qgkT\nJpiOAwAunT17VlFRUdq1a5cGDBhgOk6LYyUcYD7//HNVVVVp/PjxpqMAgFvLly/X2LFjg7KAJYZ1\nBJxg3dwAwP80NDQoIyNDK1asMB3FGP6mDiClpaXasmWLnn76adNRAMCtDRs26Pbbb9fIkSNNRzGG\nEg4gCxcu1PTp09WxY0fTUQDArfT0dM2ZM0chISGmoxjDxqwAceHCBUVERCgrK0tRUVGm4wCAS3l5\neZowYYIOHTqkdu3amY5jDCvhALFixQrdd999FDAAv5Cenq4XXnghqAtYYiUcEBobGxUfH6/MzEyN\nHj3adBwAcOnEiRMaPHiwiouL1aNHD9NxjGIlHAA2b96sdu3a6f777zcdBQDcWrx4saZMmRL0BSxx\nRCkgsLkBgL+4ePGiFi1apE2bNpmO4hMoYT9XVFSk7OxsrVu3znQUAHDr/fffV1xcnBISEkxH8Qlc\njvZzCxYs0IwZMxQaGmo6CgC4ZFmW0tPTg+6ewa6wEvZjZ86c0apVq1RQUGA6CgC49de//lVnzpzR\nxIkTTUfxGayE/djbb7+t73znO+rTp4/pKADgVlpaGmN1m+GIkp9qaGhQTEyMVq9erbvuust0HABw\nqaysTDabTaWlperUqZPpOD6DH0f81Mcff6yePXtSwAD8QtNYXQrYEe8J+6mmY0kA4OvOnz+vZcuW\nKSsry3QUn8NK2A/l5eWpqKhIU6dONR0FANxasWKFRo0axVjdq2Al7IcyMjL0wgsvqG3btqajAIBL\njY2NSk9P11tvvWU6ik+ihP3MyZMntXbtWhUXF5uOAgBubdq0SeHh4brvvvtMR/FJXI72M0uWLNHk\nyZOZuQrAL6SlpenFF19krO41cETJj9TV1SkqKkobNmxQUlKS6TgA4NKePXv0wAMPqKysTO3btzcd\nxyexEvYja9eu1aBBgyhgAH4hIyNDM2fOpIBd4D1hP5Kenq6f/exnpmMAgFunTp3Se++9p3379pmO\n4tNYCfuJL7/8Ul999ZUefvhh01EAwK233npLjzzyiHr16mU6ik9jJewn0tPTNWvWLLVu3dp0FABw\nqa6uTgsXLtSHH35oOorPYyXsB44fP66NGzfq2WefNR0FANxat26dBg4cqJSUFNNRfB4l7AcyMzM1\nbdo0denSxXQUAHArLS2NsbrXiSNKPq6mpkYRERHatm2bYmNjTccBAJe2b9+uadOm6cCBA7x9dh1Y\nCfu41atXy2azUcAA/EJ6erpmz55NAV8nVsI+zLIspaSk6Le//a2+853vmI4DAC4dPXpUiYmJOnTo\nkDp37mw6jl9gJezDtm3bppqaGo0bN850FABwa9GiRXryyScp4BvAESUf1nRZp1UrflYC4Nuqqqr0\n1ltv6a9//avpKH6Fv919VGlpqbZt26Z/+qd/Mh0FANxauXKlRo4cqZiYGNNR/AorYR+1cOFCTZ8+\nXR07djQdBQBcsixLaWlpysjIMB3F71DCPujChQt6++23tXPnTtNRAMCtP//5z2rVqpUeeOAB01H8\nDpejfdCKFSs0atQoRUZGmo4CAG5xz+CbxxElH9PY2Kj4+Hi9+eabuv/++03HAQCXiouLdd9996m0\ntFRhYWGm4/gdVsI+ZvPmzWrfvr1GjRplOgoAuJWRkaEZM2ZQwDeJ94R9THp6uubMmcNlHQA+7/Tp\n01q5cqUKCwtNR/FblLAPKSoqUnZ2ttatW2c6CgC4tXTpUj344IPq06eP6Sh+ixL2IQsWLNBzzz2n\n0NBQ01EAwKX6+nq98cYb+uCDD0xH8WuUsI84c+aMVq1apYKCAtNRAMCt//mf/1Hfvn01fPhw01H8\nGhuzfMSyZcs0YcIELusA8AtNx5Jwazii5AMaGho0aNAgrVmzRnfddZfpOADgUnZ2tiZNmqSSkhK1\nacMF1VvBStgHfPTRR+rVqxcFDMAvpKen68c//jEF7AGshH3AmDFj9Nxzz2natGmmowCAS+Xl5YqL\ni1NJSYm6du1qOo7fYyVsWF5enoqLizV16lTTUQDArczMTE2bNo0C9hCuJRiWnp6uF154QW3btjUd\nBQBcqqmp0eLFi7V161bTUQIGJWzQiRMntG7dOhUXF5uOAgBurV69WjabTUOGDDEdJWBwOdqgJUuW\naPLkyerRo4fpKADgUtM9gzmW5FmshA2pq6vTokWLtHHjRtNRAMCtLVu2qK6uTuPGjTMdJaCwEjbk\ngw8+0ODBg5WYmGg6CgC4xc1lvIMjSoaMHDlS//Iv/6JHH33UdBQAcOngwYO6++67VVZWpvDwcNNx\nAgorYQO+/PJLff311/rud79rOgoAuLVgwQI9++yzFLAX8J6wAenp6Zo1a5Zat25tOgoAuHT27Fn9\n4Q9/UG5urukoAYnL0S3s+PHjGjZsmEpKStSlSxfTcQDApfT0dP3tb3/TmjVrTEcJSKyEW1hmZqYe\nf/xxChiAz2toaFBGRobeffdd01ECFiXcgmpqarRkyRJt27bNdBQAcOvjjz9W9+7ddffdd5uOErDY\nmNWCVq9erdTUVMXGxpqOAgBupaen68UXX+RYkhdRwi3EsqzL5+wAwNft3r2bm8u0AEq4hWzbtk21\ntbVMmwHgF7i5TMvgPeEWkp6ertmzZ3NZB4DPq6io0B//+Eft37/fdJSAxxGlFlBaWqrhw4errKxM\nHTp0MB0HAFz69a9/rSNHjmjJkiWmowQ8SrgFzJ07VyEhIfrd735nOgoAuFRbW6vIyEht3rxZw4YN\nMx0n4HE52svOnz+v5cuXa+fOnaajAIBb77//voYNG0YBtxA2ZnnZihUrNGrUKEVGRpqOAgAucc/g\nlsdK2IsaGxuVkZGhxYsXm44CAG598cUXOnfunCZMmGA6StBgJexFf/rTnxQaGqpRo0aZjgIAbqWl\npWn27Nlq1YpqaClszPKiCRMm6Pvf/76eeeYZ01EAwKXS0lKlpqaqrKxMHTt2NB0naFDCXrJv3z7d\nf//9KisrU2hoqOk4AODSvHnzZFmWXnvtNdNRggol7CU/+tGPdPvtt+vXv/616SgA4NL58+cVGRmp\nnTt3som0hbExywvOnDmjVatWqbCw0HQUAHDrnXfe0f33308BG0AJe8GyZcs0ceJE9enTx3QUAHCp\n6RTH73//e9NRghIl7GENDQ164403tGbNGtNRAMCtTz/9VB07dtS9995rOkpQYh+6h3300Ufq1auX\n7rzzTtNRAMCtpuEc3FzGDErYw7hnMAB/UVhYqPz8fH3/+983HSVoUcIelJeXp/3792vKlCmmowCA\nWxkZGZo5c6bat29vOkrQ4j1hD+Im2AD8xalTp/T++++rqKjIdJSgRgl7yIkTJ7Ru3Tpugg3ALyxZ\nskSTJk1Sz549TUcJapSwhyxZskRTpkxR9+7dTUcBAJfq6uq0cOFCbdiwwXSUoEcJe0BdXZ0WLVqk\nTz/91HQUAHBr7dq1iomJUVJSkukoQY+NWR7wwQcfKDY2VgkJCaajAIBb3DPYd1DCHsCxJAD+Yvv2\n7aqoqNBDDz1kOgpECd+yHTt28D80AL+Rnp6u2bNnq3Xr1qajQNxF6ZY9/vjjGjFihH7yk5+YjgIA\nLh09elSJiYkqLS3VbbfdZjoORAnfkmPHjikhIUGHDh1S586dTccBAJdeeuklVVdXKy0tzXQUXMLu\n6FuQmZmpJ554ggIG4POqqqr0+9//Xtu3bzcdBVeghK9HRYW0fLmUlydVVkqdO6suLk7rFi/W+i++\nMJ0OANx69913dc8992jgwIGmo+AKXI52JStLmj9f2rjR/nFNzeUv1bdtq8aGBrV75BHppZekESMM\nhQQA1yzLUnx8vBYuXKgxY8aYjoMrsDv6WjIzpdGjpfXr7eV7RQFLUpu6OrVrbLR/ffRo++MBwAdt\n3rxZbdu21ejRo01HQTNcjr6azExp7lypqsr9Yy3L/ri5c+0fz5zp3WwAcIPS0tI0Z84c7hnsg7gc\n3VxWln1l26yAn5b0Z0knJXWSNFzSfEkpVz4oPFzaulUaPrxlsgKAG0VFRRo1apTKysoUGhpqOg6a\n4XJ0c/PnS9XVTp8uk3S/pB9I6iZpk6RHmz+outr+fADwERkZGXr++ecpYB/FSvhKFRVSRITT+7/N\n5UhKlf0nmBpJDncPDg2VDh+WevTwWkwAuB6nT5/WwIEDVVhYqN69e5uOg6tgJXyl5ctdfvkNSS9I\nmnbp45+qWQFLUkiI29cBgJawdOlSPfjggxSwD2Nj1pXy8lyugj+QtPXS7/tJ+tbVHlRdLeXnez4b\nANyA+vp6LViwQOvWrTMdBS6wEr5SZaXLL2+RVC1pvaTjkqbK/l5xcw2nTnk6GQDckPXr12vAgAFK\nTU01HQUusBK+0jXGT1ZLaieptaRQSd+R1FHSWUklkiKaPf69TZv0H8nJstlsl38lJSWpQ4cO3ssO\nAFfgnsH+gRK+UmKitHat0yXpHZIelzRKUldJn8tewD0k2Zq/RliYvvfyy4r5h39QTk6OcnJy9M47\n76iwsFCRkZFKTU29XMzJycnMnQbgcTt37tSRI0f06KNOZzjgY9gdfaVr7I4ulvScpHxJ52Qv329J\n+oWkYc1f4xq7oy9evKi9e/cqOzv7cjnn5eWpd+/eDivmlJQUde/e3UvfIIBg8NRTTykpKUlzm4YI\nwWdRws1NnmwfRXkz/1pCQqRJk+yr6evQ0NCgoqKiy6Wck5OjXbt2qUuXLg7FbLPZ2N0I4LocP35c\nw4YN08GDB9W1a1fTceAGJdzcNSZmXRcPTMxqbGxUSUmJQzFnZ2erXbt2DpeybTab+vfvzxg6AA5e\nfvllffPNN1q4cKHpKLgOlPDV3Mjs6Cbh4dJrr3lldrRlWTpy5MjlQm76Z319vdOKOTo6Wq1asekd\nCEY1NTWi8EbEAAAKvElEQVSKiIjQtm3bFBsbazoOrgMlfC1NRVxd7frSdEiIFBbmtQJ2pby83GHF\nnJOTozNnziglJcWhmGNjY9W6desWzQag5S1btkxr167Vhg0bTEfBdaKEXdm50z4L+pNP7GV75Uzp\nsDB7OU+caL+fsI/ctOHkyZPatWuXQzGXl5crKSnJoZjj4uLUtq3TvC8AfsqyLCUlJek///M/9e1v\nf9t0HFwnSvh6nDhhH0WZny+dPi117SolJEjTp/vFjOjKykrl5uY67MwuLS1VfHy8QzEnJCQw5B3w\nU5999plmzZqlgoIC9or4EUo4SF24cEG7d+92WDEXFxcrJibGachIx44dTccF4MYjjzyiBx98UM89\n95zpKLgBlDAuq6mpUUFBgUMxFxYWKiIiwqGYk5OT1aVLF9NxAVxy4MABjRw5UmVlZQoPDzcdBzeA\nEoZLdXV1TkNGdu/erTvuuMNpyEgPP7g0DwSiOXPmqEOHDnr11VdNR8ENooRxwxoaGlRcXOw0ZOS2\n22676pAR3p8CvOfs2bOKjIxUXl6e+vXrZzoObhAlDI9obGzUoUOHnIaMtGnT5nIhNw0bGTBgAMUM\neEhaWpp27Nih1atXm46Cm0AJw2ssy9LRo0cdLmXn5OSotrbWacU8cOBAhowAN6ihoUExMTFavXq1\n7rrrLtNxcBMoYbS48vJyp7PMp0+fVnKz2z/GxsaqTRtu9AVcy/r16/Xb3/5W27dvNx0FN4kShk84\ndeqUUzEfP35cCQkJDpez4+Li1K5dO9NxAZ8wZswYPf/883rsscdMR8FNooThs5qGjFxZzIcOHVJc\nXJzTkJGwsDDTcYEWlZubq4ceekiHDh1i+p0fo4ThVy5cuKC8vDyHYi4qKtKgQYOczjIzZASB7Jln\nnlFsbKx+/vOfm46CW0AJw+/V1tY6DRkpKChQ//79HS5lp6SkMGQEAaGiokKxsbE6cOCAunXrZjoO\nbgEljIBUV1enffv2OQ0Z6dmzp9PObIaMwN/86le/0rFjx7R48WLTUXCLKGEEjYaGBu3fv9/p9o+d\nOnVyKuY+ffpwlhk+qba2VpGRkfrLX/6iuLg403FwiyhhBDXLsq46ZKRVq1ZOQ0YiIiIoZhi3YsUK\nrVy5Ups2bTIdBR5ACQPNWJalY8eOOQ0Zqa6udloxDxo0iCEjaDGWZSk1NVWvvPKKJk6caDoOPIAS\nBq7TV1995XSW+dSpU05DRoYMGcKQEXjF559/rh/+8Ifau3cvP/wFCEoYuAXffPONUzEfPXrUYciI\nzWZTfHy82rdvbzou/NyUKVM0duxYvfDCC6ajwEMoYcDDzp496zRkpKSkREOHDnUo5sTERIaM4LqV\nlpZq+PDhKi0t5Qx8AKGEgRZQVVXlNGRk3759GjhwoNOQkU6dOpmOCx80d+5chYSE6He/+53pKPAg\nShgwpLa2VoWFhQ7FnJ+fr379+jkUc0pKim6//XbTcWHQuXPnFBkZqZycHEVERJiOAw+ihAEfUl9f\nr7179zoUc25urrp37375qFTTr549e5qOixbyxhtvaOvWrfrv//5v01HgYZQw4OMaGxuvOmSkQ4cO\nTkem+vbty1nmANPY2KghQ4Zo2bJluvfee03HgYdRwoAfsixLpaWlTkNGJDkVc1RUFMXsxzZs2KBf\n/vKXysrK4r9jAKKEgQBhWZaOHz/uNGTkwoULTsUcExPDOVM/8e1vf1tPP/20nnzySdNR4AWUMBDg\nvv76a6ezzCdOnHAaMjJ06FCGjPiYgoICjRs3TqWlpWrXrp3pOPACShgIQt98843TWeYjR45o2LBh\nDsU8bNgwhowY9Nxzz6l///56+eWXTUeBl1DCACTZj8E0L+aDBw9qyJAhTkNGwsPDTccNeCdPnlRM\nTIyKiorYCR/AKGEA11RVVaX8/HyHYt67d6+io6OdhozcdtttpuMGlFdffVUHDx7U0qVLTUeBF1HC\nAG7IxYsXnYaM5OXlqW/fvk5DRrp162Y6rl+qq6tTZGSkNm7cqMTERNNx4EWUMIBbVl9fr3379jkN\nGenWrZvTzuxevXqZjuvzVq9erbfeekv/+7//azoKvIwSBuAVjY2NOnDggNOQkbCwMKdi7tevH2dg\nL7EsS3fddZf+9V//VQ8//LDpOPAyShhAi7EsS2VlZU5DRhobG52KOTo6OiiL+W9/+5ueeuopFRUV\nqXXr1qbjwMsoYQBGNQ0Zab5iPnfunFJSUmSz2S7PzY6JiQn4Ynrsscd0zz33aPbs2aajoAVQwgB8\nUkVFhdOQkYqKCiUlJTkNGWnbtq3puB5x5MgRJScn69ChQ+w2DxKUMAC/cfr0aaezzGVlZVcdMhIa\nGmo67g37+c9/rtraWr3++uumo6CFUMIA/Nq5c+e0e/duh2Lev3+/YmNjL5dyamqqEhMT1aFDB9Nx\n7SoqpOXLpbw8qbJS6txZtUOGKOn11/VJVpaio6NNJ0QLoYQBBJzq6mqnISN79uxRVFSU05CRzp07\nt1ywrCxp/nxp40b7xzU1l79U17atrIYGtXvkEemll6QRI1ouF4yhhAEEhYsXL2rPnj1OQ0Z69+7t\ntDPbK0NGMjOluXOl6mrJ1V+7ISFSWJj02mvSzJmezwGfQgkDCFr19fUqKipyKOZdu3apa9euDpey\nbTab7rjjjpv/g5oKuKrq+p8THk4RBwFKGACu0NjYqIMHDzodmWrfvr3Tirl///7uzzJnZUmjR1+1\ngFdLevzS7+dISmv+gPBwaetWafjwW/6+4JsoYQBww7IsHT582GnISH19/VWHjLRq1ervT548WVq/\n3ukS9FFJCZLOS6rXNUo4JESaNElau9ab3x4MooQB4CZdbchIZWXl5SEj9wwapMk/+YlaXbzo8DxL\n0j9I+kr2In5P1yhhSQoNlQ4flnr08PJ3AxPamA4AAP6qT58+6tOnjx566KHLnztx4sTlISPVb76p\n2ro6hTV7Xpqk/5O0Q9co3iuFhNiPM82b58no8BGUMAB4UI8ePTRu3DiNGzdOKiiQ8vMdvl4g6SVJ\nv5KUfD0vWF3t9BoIHJQwAHhLZaXTp9ZKuihpq6TPJe2+9PkPJYVJmn+11zl92jv5YBwlDADecpVB\nINalXxubff6QpL9d63W6dvVoLPiOVu4fAgC4KYmJ9o1VV/g3/b2ILUlPX/r8HElbrvYaYWFSQoLX\nIsIsShgAvGX69Ft/DcvyzOvAJ1HCAOAtPXtKEybYdzhfw3LZV8RX3SUdEiJNnMjxpADGOWEA8CYX\nE7PcYmJWwGMlDADeNGKEfQZ0ePiNPa9pdjQFHNDYHQ0A3tZ0EwbuooRmuBwNAC1l5077/YQ/+cRe\nttXVf/9aWJi9nCdOtN9PmBVwUKCEAaClnThhH0WZn28fxNG1q/0Y0vTpbMIKMpQwAACGsDELAABD\nKGEAAAyhhAEAMIQSBgDAEEoYAABDKGEAAAyhhAEAMIQSBgDAEEoYAABDKGEAAAyhhAEAMIQSBgDA\nEEoYAABDKGEAAAyhhAEAMIQSBgDAEEoYAABDKGEAAAyhhAEAMIQSBgDAEEoYAABDKGEAAAyhhAEA\nMIQSBgDAEEoYAABDKGEAAAyhhAEAMIQSBgDAEEoYAABDKGEAAAyhhAEAMIQSBgDAEEoYAABDKGEA\nAAyhhAEAMIQSBgDAEEoYAABDKGEAAAz5/2/L5g6I4mbiAAAAAElFTkSuQmCC\n",
      "text/plain": [
       "<matplotlib.figure.Figure at 0x114b26b70>"
      ]
     },
     "metadata": {},
     "output_type": "display_data"
    }
   ],
   "source": [
    "# Now that this seems to work, we should do some testing.\n",
    "\n",
    "graphA = nx.Graph()\n",
    "graphA.clear\n",
    "graphA.add_nodes_from((1,2,3,4), current=0.)\n",
    "edges = [\n",
    "    (1, 2, {'resistance': 2.}),\n",
    "    (4, 2, {'resistance': 1.}),\n",
    "    (1, 3, {'resistance': 3.}),\n",
    "    (3, 4, {'resistance': 3.})\n",
    "]\n",
    "graphA.add_edges_from(edges)\n",
    "\n",
    "check_nodes = (1, 4)\n",
    "\n",
    "eq_r = equivalent_resistance(graphA, check_nodes)\n",
    "print(eq_r)\n",
    "\n",
    "nx.draw(graphA, with_labels=True, font_weight='bold')"
   ]
  },
  {
   "cell_type": "code",
   "execution_count": 10,
   "metadata": {
    "collapsed": true
   },
   "outputs": [],
   "source": [
    " # that's wrong. 1/R = 1/3 + 1/6; R = 2"
   ]
  },
  {
   "cell_type": "code",
   "execution_count": 25,
   "metadata": {},
   "outputs": [
    {
     "name": "stdout",
     "output_type": "stream",
     "text": [
      "[[ 0.5         0.5         0.          0.          0.        ]\n",
      " [ 0.5         0.83333333  0.33333333  0.          0.        ]\n",
      " [ 0.          0.33333333  0.83333333  0.5         0.        ]\n",
      " [ 0.          0.          0.5         1.          0.5       ]\n",
      " [ 0.          0.          0.          0.5         0.5       ]]\n",
      "[ 1.  0.  0.  0. -1.]\n",
      "[ 3. -1. -2.  4. -6.]\n",
      "9.0\n"
     ]
    },
    {
     "data": {
      "image/png": "iVBORw0KGgoAAAANSUhEUgAAAeEAAAFCCAYAAADGwmVOAAAABHNCSVQICAgIfAhkiAAAAAlwSFlz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\nAGAIQxgAAEP+P82da1RsiH/EAAAAAElFTkSuQmCC\n",
      "text/plain": [
       "<matplotlib.figure.Figure at 0x114f72ef0>"
      ]
     },
     "metadata": {},
     "output_type": "display_data"
    }
   ],
   "source": [
    "\n",
    "\n",
    "graphB = nx.Graph()\n",
    "graphB.clear\n",
    "graphB.add_nodes_from((1,2,3,4,5), current=0.)\n",
    "edges = [\n",
    "    (1, 2, {'resistance': 2.}),\n",
    "    (2, 3, {'resistance': 3.}),\n",
    "    (3, 4, {'resistance': 2.}),\n",
    "    (4, 5, {'resistance': 2.})\n",
    "]\n",
    "graphB.add_edges_from(edges)\n",
    "\n",
    "check_nodes = (1, 5)\n",
    "\n",
    "nx.draw(graphB, with_labels=True, font_weight='bold')\n",
    "\n",
    "eq_r = equivalent_resistance(graphB, check_nodes)\n",
    "print(eq_r)\n",
    "\n"
   ]
  },
  {
   "cell_type": "code",
   "execution_count": null,
   "metadata": {
    "collapsed": true
   },
   "outputs": [],
   "source": [
    "# also wrong. R = 2+2+2 = 6"
   ]
  },
  {
   "cell_type": "code",
   "execution_count": 39,
   "metadata": {},
   "outputs": [
    {
     "name": "stdout",
     "output_type": "stream",
     "text": [
      "[[ 0.75  0.5   0.25  0.    0.  ]\n",
      " [ 0.5   1.5   0.5   0.    0.5 ]\n",
      " [ 0.25  0.5   1.    0.25  0.  ]\n",
      " [ 0.    0.    0.25  0.25  0.  ]\n",
      " [ 0.    0.5   0.    0.    0.5 ]]\n",
      "[ 0.  0.  0.  1. -1.]\n",
      "[-1.  3. -3.  7. -5.]\n",
      "12.0\n"
     ]
    },
    {
     "data": {
      "image/png": "iVBORw0KGgoAAAANSUhEUgAAAeEAAAFCCAYAAADGwmVOAAAABHNCSVQICAgIfAhkiAAAAAlwSFlz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\n9x33AAAAAElFTkSuQmCC\n",
      "text/plain": [
       "<matplotlib.figure.Figure at 0x114b28940>"
      ]
     },
     "metadata": {},
     "output_type": "display_data"
    }
   ],
   "source": [
    "graphB = nx.Graph()\n",
    "graphB.clear\n",
    "graphB.add_nodes_from((1,2,3,4,'whyy'), current=0.)\n",
    "edges = [\n",
    "    (1, 2, {'resistance': 2.}),\n",
    "    (2, 3, {'resistance': 2.}),\n",
    "    (3, 4, {'resistance': 4.}),\n",
    "    (3, 1, {'resistance': 4.}),\n",
    "    ('whyy', 2, {'resistance': 2.})\n",
    "]\n",
    "graphB.add_edges_from(edges)\n",
    "\n",
    "check_nodes = (4, 'whyy')\n",
    "\n",
    "eq_r = equivalent_resistance(graphB, check_nodes)\n",
    "print(eq_r)\n",
    "\n",
    "nx.draw(graphB, with_labels=True, font_weight='bold')"
   ]
  },
  {
   "cell_type": "code",
   "execution_count": null,
   "metadata": {
    "collapsed": true
   },
   "outputs": [],
   "source": [
    "# should give something different\n"
   ]
  },
  {
   "cell_type": "code",
   "execution_count": null,
   "metadata": {
    "collapsed": true
   },
   "outputs": [],
   "source": [
    "np.linalg.solve?"
   ]
  },
  {
   "cell_type": "code",
   "execution_count": null,
   "metadata": {
    "collapsed": true
   },
   "outputs": [],
   "source": []
  }
 ],
 "metadata": {
  "kernelspec": {
   "display_name": "Python 3",
   "language": "python",
   "name": "python3"
  },
  "language_info": {
   "codemirror_mode": {
    "name": "ipython",
    "version": 3
   },
   "file_extension": ".py",
   "mimetype": "text/x-python",
   "name": "python",
   "nbconvert_exporter": "python",
   "pygments_lexer": "ipython3",
   "version": "3.6.1"
  }
 },
 "nbformat": 4,
 "nbformat_minor": 2
}
