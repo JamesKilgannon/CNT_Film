{
 "cells": [
  {
   "cell_type": "code",
   "execution_count": 2,
   "metadata": {
    "collapsed": true
   },
   "outputs": [],
   "source": [
    "import numpy as np"
   ]
  },
  {
   "cell_type": "code",
   "execution_count": 105,
   "metadata": {},
   "outputs": [
    {
     "name": "stdout",
     "output_type": "stream",
     "text": [
      "['Length', 'x-value', 'y-value', 'slope', 'y-intercept', 'x-high']\n"
     ]
    }
   ],
   "source": [
    "#Important variables\n",
    "network_size = 1000 #side length of network boundaries\n",
    "CNT_length_normal = 1000 #normal length of CNT at center of distribution\n",
    "CNT_length_stddev = 2 #standard deviation of CNT length from normal\n",
    "CNT_num_tubes = 100 #number of tubes in film\n",
    "\n",
    "CNT_init = np.zeros((CNT_num_tubes,6))\n",
    "\n",
    "#Generating tube information\n",
    "#randomly assigning tube lengths distributed around a set tube length\n",
    "CNT_init[:,0] = np.random.normal(CNT_length_normal, CNT_length_stddev, CNT_num_tubes)\n",
    "\n",
    "#randomly assign starting point and orientation\n",
    "CNT_init[:,1:4] = np.random.rand(CNT_num_tubes, 3)\n",
    "\n",
    "#applying scaling to random numbers so they match the needed values\n",
    "scaling_factor = np.array([1, network_size, network_size, 2*np.pi, 1, 1])\n",
    "CNT_init = CNT_init * scaling_factor\n",
    "\n",
    "#calculating the x-range for the tubes\n",
    "CNT_init[:,5] = np.cos(CNT_init[:,3]) * CNT_init[:,0]\n",
    "\n",
    "#calculating slope\n",
    "CNT_init[:,3] = np.tan(CNT_init[:,3])\n",
    "\n",
    "#calculating the y-intercept of the lines\n",
    "CNT_init[:,4] = CNT_init[:,2] - CNT_init[:,3] * CNT_init[:,2]\n",
    "\n",
    "header = ['Length','x-value','y-value','slope','y-intercept','x-high']\n",
    "print(header)\n",
    "#print(CNT_init)\n"
   ]
  },
  {
   "cell_type": "code",
   "execution_count": 106,
   "metadata": {},
   "outputs": [
    {
     "name": "stdout",
     "output_type": "stream",
     "text": [
      "[[False False False ..., False False False]\n",
      " [False False False ..., False False False]\n",
      " [False False False ..., False False False]\n",
      " ..., \n",
      " [False False False ..., False False False]\n",
      " [False False False ..., False False False]\n",
      " [False False False ..., False False False]]\n"
     ]
    }
   ],
   "source": [
    "#array_size = (CNT_init[:,0].size,CNT_init[0,:].size)\n",
    "CNT_intersect = np.zeros((CNT_num_tubes,CNT_num_tubes),dtype=bool)\n",
    "for i in range(0,CNT_num_tubes):\n",
    "    m1 = CNT_init[i,3]\n",
    "    b1 = CNT_init[i,4]\n",
    "    for j in range(i+1,CNT_num_tubes):\n",
    "        x_intersect = (CNT_init[j,4] - b1) / (m1 - CNT_init[j,3])\n",
    "        if CNT_init[i,1] <= x_intersect <= CNT_init[i,5] and CNT_init[j,1] <= x_intersect <= CNT_init[j,5]:\n",
    "            CNT_intersect[i,j] = True\n",
    "print(CNT_intersect)"
   ]
  },
  {
   "cell_type": "code",
   "execution_count": null,
   "metadata": {
    "collapsed": true
   },
   "outputs": [],
   "source": [
    "def intersect(EOL_1,EOL_2):\n",
    "    #Calculates if two line segments intersect given two equations of lines given the\n",
    "    #slopes, y-intercepts, and acceptable range\n",
    "    #Input format: [slope, y_intercept, x_range]\n",
    "    m1 = EOL_1[0] #slope of line 1\n",
    "    m2 = EOL_2[0] #slope of line 2\n",
    "    b1 = EOL_1[1] #Y-intercept of line 1\n",
    "    b2 = EOL_2[1] #Y-intercept of line 2\n",
    "    x_range_1 = EOL_1[2]\n",
    "    x_range_2 = EOL_2[2]\n",
    "    \n",
    "    #Checking for parallel\n",
    "    if m1 == m2:\n",
    "        return False\n",
    "    \n",
    "    x_intersect = (b2 - b1) / (m1 - m2)\n",
    "    \n",
    "    return x_intersect in range(*x_range_1) and x_intersect in range(*x_range_2)"
   ]
  },
  {
   "cell_type": "code",
   "execution_count": null,
   "metadata": {
    "collapsed": true
   },
   "outputs": [],
   "source": [
    "def EOL(endpoint_1,endpoint_2):\n",
    "    #Determines the slope, y-intercept of the parent line, and range of x-values of a line\n",
    "    #segment made by 2 points. Endpoints are input as a list of x and y values e.g. [x,y]\n",
    "    x1 = endpoint_1[0]\n",
    "    y1 = endpoint_1[1]\n",
    "    x2 = endpoint_2[0]\n",
    "    y2 = endpoint_2[1]\n",
    "    \n",
    "    #Preventing undefined values for infinite slope\n",
    "    if x1 == x2:\n",
    "        slope = 1e10\n",
    "    else:\n",
    "        slope = (y2 - y1) / (x2 - x1)\n",
    "    y_intercept = y1 - slope * x1\n",
    "    #finding range of x-values the segment runs for to make determining intersection easier\n",
    "    x_range = [np.min(x1,x2),np.max(x1,x2)]\n",
    "    return slope, y_intercept, x_range"
   ]
  },
  {
   "cell_type": "code",
   "execution_count": null,
   "metadata": {
    "collapsed": true
   },
   "outputs": [],
   "source": [
    "CNT_data = CNT_info(CNT_length_normal, CNT_length_stddev, CNT_num_tubes)"
   ]
  },
  {
   "cell_type": "code",
   "execution_count": null,
   "metadata": {
    "collapsed": true
   },
   "outputs": [],
   "source": [
    "1e6"
   ]
  },
  {
   "cell_type": "code",
   "execution_count": null,
   "metadata": {
    "collapsed": true
   },
   "outputs": [],
   "source": []
  }
 ],
 "metadata": {
  "kernelspec": {
   "display_name": "Python 3",
   "language": "python",
   "name": "python3"
  },
  "language_info": {
   "codemirror_mode": {
    "name": "ipython",
    "version": 3
   },
   "file_extension": ".py",
   "mimetype": "text/x-python",
   "name": "python",
   "nbconvert_exporter": "python",
   "pygments_lexer": "ipython3",
   "version": "3.6.1"
  }
 },
 "nbformat": 4,
 "nbformat_minor": 2
}
