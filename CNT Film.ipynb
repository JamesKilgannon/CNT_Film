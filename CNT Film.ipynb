{
 "cells": [
  {
   "cell_type": "code",
   "execution_count": 2,
   "metadata": {
    "collapsed": true
   },
   "outputs": [],
   "source": [
    "from matplotlib import pyplot as plt\n",
    "from matplotlib import pylab #displays arrays as images for easy error checking\n",
    "import numpy as np\n",
    "import networkx as nx\n",
    "\n",
    "%matplotlib inline"
   ]
  },
  {
   "cell_type": "code",
   "execution_count": 23,
   "metadata": {
    "collapsed": true
   },
   "outputs": [],
   "source": [
    "#Important variables\n",
    "network_size = 1000 #side length of network boundaries\n",
    "CNT_length_normal = 1000 #normal length of CNT at center of distribution\n",
    "CNT_length_stddev = 2 #standard deviation of CNT length from normal\n",
    "CNT_num_tubes = 100 #number of tubes in film\n",
    "\n",
    "CNT_init = np.zeros((CNT_num_tubes+2,6))\n",
    "\n",
    "#creating the pseudo tubes that will act as the edges in the network\n",
    "CNT_init[0:2,:] = [[network_size,0,0,0,0,network_size],\n",
    "                   [network_size,0,1,0,network_size,network_size]]\n",
    "\n",
    "#Generating tube information\n",
    "#randomly assigning tube lengths distributed around a set tube length\n",
    "CNT_init[2:,0] = np.random.normal(CNT_length_normal, CNT_length_stddev, CNT_num_tubes)\n",
    "\n",
    "#randomly assign starting point and orientation\n",
    "CNT_init[2:,1:4] = np.random.rand(CNT_num_tubes, 3)\n",
    "\n",
    "#applying scaling to random numbers so they match the needed values\n",
    "scaling_factor = np.array([1, network_size, network_size, 2*np.pi, 1, 1])\n",
    "CNT_init = CNT_init * scaling_factor\n",
    "\n",
    "#calculating the x-range for the tubes\n",
    "CNT_init[:,5] = np.cos(CNT_init[:,3]) * CNT_init[:,0]\n",
    "\n",
    "#calculating slope\n",
    "CNT_init[:,3] = np.tan(CNT_init[:,3])\n",
    "\n",
    "#calculating the y-intercept of the lines\n",
    "CNT_init[:,4] = CNT_init[:,2] - CNT_init[:,3] * CNT_init[:,2]\n",
    "\n",
    "#delete this in final code this is just a reference to know what is in each column\n",
    "#header = ['Length','x-start','y-start','slope','y-intercept','x-high']"
   ]
  },
  {
   "cell_type": "code",
   "execution_count": 26,
   "metadata": {},
   "outputs": [
    {
     "data": {
      "text/plain": [
       "array([[  825.3400165 ,   499.57391768],\n",
       "       [ -783.10758748,   743.06045341],\n",
       "       [ -955.44816604,   843.28661376],\n",
       "       [  646.85645347,   756.67785912],\n",
       "       [  277.92959115,   238.81256586],\n",
       "       [  318.3911703 ,   353.13954398],\n",
       "       [ -948.93323447,   410.68790399],\n",
       "       [ -719.48724356,   510.03932126],\n",
       "       [  949.39580392,   263.45522672],\n",
       "       [  538.51515462,    69.25818568],\n",
       "       [  831.79639471,   629.97442973],\n",
       "       [   47.93773683,   907.32784583],\n",
       "       [  762.62231359,   777.96732051],\n",
       "       [ -999.07819691,    74.68754429],\n",
       "       [ -998.14535003,   964.69215404],\n",
       "       [  976.17809085,   356.82896808],\n",
       "       [  593.39242004,   658.86309486],\n",
       "       [ -903.39513424,    91.08346425],\n",
       "       [  610.36823411,   866.5296099 ],\n",
       "       [ -760.92276707,   506.2564438 ],\n",
       "       [  316.3530367 ,   910.98638624],\n",
       "       [  -17.43359523,   820.24925655],\n",
       "       [ -849.5379339 ,   746.80705443],\n",
       "       [ -580.26751136,   230.84974182],\n",
       "       [  983.47744264,   310.87853272],\n",
       "       [  433.56124522,   288.89674679],\n",
       "       [ -400.31573568,    29.76113043],\n",
       "       [ -544.27761719,   446.9510221 ],\n",
       "       [  997.78587546,   522.4872127 ],\n",
       "       [  482.12004931,   607.66645843],\n",
       "       [ -187.43914297,   370.09976921],\n",
       "       [ -968.08608846,   967.26197954],\n",
       "       [ 1000.80620418,   294.84071365],\n",
       "       [  991.58400449,    89.62260112],\n",
       "       [  462.76623095,   808.8051583 ],\n",
       "       [  441.85059966,   527.94777089],\n",
       "       [ -478.59462829,   729.85517336],\n",
       "       [ -886.08139995,   995.28785373],\n",
       "       [  153.1170307 ,   457.78060097],\n",
       "       [ -737.42261425,     1.05443854],\n",
       "       [  -65.39765179,   910.08434637],\n",
       "       [   54.05444592,   656.41848514],\n",
       "       [  813.56360437,   808.30116845],\n",
       "       [  -50.16680487,   639.64973966],\n",
       "       [ -949.82722783,   689.68396003],\n",
       "       [ -657.49301381,   677.62847008],\n",
       "       [  495.89254809,   600.49708518],\n",
       "       [  608.4784523 ,    30.00052597],\n",
       "       [ -391.94938629,   349.62923257],\n",
       "       [  893.89389734,   744.45069521],\n",
       "       [ -358.63097506,   680.85339898],\n",
       "       [  720.84238035,   904.80740829],\n",
       "       [ -997.32080449,   558.60189936],\n",
       "       [  765.5929619 ,   920.64741991],\n",
       "       [  965.69635369,   525.11101821],\n",
       "       [  746.8243835 ,   817.58343258],\n",
       "       [ -309.22949035,   104.3018198 ],\n",
       "       [ -944.67032503,    40.99792144],\n",
       "       [ -967.59469072,   989.83639706],\n",
       "       [  -36.43678039,   871.25303959],\n",
       "       [ -931.44256471,   844.422643  ],\n",
       "       [  428.33802122,   443.33455519],\n",
       "       [  991.00545609,   910.75820043],\n",
       "       [ -591.40024636,   221.03975208],\n",
       "       [ -957.68825624,   173.02001345],\n",
       "       [  821.65519052,   976.59660407],\n",
       "       [  950.35930382,   433.01079201],\n",
       "       [ -975.94455077,   937.77998754],\n",
       "       [  827.78165109,   152.822173  ],\n",
       "       [  587.26698877,   732.42541782],\n",
       "       [  591.54816002,   692.42967168],\n",
       "       [  415.2738948 ,   216.83068694],\n",
       "       [  413.46731531,   175.26329092],\n",
       "       [ -989.11691912,   295.65871047],\n",
       "       [ 1000.8735277 ,   323.53642297],\n",
       "       [  892.47684838,   467.95114672],\n",
       "       [  965.81360979,   765.00153455],\n",
       "       [  213.1707371 ,   841.53312695],\n",
       "       [ -183.08928282,   729.05777081],\n",
       "       [ -699.56543057,   542.98171181],\n",
       "       [  948.05219002,   299.6564413 ],\n",
       "       [ -944.0721037 ,   922.77419672],\n",
       "       [  923.34313668,   982.98365263],\n",
       "       [ -265.21330106,   384.69874294],\n",
       "       [ -137.37424863,    16.7399292 ],\n",
       "       [ -447.37713337,   714.63546533],\n",
       "       [ -617.62662282,    28.16033765],\n",
       "       [ -653.02349316,   760.6323273 ],\n",
       "       [  653.70548882,    74.66465542],\n",
       "       [  849.21680653,   554.63511358],\n",
       "       [  262.99644105,   784.45620697],\n",
       "       [  795.01117031,   228.02701166],\n",
       "       [-1002.30259528,   828.93640856],\n",
       "       [ -796.52011236,   261.11107746],\n",
       "       [  -85.35148315,   764.69458113],\n",
       "       [ -992.72124302,    12.40767144],\n",
       "       [  803.91033528,   221.81097736],\n",
       "       [  416.17324024,   145.55259743],\n",
       "       [  240.71379203,   219.10490442],\n",
       "       [   16.80539406,    53.88034217]])"
      ]
     },
     "execution_count": 26,
     "metadata": {},
     "output_type": "execute_result"
    }
   ],
   "source": [
    "#WORK ON FIXING SECOND Y-VALUES, THEY ARE ALL POSITIVE AND BETWEEN 0 AND 1000\n",
    "#generating the endpoints for the tubes in the network\n",
    "CNT_endpoints = np.zeros((CNT_num_tubes,4))\n",
    "CNT_endpoints[:,0:2] = CNT_init[2:,1:3]\n",
    "CNT_endpoints[:,2] = CNT_init[2:,5]\n",
    "#figuring out the second y-value by multiplying the length of the line segment by the slope\n",
    "#and adding the result to the first y-value\n",
    "CNT_endpoints[:,3] = CNT_init[2:,2] + CNT_init[2:,3]/np.sqrt(1 + CNT_init[2:,3]**2)\n",
    "CNT_endpoints[:,2:]"
   ]
  },
  {
   "cell_type": "code",
   "execution_count": 7,
   "metadata": {
    "collapsed": true
   },
   "outputs": [],
   "source": [
    "#generating a boolean array of the tubes that intersect\n",
    "CNT_intersect = np.zeros((CNT_num_tubes,CNT_num_tubes),dtype=bool)\n",
    "for i in range(0,CNT_num_tubes):\n",
    "    m1 = CNT_init[i,3]\n",
    "    b1 = CNT_init[i,4]\n",
    "    for j in range(i+1,CNT_num_tubes):\n",
    "        #checking for parallel tubes\n",
    "        if m1 == CNT_init[j,3]:\n",
    "            CNT_intersect[i,j] = False\n",
    "            continue\n",
    "        x_intersect = (CNT_init[j,4] - b1) / (m1 - CNT_init[j,3])\n",
    "        if CNT_init[i,1] <= x_intersect <= CNT_init[i,5] and CNT_init[j,1] <= x_intersect <= CNT_init[j,5]:\n",
    "            CNT_intersect[i,j] = True"
   ]
  },
  {
   "cell_type": "markdown",
   "metadata": {},
   "source": [
    "Printing this boolean array will be a lot of information, especially as the number of tubes in the network grows. Since it is a boolean array and there are only two possible values, it will be easier to visualize and understand how many intersections there are by turning the array into an image where True is one color and False is another."
   ]
  },
  {
   "cell_type": "code",
   "execution_count": 8,
   "metadata": {},
   "outputs": [
    {
     "name": "stdout",
     "output_type": "stream",
     "text": [
      "The number of intersections in the network is 1.\n",
      "Below is a list where each element represents how many intersections the respective tube has:\n",
      "[0 1 0 0 0 0 0 0 0 0]\n"
     ]
    },
    {
     "data": {
      "image/png": "[encoded data removed]",
      "text/plain": [
       "<matplotlib.figure.Figure at 0x10c842eb8>"
      ]
     },
     "metadata": {},
     "output_type": "display_data"
    }
   ],
   "source": [
    "#THIS CELL IS ONLY FOR TROUBLESHOOTING, IT DOES NOT CODE FOR ANYTHING\n",
    "#this cell visually shows the true values as yellow pixels\n",
    "#generating a boolean array of the tubes that intersect\n",
    "CNT_intersectALL = np.zeros((CNT_num_tubes,CNT_num_tubes),dtype=bool)\n",
    "for i in range(0,CNT_num_tubes):\n",
    "    m1 = CNT_init[i,3]\n",
    "    b1 = CNT_init[i,4]\n",
    "    for j in range(0,CNT_num_tubes):\n",
    "        if i == j or m1 == CNT_init[j,3]:\n",
    "            continue\n",
    "        x_intersect = (CNT_init[j,4] - b1) / (m1 - CNT_init[j,3])\n",
    "        if CNT_init[i,1] <= x_intersect <= CNT_init[i,5] and CNT_init[j,1] <= x_intersect <= CNT_init[j,5]:\n",
    "            CNT_intersectALL[i,j] = True\n",
    "\n",
    "pylab.imshow(CNT_intersect)\n",
    "CNT_perTubeIntersect = np.sum(CNT_intersect,axis=1)\n",
    "print('The number of intersections in the network is {}.'.format(np.sum(CNT_intersect)))\n",
    "print('Below is a list where each element represents how many intersections the respective tube has:')\n",
    "print(CNT_perTubeIntersect)"
   ]
  },
  {
   "cell_type": "code",
   "execution_count": 27,
   "metadata": {},
   "outputs": [
    {
     "name": "stdout",
     "output_type": "stream",
     "text": [
      "[ 0  0  0  1  1  3  3  3  3  3  3  3  3  3  3  3  3  5  5  5  5  5  5  5  5\n",
      "  7  7  7  7  7  7  7  7  7  7  7 11 11 11 11 11 11 11 11 11 11 11 25 25 25\n",
      " 25 25 25 29 29 29 29 29 29 29 29 29 30 30 30 30 30 30 40 40 40 40 40 40 47\n",
      " 47 51 51 51 51 51 58 58 58 58 58 66 66 66 66 73 75 76 76]\n",
      "[40 73 93 16 39  7 11 29 30 40 58 66 73 75 76 92 93  7 40 51 66 73 75 87 93\n",
      " 11 25 29 40 51 66 72 73 75 76 93 25 29 30 47 49 66 72 76 92 93 98 40 58 73\n",
      " 75 76 93 30 40 58 66 73 75 76 92 93 47 58 66 68 92 93 51 66 73 75 76 93 58\n",
      " 93 58 73 75 93 98 66 76 92 93 98 72 73 75 76 93 93 92 93]\n",
      "[(0, 40, {'resistance': 10.0}), (0, 73, {'resistance': 10.0}), (0, 93, {'resistance': 10.0}), (1, 16, {'resistance': 10.0}), (1, 39, {'resistance': 10.0}), (3, 7, {'resistance': 10.0}), (3, 11, {'resistance': 10.0}), (3, 29, {'resistance': 10.0}), (3, 30, {'resistance': 10.0}), (3, 40, {'resistance': 10.0}), (3, 58, {'resistance': 10.0}), (3, 66, {'resistance': 10.0}), (3, 73, {'resistance': 10.0}), (3, 75, {'resistance': 10.0}), (3, 76, {'resistance': 10.0}), (3, 92, {'resistance': 10.0}), (3, 93, {'resistance': 10.0}), (5, 7, {'resistance': 10.0}), (5, 40, {'resistance': 10.0}), (5, 51, {'resistance': 10.0}), (5, 66, {'resistance': 10.0}), (5, 73, {'resistance': 10.0}), (5, 75, {'resistance': 10.0}), (5, 87, {'resistance': 10.0}), (5, 93, {'resistance': 10.0}), (7, 11, {'resistance': 10.0}), (7, 25, {'resistance': 10.0}), (7, 29, {'resistance': 10.0}), (7, 40, {'resistance': 10.0}), (7, 51, {'resistance': 10.0}), (7, 66, {'resistance': 10.0}), (7, 72, {'resistance': 10.0}), (7, 73, {'resistance': 10.0}), (7, 75, {'resistance': 10.0}), (7, 76, {'resistance': 10.0}), (7, 93, {'resistance': 10.0}), (11, 25, {'resistance': 10.0}), (11, 29, {'resistance': 10.0}), (11, 30, {'resistance': 10.0}), (11, 47, {'resistance': 10.0}), (11, 49, {'resistance': 10.0}), (11, 66, {'resistance': 10.0}), (11, 72, {'resistance': 10.0}), (11, 76, {'resistance': 10.0}), (11, 92, {'resistance': 10.0}), (11, 93, {'resistance': 10.0}), (11, 98, {'resistance': 10.0}), (25, 40, {'resistance': 10.0}), (25, 58, {'resistance': 10.0}), (25, 73, {'resistance': 10.0}), (25, 75, {'resistance': 10.0}), (25, 76, {'resistance': 10.0}), (25, 93, {'resistance': 10.0}), (29, 30, {'resistance': 10.0}), (29, 40, {'resistance': 10.0}), (29, 58, {'resistance': 10.0}), (29, 66, {'resistance': 10.0}), (29, 73, {'resistance': 10.0}), (29, 75, {'resistance': 10.0}), (29, 76, {'resistance': 10.0}), (29, 92, {'resistance': 10.0}), (29, 93, {'resistance': 10.0}), (30, 47, {'resistance': 10.0}), (30, 58, {'resistance': 10.0}), (30, 66, {'resistance': 10.0}), (30, 68, {'resistance': 10.0}), (30, 92, {'resistance': 10.0}), (30, 93, {'resistance': 10.0}), (40, 51, {'resistance': 10.0}), (40, 66, {'resistance': 10.0}), (40, 73, {'resistance': 10.0}), (40, 75, {'resistance': 10.0}), (40, 76, {'resistance': 10.0}), (40, 93, {'resistance': 10.0}), (47, 58, {'resistance': 10.0}), (47, 93, {'resistance': 10.0}), (51, 58, {'resistance': 10.0}), (51, 73, {'resistance': 10.0}), (51, 75, {'resistance': 10.0}), (51, 93, {'resistance': 10.0}), (51, 98, {'resistance': 10.0}), (58, 66, {'resistance': 10.0}), (58, 76, {'resistance': 10.0}), (58, 92, {'resistance': 10.0}), (58, 93, {'resistance': 10.0}), (58, 98, {'resistance': 10.0}), (66, 72, {'resistance': 10.0}), (66, 73, {'resistance': 10.0}), (66, 75, {'resistance': 10.0}), (66, 76, {'resistance': 10.0}), (73, 93, {'resistance': 10.0}), (75, 93, {'resistance': 10.0}), (76, 92, {'resistance': 10.0}), (76, 93, {'resistance': 10.0})]\n"
     ]
    }
   ],
   "source": [
    "#gives the indicies along the x-axis of the true values as the \n",
    "#first array and the y-values as the second array\n",
    "CNT_tube_num1, CNT_tube_num2 = np.where(CNT_intersect)\n",
    "edges = [None]*np.sum(CNT_intersect)\n",
    "\n",
    "#formatting the intersection data so it will fit work with networkX\n",
    "for k in range(0,np.sum(CNT_intersect)):\n",
    "    edges[k] = (CNT_tube_num1[k], CNT_tube_num2[k], {'resistance': 10.})\n",
    "print(CNT_tube_num1)\n",
    "print(CNT_tube_num2)\n",
    "print(edges)"
   ]
  },
  {
   "cell_type": "code",
   "execution_count": 31,
   "metadata": {},
   "outputs": [
    {
     "data": {
      "text/plain": [
       "<matplotlib.image.AxesImage at 0x1142fa8d0>"
      ]
     },
     "execution_count": 31,
     "metadata": {},
     "output_type": "execute_result"
    },
    {
     "data": {
      "image/png": "[encoded data removed]",
      "text/plain": [
       "<matplotlib.figure.Figure at 0x113aa5c18>"
      ]
     },
     "metadata": {},
     "output_type": "display_data"
    }
   ],
   "source": [
    "#generating a boolean array of the tubes that intersect and creating the G-matrix from that data\n",
    "G_matrix = np.zeros((CNT_num_tubes,CNT_num_tubes),dtype=bool)\n",
    "for i in range(0,CNT_num_tubes):\n",
    "    m1 = CNT_init[i,3]\n",
    "    b1 = CNT_init[i,4]\n",
    "    for j in range(0,CNT_num_tubes):\n",
    "        #Preventing errors from checking if a line intersects with itself\n",
    "        if i == j:\n",
    "            G_matrix[i,j] = False\n",
    "            continue\n",
    "        x_intersect = (CNT_init[j,4] - b1) / (m1 - CNT_init[j,3])\n",
    "        if CNT_init[i,1] <= x_intersect <= CNT_init[i,5] and CNT_init[j,1] <= x_intersect <= CNT_init[j,5]:\n",
    "            G_matrix[i,j] = True\n",
    "G_matrix = G_matrix * 2\n",
    "for k in range(0,CNT_num_tubes):\n",
    "    G_matrix[k,k] = np.sum(G_matrix[k,:])\n",
    "pylab.imshow(G_matrix)"
   ]
  },
  {
   "cell_type": "code",
   "execution_count": 34,
   "metadata": {},
   "outputs": [
    {
     "name": "stdout",
     "output_type": "stream",
     "text": [
      "[[3 1]\n",
      " [1 2]]\n",
      "[9 8]\n",
      "[ 2.  3.]\n"
     ]
    }
   ],
   "source": [
    "a = np.array([[3,1], [1,2]])\n",
    "b = np.array([9,8])\n",
    "x = np.linalg.solve(a, b)\n",
    "print(a)\n",
    "print(b)\n",
    "print(x)"
   ]
  },
  {
   "cell_type": "code",
   "execution_count": null,
   "metadata": {
    "collapsed": true
   },
   "outputs": [],
   "source": [
    "# We will use the wonderfully useful library networkx to allow us\n",
    "# to represent graphs in a nice way.\n",
    "\n",
    "example_graph = nx.Graph()\n",
    "example_graph.clear()\n",
    "example_graph.add_nodes_from(list(\"ABCDEF\"), current=0.) # initialize with all current = 0.\n",
    "edges = [\n",
    "    ('A', 'B', {'resistance': 10.}),\n",
    "    ('A', 'C', {'resistance': 1.}),\n",
    "    ('B', 'C', {'resistance': 3.}),\n",
    "    ('B', 'D', {'resistance': 100.}),\n",
    "    ('C', 'F', {'resistance': 1.}),\n",
    "    ('D', 'E', {'resistance': 4.}),\n",
    "    ('D', 'F', {'resistance': 1.}),\n",
    "    ('E', 'F', {'resistance': 15.}),\n",
    "]\n",
    "\n",
    "example_graph.add_edges_from(edges)"
   ]
  },
  {
   "cell_type": "code",
   "execution_count": 4,
   "metadata": {
    "collapsed": true
   },
   "outputs": [],
   "source": [
    "#THIS CELL IS ONLY FOR TROUBLESHOOTING, IT DOES NOT CODE FOR ANYTHING\n",
    "def num_intersect(network_size, CNT_length_normal, CNT_length_stddev, CNT_num_tubes, num_iterations=1000):\n",
    "    \"\"\"\n",
    "    This function is for testing the number of intersections in the network\n",
    "    generated with the given inputs.\n",
    "    \"\"\"\n",
    "    #initializing empty array\n",
    "    data = np.zeros(num_iterations)\n",
    "    \n",
    "    for k in range(0,num_iterations):\n",
    "        #initializing data array\n",
    "        CNT_init = np.zeros((CNT_num_tubes,6))\n",
    "\n",
    "        #Generating tube information\n",
    "        #randomly assigning tube lengths distributed around a set tube length\n",
    "        CNT_init[:,0] = np.random.normal(CNT_length_normal, CNT_length_stddev, CNT_num_tubes)\n",
    "\n",
    "        #randomly assign starting point and orientation\n",
    "        CNT_init[:,1:4] = np.random.rand(CNT_num_tubes, 3)\n",
    "\n",
    "        #applying scaling to random numbers so they match the needed values\n",
    "        scaling_factor = np.array([1, network_size, network_size, 2*np.pi, 1, 1])\n",
    "        CNT_init = CNT_init * scaling_factor\n",
    "\n",
    "        #calculating the x-range for the tubes\n",
    "        CNT_init[:,5] = np.cos(CNT_init[:,3]) * CNT_init[:,0]\n",
    "\n",
    "        #calculating slope\n",
    "        CNT_init[:,3] = np.tan(CNT_init[:,3])\n",
    "\n",
    "        #calculating the y-intercept of the lines\n",
    "        CNT_init[:,4] = CNT_init[:,2] - CNT_init[:,3] * CNT_init[:,2]\n",
    "\n",
    "        #array_size = (CNT_init[:,0].size,CNT_init[0,:].size)\n",
    "        CNT_intersect = np.zeros((CNT_num_tubes,CNT_num_tubes),dtype=bool)\n",
    "        for i in range(0,CNT_num_tubes):\n",
    "            m1 = CNT_init[i,3]\n",
    "            b1 = CNT_init[i,4]\n",
    "            for j in range(i+1,CNT_num_tubes):\n",
    "                x_intersect = (CNT_init[j,4] - b1) / (m1 - CNT_init[j,3])\n",
    "                if CNT_init[i,1] <= x_intersect <= CNT_init[i,5] and CNT_init[j,1] <= x_intersect <= CNT_init[j,5]:\n",
    "                    CNT_intersect[i,j] = True\n",
    "        data[k] = np.sum(CNT_intersect)\n",
    "    plt.hist(data)\n",
    "    plt.show()"
   ]
  },
  {
   "cell_type": "code",
   "execution_count": 5,
   "metadata": {},
   "outputs": [
    {
     "data": {
      "image/png": "[encoded data removed]",
      "text/plain": [
       "<matplotlib.figure.Figure at 0x10ae58eb8>"
      ]
     },
     "metadata": {},
     "output_type": "display_data"
    }
   ],
   "source": [
    "#THIS CELL IS ONLY FOR TROUBLESHOOTING, IT DOES NOT CODE FOR ANYTHING\n",
    "#run this cell to get a histogram of the number of connections for the given conditions\n",
    "network_size = 1000 #side length of network boundaries\n",
    "CNT_length_normal = 1000 #normal length of CNT at center of distribution\n",
    "CNT_length_stddev = 2 #standard deviation of CNT length from normal\n",
    "CNT_num_tubes = 100 #number of tubes in film\n",
    "\n",
    "num_intersect(network_size, CNT_length_normal, CNT_length_stddev, CNT_num_tubes)"
   ]
  },
  {
   "cell_type": "code",
   "execution_count": null,
   "metadata": {
    "collapsed": true
   },
   "outputs": [],
   "source": [
    "#THIS CELL IS OLD CODE AND IS NOT FOR USE IN THE FINAL PROGRAM\n",
    "def intersect(EOL_1,EOL_2):\n",
    "    #Calculates if two line segments intersect given two equations of lines given the\n",
    "    #slopes, y-intercepts, and acceptable range\n",
    "    #Input format: [slope, y_intercept, x_range]\n",
    "    m1 = EOL_1[0] #slope of line 1\n",
    "    m2 = EOL_2[0] #slope of line 2\n",
    "    b1 = EOL_1[1] #Y-intercept of line 1\n",
    "    b2 = EOL_2[1] #Y-intercept of line 2\n",
    "    x_range_1 = EOL_1[2]\n",
    "    x_range_2 = EOL_2[2]\n",
    "    \n",
    "    #Checking for parallel\n",
    "    if m1 == m2:\n",
    "        return False\n",
    "    \n",
    "    x_intersect = (b2 - b1) / (m1 - m2)\n",
    "    \n",
    "    return x_intersect in range(*x_range_1) and x_intersect in range(*x_range_2)"
   ]
  },
  {
   "cell_type": "code",
   "execution_count": null,
   "metadata": {
    "collapsed": true
   },
   "outputs": [],
   "source": [
    "#THIS CELL IS OLD CODE AND IS NOT FOR USE IN THE FINAL PROGRAM\n",
    "def EOL(endpoint_1,endpoint_2):\n",
    "    #Determines the slope, y-intercept of the parent line, and range of x-values of a line\n",
    "    #segment made by 2 points. Endpoints are input as a list of x and y values e.g. [x,y]\n",
    "    x1 = endpoint_1[0]\n",
    "    y1 = endpoint_1[1]\n",
    "    x2 = endpoint_2[0]\n",
    "    y2 = endpoint_2[1]\n",
    "    \n",
    "    #Preventing undefined values for infinite slope\n",
    "    if x1 == x2:\n",
    "        slope = 1e10\n",
    "    else:\n",
    "        slope = (y2 - y1) / (x2 - x1)\n",
    "    y_intercept = y1 - slope * x1\n",
    "    #finding range of x-values the segment runs for to make determining intersection easier\n",
    "    x_range = [np.min(x1,x2),np.max(x1,x2)]\n",
    "    return slope, y_intercept, x_range"
   ]
  },
  {
   "cell_type": "code",
   "execution_count": null,
   "metadata": {
    "collapsed": true
   },
   "outputs": [],
   "source": []
  }
 ],
 "metadata": {
  "kernelspec": {
   "display_name": "Python 3",
   "language": "python",
   "name": "python3"
  },
  "language_info": {
   "codemirror_mode": {
    "name": "ipython",
    "version": 3
   },
   "file_extension": ".py",
   "mimetype": "text/x-python",
   "name": "python",
   "nbconvert_exporter": "python",
   "pygments_lexer": "ipython3",
   "version": "3.6.1"
  }
 },
 "nbformat": 4,
 "nbformat_minor": 2
}
