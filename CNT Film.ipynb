{
 "cells": [
  {
   "cell_type": "code",
   "execution_count": 1,
   "metadata": {
    "collapsed": true
   },
   "outputs": [],
   "source": [
    "import numpy as np"
   ]
  },
  {
   "cell_type": "code",
   "execution_count": null,
   "metadata": {
    "collapsed": true
   },
   "outputs": [],
   "source": [
    "#Important variables\n",
    "network_size = 1000 #side length of network boundaries\n"
   ]
  },
  {
   "cell_type": "code",
   "execution_count": null,
   "metadata": {
    "collapsed": true
   },
   "outputs": [],
   "source": [
    "def CNT():\n",
    "    #randomly assign length distributed around a set tube length\n",
    "        #need to average tube length and distribution\n",
    "    #randomly assign starting point\n",
    "    #randomly assign angle between 0 and 180\n",
    "    "
   ]
  },
  {
   "cell_type": "code",
   "execution_count": 2,
   "metadata": {
    "collapsed": true
   },
   "outputs": [],
   "source": [
    "def EOL(endpoint_1,endpoint_2):\n",
    "    #Determines the slope, y-intercept of the parent line, and range of x-values of a line\n",
    "    #segment made by 2 points. Endpoints are input as a list of x and y values e.g. [x,y]\n",
    "    x1 = endpoint_1[0]\n",
    "    y1 = endpoint_1[1]\n",
    "    x2 = endpoint_2[0]\n",
    "    y2 = endpoint_2[1]\n",
    "    \n",
    "    #Preventing undefined values for infinite slope\n",
    "    if x1 == x2:\n",
    "        slope = 1e10\n",
    "    else:\n",
    "        slope = (y2 - y1) / (x2 - x1)\n",
    "    y_intercept = y1 - slope * x1\n",
    "    #finding range of x-values the segment runs for to make determining intersection easier\n",
    "    x_range = [np.min(x1,x2),np.max(x1,x2)]\n",
    "    return slope, y_intercept, x_range"
   ]
  },
  {
   "cell_type": "code",
   "execution_count": 3,
   "metadata": {
    "collapsed": true
   },
   "outputs": [],
   "source": [
    "def intersect(EOL_1,EOL_2):\n",
    "    #Calculates if two line segments intersect given two equations of lines given the\n",
    "    #slopes, y-intercepts, and acceptable range\n",
    "    #Input format: [slope, y_intercept, x_range]\n",
    "    m1 = EOL_1[0] #slope of line 1\n",
    "    m2 = EOL_2[0] #slope of line 2\n",
    "    b1 = EOL_1[1] #Y-intercept of line 1\n",
    "    b2 = EOL_2[1] #Y-intercept of line 2\n",
    "    x_range_1 = EOL_1[2]\n",
    "    x_range_2 = EOL_2[2]\n",
    "    \n",
    "    #Checking for parallel\n",
    "    if m1 == m2:\n",
    "        return False\n",
    "    \n",
    "    x_intersect = (b2 - b1) / (m1 - m2)\n",
    "    \n",
    "    return x_intersect in range(*x_range_1) and x_intersect in range(*x_range_2)"
   ]
  },
  {
   "cell_type": "code",
   "execution_count": null,
   "metadata": {
    "collapsed": true
   },
   "outputs": [],
   "source": [
    "def y_delta"
   ]
  },
  {
   "cell_type": "code",
   "execution_count": 29,
   "metadata": {},
   "outputs": [
    {
     "data": {
      "text/plain": [
       "1000000.0"
      ]
     },
     "execution_count": 29,
     "metadata": {},
     "output_type": "execute_result"
    }
   ],
   "source": [
    "1e6"
   ]
  },
  {
   "cell_type": "code",
   "execution_count": null,
   "metadata": {
    "collapsed": true
   },
   "outputs": [],
   "source": []
  }
 ],
 "metadata": {
  "kernelspec": {
   "display_name": "Python 3",
   "language": "python",
   "name": "python3"
  },
  "language_info": {
   "codemirror_mode": {
    "name": "ipython",
    "version": 3
   },
   "file_extension": ".py",
   "mimetype": "text/x-python",
   "name": "python",
   "nbconvert_exporter": "python",
   "pygments_lexer": "ipython3",
   "version": "3.6.1"
  }
 },
 "nbformat": 4,
 "nbformat_minor": 2
}
