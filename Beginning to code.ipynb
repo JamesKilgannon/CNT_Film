{
 "cells": [
  {
   "cell_type": "code",
   "execution_count": 1,
   "metadata": {
    "collapsed": true
   },
   "outputs": [],
   "source": [
    "import numpy as np"
   ]
  },
  {
   "cell_type": "markdown",
   "metadata": {},
   "source": [
    "Let's get some code down! \n",
    "\n",
    "I want to model the resistance through a network of resistors, where the resistance is only in the connections between the individual resistors.\n",
    "\n",
    "But I can perhaps start with the connections being perfectly conducting and the resistance being a material property of the individual resistors. That seems like it would be easier.\n",
    "\n",
    "What I need to know:\n",
    "* Fundamentals of graph theory (?)\n",
    "* Resistance in a network of resistors - this seems like something with well-established math around it\n",
    "    * yikes this is complicated\n"
   ]
  },
  {
   "cell_type": "markdown",
   "metadata": {},
   "source": [
    "---\n",
    "Let's say we want to represent the situation in a film of CNT as a mathematical graph (with nodes and lines). Make some simplifying assumptions:\n",
    "1. There is a resistance at each **node** (this corresponds with our greatly simplified picture of the physical reality)\n",
    "2. There is no resistance in the lines; just in the connections\n",
    "3. Each CNT intersects with exactly two others\n",
    "\n",
    "Developing this idea:\n",
    "* There are only ever two CNT involved at each node, meaning maximum four lines connected to the node.\n",
    "    * Problem: resistance should be zero when staying on the same CNT but not zero when jumping from one to another.\n",
    "    \n",
    "\n",
    "Oh goodness this is very complex.\n",
    "\n",
    "Ok figure that out later, let's code *something*. \n",
    "\n",
    "\n",
    "[Wikipedia: Nodal Analysis](https://en.wikipedia.org/wiki/Nodal_analysis)\n",
    "\n",
    "Nodal analysis is based on Kirchhoff's Current Law, which says the sum of currents at a node is zero. Note positive currents come toward the node and negative currents go away from the node.\n",
    "$$V=IR$$\n",
    "$$I = \\frac{V}{R}$$\n"
   ]
  },
  {
   "cell_type": "markdown",
   "metadata": {},
   "source": [
    "Sample network\n",
    "\n",
    "![img](https://dl2.pushbulletusercontent.com/vbQLyBgJMAF46sICGIOBqQGxrFnbvJFe/IMG_8700.JPG)"
   ]
  },
  {
   "cell_type": "code",
   "execution_count": 2,
   "metadata": {
    "collapsed": true
   },
   "outputs": [],
   "source": [
    "# implementing some form of nodal analysis\n",
    "\n",
    "\n",
    "#First we need a graph.\n",
    "#example directed graph from https://www.python.org/doc/essays/graphs/\n",
    "graph1 = {'A': ['B', 'C'],\n",
    "             'B': ['C', 'D'],\n",
    "             'C': ['D'],\n",
    "             'D': ['C'],\n",
    "             'E': ['F'],\n",
    "             'F': ['C']}\n",
    "# An undirected graph. Each dictionary entry lists the nodes that have a connection to the key.\n",
    "graph2 = {\n",
    "    'A': ['B', 'C'],\n",
    "    'B': ['A', 'C', 'D'],\n",
    "    'C': ['A', 'B', 'F'],\n",
    "    'D': ['B', 'E', 'F'],\n",
    "    'E': ['D', 'F'],\n",
    "    'F': ['C', 'D', 'E'],\n",
    "}\n",
    "# The resistances in graph2\n",
    "graph2_r = {\n",
    "    'AB': 10,\n",
    "    'AC': 1,\n",
    "    'BC': 3,\n",
    "    'BD': 100,\n",
    "    'CF': 1,\n",
    "    'DE': 4,\n",
    "    'DF': 1,\n",
    "    'EF': 15,\n",
    "}\n",
    "\n",
    "#vvvvvvv [[[[you can't do this]]]] vvvvvvv\n",
    "#graph2_r = {\n",
    "#     ['A', 'B']: 10.,\n",
    "#     ['A', 'C']: 1.,\n",
    "#     ['B', 'C']: 3.,\n",
    "#     ['B', 'D']: 100.,\n",
    "#     ['C', 'F']: 1.,\n",
    "#     ['D', 'E']: 4.,\n",
    "#     ['D', 'F']: 1.,\n",
    "#     ['E', 'F']: 15.\n",
    "#}\n",
    "\n",
    "def get_connections(graph, node):\n",
    "    \"\"\"\n",
    "    Returns a list of two-element lists representing the connections\n",
    "    of the specified node\n",
    "    \"\"\"\n",
    "    # given the node, find the list of all nodes to which it is connected    \n",
    "    connected = graph[node]\n",
    "    # convert each connection to the two-letter string in graph_r    \n",
    "    connections = []\n",
    "    for n in connected:\n",
    "        connections.append([node] + [n])\n",
    "    \n",
    "    return connections\n",
    "    \n",
    "def get_rs(lines, r_dict):\n",
    "    \"\"\"\n",
    "    Given a list of nodal connections (as a list of two-element lists),\n",
    "    returns a corresponding list of resistances\n",
    "    \"\"\"\n",
    "    rs = []\n",
    "    for line in lines:\n",
    "        \n",
    "        str = ''.join(sorted(line))\n",
    "        try:\n",
    "            rs.append(r_dict[str])\n",
    "        except KeyError:\n",
    "            #print(\"Error: no resistance value found for connection {}\".format(line))\n",
    "            rs.append(None)\n",
    "            raise\n",
    "    return rs\n",
    "    \n",
    "def nodal_analysis(graph, node):\n",
    "    \"\"\"\n",
    "    graph should be a dictionary with nodes as keys\n",
    "    node should be one of the nodes in graph\n",
    "    \"\"\"\n",
    "    \n",
    "    \n",
    "    #hang on, I'm pausing mid-programming here. see below.\n",
    "    \n",
    "    "
   ]
  },
  {
   "cell_type": "code",
   "execution_count": null,
   "metadata": {
    "collapsed": true
   },
   "outputs": [],
   "source": []
  },
  {
   "cell_type": "markdown",
   "metadata": {},
   "source": [
    "A couple of hours on a Sunday night is not enough time to learn circuit theory. I need to retain my sanity.\n",
    "\n",
    "For \"Nodal Analysis\" we need to know where current is being applied to the whole system. We can do this by fixing the current at the two nodes between which the current is applied.\n",
    "\n",
    "Let's imagine we apply a 2A current from B to D, making \n",
    "$$\n",
    "i_B = -2A\n",
    "$$\n",
    "and \n",
    "$$\n",
    "i_D = +2A\n",
    "$$"
   ]
  },
  {
   "cell_type": "code",
   "execution_count": 3,
   "metadata": {
    "collapsed": true
   },
   "outputs": [],
   "source": [
    "# dict containing voltages at each node, default 0\n",
    "graph2_v = {\n",
    "        'A': 0.,\n",
    "        'B': 0.,\n",
    "        'C': 0.,\n",
    "        'D': 0.,\n",
    "        'E': 0.,\n",
    "        'F': 0.}"
   ]
  },
  {
   "cell_type": "markdown",
   "metadata": {},
   "source": [
    "We want to make a matrix in the following form:\n",
    "\n",
    " | | | | \n",
    "---|---|---|---|---\n",
    "G_11|G_12|G_13|...|G_1N\n",
    "G_21|G_22|...|...|G_2N\n",
    "...|...|...|...|...\n",
    "G_N1|G_N2|...|...|G_NN\n",
    "\n",
    "Where in this case we'll use the DC simplification\n",
    "$G=\\frac{1}{R}$\n",
    "\n",
    "And we know $G_{ii}$ is the sum of $G$s connected to node $i$\n",
    "\n",
    "~~And also that $G_{ij}$ is the negative sum of $G$s between $i$ and $j$~~\n",
    "\n",
    "From the paper [\"Modeling percolation...\"](http://www.mdpi.com/1996-1944/8/10/5334), we read that $G_{ij}=0$ except when $i$ and $j$ have a *direct* connection by one resistor. When they do have a direct connection, $G_{ij} = -\\frac{1}{R_{ij}}$\n",
    "\n",
    "(note, this may be a simplification the authors of that paper used[{?}])"
   ]
  },
  {
   "cell_type": "code",
   "execution_count": 4,
   "metadata": {
    "collapsed": true
   },
   "outputs": [],
   "source": [
    "\n",
    "\n",
    "def G_matrix(graph, graph_r):\n",
    "    \"\"\"\n",
    "    Returns a matrix of the conductances G[i][j], given a graph and \n",
    "    a listing of the resistances of edges in the graph.\n",
    "    \"\"\"\n",
    "    num_nodes = len(graph)\n",
    "    G = np.zeros((num_nodes, num_nodes))\n",
    "    ii=0\n",
    "    for i in graph:\n",
    "        jj=0\n",
    "        for j in graph:\n",
    "\n",
    "\n",
    "            if i==j: # i.e. if this element is on the diagonal\n",
    "                Gij = 1./sum(get_rs(get_connections(graph, i),graph_r))\n",
    "                G[ii][jj] = Gij\n",
    "            elif ii<jj: # i.e. if we're above the diagonal\n",
    "                #print([i,j])\n",
    "                # this sets Gij to the negative reciprocal of Rij if there is a \n",
    "                # direct connection between nodes i and j. If not, it leaves it 0.\n",
    "                try:\n",
    "                    resistance = get_rs([[i,j]], graph_r)\n",
    "                    #print(resistance)\n",
    "                    Gij = 1./resistance[0]\n",
    "                    G[ii][jj] = Gij\n",
    "                except KeyError:\n",
    "                    pass # (it's already set to zero)\n",
    "            else: # i.e. if we're below the diagonal\n",
    "                if not G[jj][ii] == 0.:\n",
    "                    G[ii][jj] = G[jj][ii] # because the matrix is symmetric\n",
    "            jj += 1\n",
    "        ii += 1    \n",
    "    return G\n",
    "\n"
   ]
  },
  {
   "cell_type": "markdown",
   "metadata": {},
   "source": [
    "To calculate the equivalent resistance between two points in the graph, here's a cno"
   ]
  },
  {
   "cell_type": "code",
   "execution_count": 5,
   "metadata": {
    "collapsed": true
   },
   "outputs": [],
   "source": [
    "###############################################################\n",
    "###############################################################\n",
    "###############################################################\n",
    "# code below here is not useful with the re-thought G matrix! #\n",
    "###############################################################\n",
    "###############################################################\n",
    "###############################################################"
   ]
  },
  {
   "cell_type": "code",
   "execution_count": 6,
   "metadata": {
    "collapsed": true
   },
   "outputs": [],
   "source": [
    "# for reference \n",
    "graph2 = {\n",
    "    'A': ['B', 'C'],\n",
    "    'B': ['A', 'C', 'D'],\n",
    "    'C': ['A', 'B', 'F'],\n",
    "    'D': ['B', 'E', 'F'],\n",
    "    'E': ['D', 'F'],\n",
    "    'F': ['C', 'D', 'E'],\n",
    "}\n"
   ]
  },
  {
   "cell_type": "code",
   "execution_count": 7,
   "metadata": {
    "collapsed": true
   },
   "outputs": [],
   "source": [
    "def paths_len_2(graph):\n",
    "    \"\"\" \n",
    "    Returns a list of lists of strings, containing all the possible\n",
    "    2-length paths in the graph. Does not repeat any paths,\n",
    "    but does allow paths that are the reverse of each other.\n",
    "    \"\"\"\n",
    "    paths = []\n",
    "    nodes_completed = []\n",
    "    for node in graph:\n",
    "        for n in graph[node]:\n",
    "            #if not n in nodes_completed:\n",
    "                paths.append([node, n])\n",
    "        nodes_completed.append(node)\n",
    "    return paths"
   ]
  },
  {
   "cell_type": "code",
   "execution_count": null,
   "metadata": {
    "collapsed": true
   },
   "outputs": [],
   "source": [
    "\n"
   ]
  },
  {
   "cell_type": "code",
   "execution_count": 8,
   "metadata": {},
   "outputs": [
    {
     "data": {
      "text/plain": [
       "[['A', 'B'],\n",
       " ['A', 'C'],\n",
       " ['B', 'C'],\n",
       " ['B', 'D'],\n",
       " ['C', 'F'],\n",
       " ['D', 'E'],\n",
       " ['D', 'F'],\n",
       " ['E', 'F']]"
      ]
     },
     "execution_count": 8,
     "metadata": {},
     "output_type": "execute_result"
    }
   ],
   "source": [
    "[['A', 'B'],\n",
    " ['A', 'C'],\n",
    " ['B', 'C'],\n",
    " ['B', 'D'],\n",
    " ['C', 'F'],\n",
    " ['D', 'E'],\n",
    " ['D', 'F'],\n",
    " ['E', 'F']]"
   ]
  },
  {
   "cell_type": "code",
   "execution_count": 9,
   "metadata": {
    "collapsed": true
   },
   "outputs": [],
   "source": [
    "def all_paths(graph):\n",
    "    \"\"\"\n",
    "    Finds all of the paths in the graph. Excludes paths which visit any node more\n",
    "    than once. Does not exclude paths which are the reverse of other paths.\n",
    "    \"\"\"\n",
    "    all_paths = []\n",
    "    # uses the paths_len_2 function to get started\n",
    "    paths_n = paths_len_2(graph)\n",
    "\n",
    "    all_paths += paths_n\n",
    "\n",
    "    # this loop will do all the >2 length paths\n",
    "    for i in range(3, len(graph)+1):\n",
    "        paths_len_n = []\n",
    "        for path in paths_n:\n",
    "            t_connections = graph[path[-1]]\n",
    "            for n in t_connections:\n",
    "                if not n in path:\n",
    "                    paths_len_n.append(path + [n])\n",
    "        all_paths += paths_len_n\n",
    "        paths_n = paths_len_n\n",
    "\n",
    "    return all_paths"
   ]
  },
  {
   "cell_type": "code",
   "execution_count": 10,
   "metadata": {
    "collapsed": true,
    "scrolled": true
   },
   "outputs": [],
   "source": [
    "#%%timeit\n",
    "#all_paths(graph2)"
   ]
  },
  {
   "cell_type": "code",
   "execution_count": 11,
   "metadata": {
    "collapsed": true
   },
   "outputs": [],
   "source": [
    "###############################################################\n",
    "###############################################################\n",
    "###############################################################\n",
    "# code above here is not useful with the re-thought G matrix! #\n",
    "###############################################################\n",
    "###############################################################\n",
    "###############################################################"
   ]
  },
  {
   "cell_type": "code",
   "execution_count": 12,
   "metadata": {
    "collapsed": true
   },
   "outputs": [],
   "source": [
    "graph2_r_alt = {\n",
    "    'AB': 1.,\n",
    "    'AC': 1.,\n",
    "    'BC': 1.,\n",
    "    'BD': 1.,\n",
    "    'CF': 1.,\n",
    "    'DE': 1.,\n",
    "    'DF': 1.,\n",
    "    'EF': 1.,\n",
    "}"
   ]
  },
  {
   "cell_type": "code",
   "execution_count": 13,
   "metadata": {},
   "outputs": [
    {
     "name": "stdout",
     "output_type": "stream",
     "text": [
      "Currents: [ 0.  1.  0.  0. -1.  0.]\n",
      "Node voltages: [ 2.18181818  0.05454545 -1.14545455 -0.05454545  1.81818182 -1.85454545]\n",
      "The calculated equivalent resistance is 1.7636363636363637 V\n"
     ]
    }
   ],
   "source": [
    "\n",
    "# Set our known conditions\n",
    "graph2_v['B'] = -2.\n",
    "graph2_v['D'] = 2.\n",
    "\n",
    "G = G_matrix(graph2, graph2_r_alt)\n",
    "\n",
    "graph = graph2\n",
    "test_nodes = ['E', 'B']\n",
    "\n",
    "#Put a 1A current between the nodes we're concerned with\n",
    "I = np.zeros(len(graph))\n",
    "first_I = True\n",
    "k = 0\n",
    "assert len(test_nodes) == 2\n",
    "for node in graph:\n",
    "    if node in test_nodes:\n",
    "        if first_I:\n",
    "            I[k] = 1.\n",
    "            first_I = False\n",
    "        else:\n",
    "            I[k] = -1.\n",
    "    k += 1\n",
    "V = np.linalg.solve(G, I)\n",
    "\n",
    "print(\"Currents: {}\".format(I))\n",
    "print(\"Node voltages: {}\".format(V)) # is the voltage at each node.\n",
    "\n",
    "# Now we use the voltages at the two nodes of interest\n",
    "# to get the equivalent resistance. We don't have to divide by \n",
    "# the current since we used a 1A current.\n",
    "equivalent_resistance = abs(sum(I*V)) # numpy matrix operations make this really simple!\n",
    "print(\"The calculated equivalent resistance is {} V\".format(equivalent_resistance))"
   ]
  },
  {
   "cell_type": "code",
   "execution_count": null,
   "metadata": {
    "collapsed": true
   },
   "outputs": [],
   "source": []
  },
  {
   "cell_type": "code",
   "execution_count": null,
   "metadata": {
    "collapsed": true
   },
   "outputs": [],
   "source": []
  },
  {
   "cell_type": "code",
   "execution_count": null,
   "metadata": {
    "collapsed": true
   },
   "outputs": [],
   "source": []
  }
 ],
 "metadata": {
  "kernelspec": {
   "display_name": "Python 3",
   "language": "python",
   "name": "python3"
  },
  "language_info": {
   "codemirror_mode": {
    "name": "ipython",
    "version": 3
   },
   "file_extension": ".py",
   "mimetype": "text/x-python",
   "name": "python",
   "nbconvert_exporter": "python",
   "pygments_lexer": "ipython3",
   "version": "3.6.1"
  }
 },
 "nbformat": 4,
 "nbformat_minor": 2
}
