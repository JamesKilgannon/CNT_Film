{
 "cells": [
  {
   "cell_type": "code",
   "execution_count": 1,
   "metadata": {
    "collapsed": true
   },
   "outputs": [],
   "source": [
    "from matplotlib import pyplot as plt\n",
    "from matplotlib import pylab #displays arrays as images for easy error checking\n",
    "import numpy as np\n",
    "import networkx as nx\n",
    "\n",
    "%matplotlib inline"
   ]
  },
  {
   "cell_type": "code",
   "execution_count": 3,
   "metadata": {
    "collapsed": true
   },
   "outputs": [],
   "source": [
    "#Important variables\n",
    "network_size = 1000 #side length of network boundaries\n",
    "CNT_length_normal = 1000 #normal length of CNT at center of distribution\n",
    "CNT_length_stddev = 2 #standard deviation of CNT length from normal\n",
    "CNT_num_tubes = 100 #number of tubes in film\n",
    "\n",
    "CNT_init = np.zeros((CNT_num_tubes,6))\n",
    "\n",
    "#Generating tube information\n",
    "#randomly assigning tube lengths distributed around a set tube length\n",
    "CNT_init[:,0] = np.random.normal(CNT_length_normal, CNT_length_stddev, CNT_num_tubes)\n",
    "\n",
    "#randomly assign starting point and orientation\n",
    "CNT_init[:,1:4] = np.random.rand(CNT_num_tubes, 3)\n",
    "\n",
    "#applying scaling to random numbers so they match the needed values\n",
    "scaling_factor = np.array([1, network_size, network_size, 2*np.pi, 1, 1])\n",
    "CNT_init = CNT_init * scaling_factor\n",
    "\n",
    "#calculating the x-range for the tubes\n",
    "CNT_init[:,5] = np.cos(CNT_init[:,3]) * CNT_init[:,0]\n",
    "\n",
    "#calculating slope\n",
    "CNT_init[:,3] = np.tan(CNT_init[:,3])\n",
    "\n",
    "#calculating the y-intercept of the lines\n",
    "CNT_init[:,4] = CNT_init[:,2] - CNT_init[:,3] * CNT_init[:,2]"
   ]
  },
  {
   "cell_type": "code",
   "execution_count": 4,
   "metadata": {
    "collapsed": true
   },
   "outputs": [],
   "source": [
    "#generating a boolean array of the tubes that intersect\n",
    "CNT_intersect = np.zeros((CNT_num_tubes,CNT_num_tubes),dtype=bool)\n",
    "for i in range(0,CNT_num_tubes):\n",
    "    m1 = CNT_init[i,3]\n",
    "    b1 = CNT_init[i,4]\n",
    "    for j in range(i+1,CNT_num_tubes):\n",
    "        x_intersect = (CNT_init[j,4] - b1) / (m1 - CNT_init[j,3])\n",
    "        if CNT_init[i,1] <= x_intersect <= CNT_init[i,5] and CNT_init[j,1] <= x_intersect <= CNT_init[j,5]:\n",
    "            CNT_intersect[i,j] = True"
   ]
  },
  {
   "cell_type": "code",
   "execution_count": 5,
   "metadata": {
    "collapsed": true
   },
   "outputs": [],
   "source": [
    "#gives the indicies along the x-axis of the true values as the \n",
    "#first array and the y-values as the second array\n",
    "CNT_tube_num1, CNT_tube_num2 = np.where(CNT_intersect)\n",
    "edges = [None]*np.sum(CNT_intersect)\n",
    "\n",
    "#formatting the intersection data so it will fit work with networkX\n",
    "for k in range(0,np.sum(CNT_intersect)):\n",
    "    edges[k] = (CNT_tube_num1[k], CNT_tube_num2[k], {'resistance': 10.})"
   ]
  },
  {
   "cell_type": "code",
   "execution_count": null,
   "metadata": {
    "collapsed": true
   },
   "outputs": [],
   "source": []
  }
 ],
 "metadata": {
  "kernelspec": {
   "display_name": "Python 3",
   "language": "python",
   "name": "python3"
  },
  "language_info": {
   "codemirror_mode": {
    "name": "ipython",
    "version": 3
   },
   "file_extension": ".py",
   "mimetype": "text/x-python",
   "name": "python",
   "nbconvert_exporter": "python",
   "pygments_lexer": "ipython3",
   "version": "3.6.1"
  }
 },
 "nbformat": 4,
 "nbformat_minor": 2
}
