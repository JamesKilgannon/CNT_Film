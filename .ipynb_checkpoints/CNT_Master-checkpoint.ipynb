{
 "cells": [
  {
   "cell_type": "code",
   "execution_count": 11,
   "metadata": {
    "collapsed": true
   },
   "outputs": [],
   "source": [
    "from ipywidgets import widgets, interact\n",
    "from IPython.display import display\n",
    "from matplotlib import pyplot as plt\n",
    "from matplotlib import pylab #displays arrays as images for easy error checking\n",
    "import numpy as np\n",
    "import scipy as sp\n",
    "import networkx as nx\n",
    "import seaborn as sbn\n",
    "from PIL import Image\n",
    "from PIL import ImageDraw\n",
    "from IPython.core.pylabtools import figsize\n",
    "figsize(12, 10)\n",
    "%matplotlib inline"
   ]
  },
  {
   "cell_type": "code",
   "execution_count": 2,
   "metadata": {
    "collapsed": true
   },
   "outputs": [],
   "source": [
    "# Functions for equivalent resistance calculation\n",
    "\n",
    "def G_matrix(graph):\n",
    "    \"\"\"\n",
    "    Using the data from the input networkx graph, returns\n",
    "    the G matrix needed to complete the nodal analysis calculation.\n",
    "    \"\"\"\n",
    "    # Find the reciprocal of resistance for each connection (i.e. each edge)\n",
    "    for node1, node2 in graph.edges():\n",
    "        graph[node1][node2]['reciprocalR'] = 1.0 / graph[node1][node2]['resistance']\n",
    "    # The adjacency matrix gives all needed elements but the diagonal\n",
    "    G = nx.adjacency_matrix(graph, weight='reciprocalR')\n",
    "    # Add the diagonal\n",
    "    G.setdiag(np.squeeze(np.asarray(-nx.incidence_matrix(graph, weight='reciprocalR').sum(axis=1))))\n",
    "    # G is a csr_matrix, but we want an array\n",
    "    return G.toarray()\n",
    "\n",
    "def equivalent_resistance(graph, check_nodes):\n",
    "    \"\"\"\n",
    "    Given a graph and a list of two check nodes,\n",
    "    computes the equivalent resistance.\n",
    "    \"\"\"\n",
    "\n",
    "    # Get the G matrix\n",
    "    G = G_matrix(graph)\n",
    "    I = np.zeros(len(G))\n",
    "    I[check_nodes[0]] = 1.\n",
    "    I[check_nodes[1]] = -1.\n",
    "    \n",
    "    # Solve for the voltage matrix\n",
    "    try:\n",
    "        V = np.linalg.solve(G, I)\n",
    "        \n",
    "        # use a simple numpy operation to compute the equivalent resistance\n",
    "        equivalent_resistance = abs(sum(I*V))\n",
    "        return equivalent_resistance\n",
    "    except:\n",
    "        # if np.linalg.solve fails, raise an error\n",
    "        print(\"Error: could not solve the matrix equation. Is the G-matrix singular?\")\n",
    "        raise"
   ]
  },
  {
   "cell_type": "code",
   "execution_count": 3,
   "metadata": {
    "collapsed": true
   },
   "outputs": [],
   "source": [
    "# credit to Bryce Boe http://bryceboe.com/2006/10/23/line-segment-intersection-algorithm/\n",
    "\n",
    "def ccw(ax, ay, bx, by, cx, cy):\n",
    "    \"\"\"\n",
    "    Determines whether points a, b, and c are counerclockwise\n",
    "    \"\"\"\n",
    "    return (cy - ay)*(bx - ax) > (by-ay)*(cx-ax)\n",
    "\n",
    "def intersect(ax, ay, bx, by, cx, cy, dx, dy):\n",
    "    \"\"\"\n",
    "    a and b describe one line segment; c and d describe another.\n",
    "    \"\"\"\n",
    "    return (ccw(ax, ay, cx, cy, dx, dy) != ccw(bx, by, cx, cy, dx, dy) and\n",
    "            ccw(ax, ay, bx, by, cx, cy) != ccw(ax, ay, bx, by, dx, dy))"
   ]
  },
  {
   "cell_type": "code",
   "execution_count": 4,
   "metadata": {
    "collapsed": true
   },
   "outputs": [],
   "source": [
    "def draw_network(network_size, CNT_endpoints, contiguous_nodes):\n",
    "    \"\"\"\n",
    "    Outputs a drawing of the CNT network of given size\n",
    "    whose endpoints are listed in CNT_endpoints.\n",
    "    \"\"\"\n",
    "    \n",
    "    #size of image\n",
    "    image_size = (network_size, network_size) #pixels\n",
    "    #initializing a blank image\n",
    "    image = Image.new('RGBA', image_size, (255,255,255,255))\n",
    "    #selecting the image in which to draw and creating the drawing interface\n",
    "    draw = ImageDraw.Draw(image)\n",
    "    #setting the color for each line as black\n",
    "    black = (0, 0, 0, 255) \n",
    "    red = (255, 0, 0, 255)\n",
    "\n",
    "    #drawing the individual line segment on the image\n",
    "    for tube in CNT_endpoints:\n",
    "        draw.line(((tube[0],tube[1]),(tube[2],tube[3])), fill=black, width=1)\n",
    "        \n",
    "    for i, tube in enumerate(CNT_endpoints):\n",
    "        if i+2 in contiguous_nodes: #add 2 to index because CNT_endpoints doesn't contain tubes 0 and 1\n",
    "            draw.line(((tube[0],tube[1]),(tube[2],tube[3])), fill=red, width=1)\n",
    "\n",
    "    #dislplaying the image\n",
    "    plt.imshow(np.asarray(image), origin='lower')\n",
    "    plt.show()\n",
    "    image.save('CNT_network.png')"
   ]
  },
  {
   "cell_type": "code",
   "execution_count": 7,
   "metadata": {
    "collapsed": true
   },
   "outputs": [],
   "source": [
    "#Important variables\n",
    "network_size = 10 #side length of network boundaries\n",
    "CNT_length_normal = 445 #normal length of CNT at center of distribution\n",
    "CNT_length_stddev = 310 #standard deviation of CNT length from normal\n",
    "CNT_num_tubes = 1000 #number of tubes in film\n",
    "resistance_mean = 10\n",
    "resistance_stddev = 1\n",
    "\n",
    "def model(network_size,\n",
    "         CNT_length_normal,\n",
    "         CNT_length_stddev,\n",
    "         CNT_num_tubes,\n",
    "         resistance_mean,\n",
    "         resistance_stddev):\n",
    "    \"\"\"\n",
    "    Returns the equivalent resistance, given inputs of the size of the CNT film,\n",
    "    and information about the tubes' size distribution.\n",
    "    \"\"\"\n",
    "    CNT_init = np.zeros((CNT_num_tubes+2,7))\n",
    "\n",
    "    #creating the pseudo tubes that will act as the edges in the network\n",
    "    CNT_init[0:2,:] = [[network_size,0,0,0,0,network_size,0],\n",
    "                       [network_size,0,1,0,network_size,network_size,network_size]]\n",
    "    \n",
    "    #Generating tube information\n",
    "    #randomly assigning tube lengths distributed around a set tube length\n",
    "    logmean = np.log(CNT_length_normal / (np.sqrt(1+(CNT_length_stddev/CNT_length_normal)**2)))\n",
    "    logstdev = np.sqrt(np.log(1+(CNT_length_stddev/CNT_length_normal)**2))\n",
    "    CNT_init[2:,0] = np.random.lognormal(logmean, logstdev, CNT_num_tubes)\n",
    "\n",
    "    #randomly assign starting point and orientation\n",
    "    CNT_init[2:,1:4] = np.random.rand(CNT_num_tubes, 3)\n",
    "\n",
    "    #applying scaling to random numbers so they match the needed values\n",
    "    scaling_factor = np.array([1, network_size, network_size, 2*np.pi, 1, 1, 1])\n",
    "    CNT_init = CNT_init * scaling_factor\n",
    "\n",
    "    #calculating the x-max for the tubes\n",
    "    CNT_init[:,5] = CNT_init[:,1] + np.cos(CNT_init[:,3]) * CNT_init[:,0]\n",
    "\n",
    "    #calculating the y-max for the tubes\n",
    "    CNT_init[:,6] = CNT_init[:,2] + np.sin(CNT_init[:,3]) * CNT_init[:,0]\n",
    "\n",
    "    #calculating slope\n",
    "    CNT_init[:,3] = np.tan(CNT_init[:,3])\n",
    "    \n",
    "    #calculating the y-intercept of the lines\n",
    "    CNT_init[:,4] = CNT_init[:,2] - CNT_init[:,3] * CNT_init[:,2]\n",
    "\n",
    "    #generating a boolean array of the tubes that intersect\n",
    "    CNT_intersect = np.zeros((CNT_num_tubes+2,CNT_num_tubes+2),dtype=bool)\n",
    "    \n",
    "    for i,row1 in enumerate(CNT_init):\n",
    "        for j,row2 in enumerate(CNT_init[i+1:,:]):\n",
    "            coords = np.concatenate((row1[1:3], row1[5:7], row2[1:3], row2[5:7]))\n",
    "            if intersect(*coords):\n",
    "                CNT_intersect[i,j+i+1] = True\n",
    "    \n",
    "    #gives the indicies along the x-axis of the true values as the \n",
    "    #first array and the y-values as the second array\n",
    "    CNT_tube_num1, CNT_tube_num2 = np.where(CNT_intersect)\n",
    "    \n",
    "    #add the intersections as edges in a networkx graph\n",
    "    graph = nx.Graph()\n",
    "    graph.add_edges_from((CNT_tube_num1[k], CNT_tube_num2[k],\n",
    "                          {'resistance': np.random.normal(resistance_mean, resistance_stddev)})\n",
    "                         for k in range(0, np.sum(CNT_intersect)))\n",
    "    \n",
    "    #get rid of any bits of the graph not contiguous with node 0 (one of the test nodes)\n",
    "    #thanks to Pieter Swart from 2006 [https://groups.google.com/forum/#!topic/networkx-discuss/XmP5wZhrDMI]\n",
    "    try:\n",
    "        contiguous_nodes = nx.node_connected_component(graph, 0)\n",
    "        new_graph = graph.subgraph(contiguous_nodes)\n",
    "    except KeyError:\n",
    "        print(\"Could not compute equivalent resistance; the starting tube has no intersections\")\n",
    "        path_exists = False\n",
    "    \n",
    "    #draw the network:\n",
    "    #generating the endpoints for the tubes in the network\n",
    "    CNT_endpoints = np.zeros((CNT_num_tubes,4))\n",
    "    CNT_endpoints[:,0:2] = CNT_init[2:,1:3]\n",
    "    CNT_endpoints[:,2:4] = CNT_init[2:,5:7]\n",
    "    #call the drawing function\n",
    "    draw_network(network_size, CNT_endpoints, contiguous_nodes)\n",
    "    \n",
    "    #draw the networkx graph\n",
    "    nx.draw(new_graph, with_labels=True, font_weight='bold')\n",
    "    plt.savefig(\"networkx_drawing.png\")\n",
    "    \n",
    "    #computes equiv. resistance\n",
    "    if nx.has_path(new_graph, 0, 1):\n",
    "        try:\n",
    "            eqr = equivalent_resistance(new_graph,[0,1])\n",
    "        except:\n",
    "            eqr = np.nan\n",
    "    else:\n",
    "        print(\"Could not compute equivalent resistance; there is no contiguous path through the network.\")\n",
    "        eqr = np.nan\n",
    " \n",
    "    return eqr"
   ]
  },
  {
   "cell_type": "code",
   "execution_count": 12,
   "metadata": {
    "scrolled": false
   },
   "outputs": [
    {
     "data": {
      "image/png": "[encoded data removed]",
      "text/plain": [
       "<matplotlib.figure.Figure at 0x1180e47b8>"
      ]
     },
     "metadata": {},
     "output_type": "display_data"
    },
    {
     "name": "stdout",
     "output_type": "stream",
     "text": [
      "Equivalent resistance: 6.639653081855966 ohm/sq\n"
     ]
    },
    {
     "name": "stderr",
     "output_type": "stream",
     "text": [
      "/Users/mplajer/anaconda/lib/python3.6/site-packages/scipy/sparse/compressed.py:774: SparseEfficiencyWarning: Changing the sparsity structure of a csr_matrix is expensive. lil_matrix is more efficient.\n",
      "  SparseEfficiencyWarning)\n"
     ]
    },
    {
     "data": {
      "image/png": "[encoded data removed]",
      "text/plain": [
       "<matplotlib.figure.Figure at 0x1180e4748>"
      ]
     },
     "metadata": {},
     "output_type": "display_data"
    }
   ],
   "source": [
    "np.random.seed(42)\n",
    "print(\"Equivalent resistance: {} ohm/sq\"\n",
    "      .format(model(1000, CNT_length_normal, CNT_length_stddev, 30, 10, 1)))"
   ]
  },
  {
   "cell_type": "code",
   "execution_count": null,
   "metadata": {
    "collapsed": true
   },
   "outputs": [],
   "source": []
  }
 ],
 "metadata": {
  "kernelspec": {
   "display_name": "Python 3",
   "language": "python",
   "name": "python3"
  },
  "language_info": {
   "codemirror_mode": {
    "name": "ipython",
    "version": 3
   },
   "file_extension": ".py",
   "mimetype": "text/x-python",
   "name": "python",
   "nbconvert_exporter": "python",
   "pygments_lexer": "ipython3",
   "version": "3.6.1"
  }
 },
 "nbformat": 4,
 "nbformat_minor": 2
}
