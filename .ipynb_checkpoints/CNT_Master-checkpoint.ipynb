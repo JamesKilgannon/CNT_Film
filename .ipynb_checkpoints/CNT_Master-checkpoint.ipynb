{
 "cells": [
  {
   "cell_type": "code",
   "execution_count": 1,
   "metadata": {
    "collapsed": true
   },
   "outputs": [],
   "source": [
    "from matplotlib import pyplot as plt\n",
    "from matplotlib import pylab #displays arrays as images for easy error checking\n",
    "import numpy as np\n",
    "import scipy as sp\n",
    "import networkx as nx\n",
    "\n",
    "%matplotlib inline"
   ]
  },
  {
   "cell_type": "code",
   "execution_count": 2,
   "metadata": {
    "collapsed": true
   },
   "outputs": [],
   "source": [
    "#Important variables\n",
    "network_size = 1000 #side length of network boundaries\n",
    "CNT_length_normal = 1000 #normal length of CNT at center of distribution\n",
    "CNT_length_stddev = 2 #standard deviation of CNT length from normal\n",
    "CNT_num_tubes = 100 #number of tubes in film\n",
    "\n",
    "CNT_init = np.zeros((CNT_num_tubes+2,6))\n",
    "\n",
    "#creating the pseudo tubes that will act as the edges in the network\n",
    "CNT_init[0:2,:] = [[network_size,0,0,0,0,network_size],\n",
    "                   [network_size,0,1,0,network_size,network_size]]\n",
    "\n",
    "#Generating tube information\n",
    "#randomly assigning tube lengths distributed around a set tube length\n",
    "CNT_init[2:,0] = np.random.normal(CNT_length_normal, CNT_length_stddev, CNT_num_tubes)\n",
    "\n",
    "#randomly assign starting point and orientation\n",
    "CNT_init[2:,1:4] = np.random.rand(CNT_num_tubes, 3)\n",
    "\n",
    "#applying scaling to random numbers so they match the needed values\n",
    "scaling_factor = np.array([1, network_size, network_size, 2*np.pi, 1, 1])\n",
    "CNT_init = CNT_init * scaling_factor\n",
    "\n",
    "#calculating the x-range for the tubes\n",
    "CNT_init[:,5] = np.cos(CNT_init[:,3]) * CNT_init[:,0]\n",
    "\n",
    "#calculating slope\n",
    "CNT_init[:,3] = np.tan(CNT_init[:,3])\n",
    "\n",
    "#calculating the y-intercept of the lines\n",
    "CNT_init[:,4] = CNT_init[:,2] - CNT_init[:,3] * CNT_init[:,2]"
   ]
  },
  {
   "cell_type": "code",
   "execution_count": 3,
   "metadata": {
    "collapsed": true
   },
   "outputs": [],
   "source": [
    "#generating a boolean array of the tubes that intersect\n",
    "CNT_intersect = np.zeros((CNT_num_tubes,CNT_num_tubes),dtype=bool)\n",
    "for i in range(0,CNT_num_tubes):\n",
    "    m1 = CNT_init[i,3]\n",
    "    b1 = CNT_init[i,4]\n",
    "    for j in range(i+1,CNT_num_tubes):\n",
    "        #checking for parallel tubes\n",
    "        if m1 == CNT_init[j,3]:\n",
    "            CNT_intersect[i,j] = False\n",
    "            continue\n",
    "        x_intersect = (CNT_init[j,4] - b1) / (m1 - CNT_init[j,3])\n",
    "        if CNT_init[i,1] <= x_intersect <= CNT_init[i,5] and CNT_init[j,1] <= x_intersect <= CNT_init[j,5]:\n",
    "            CNT_intersect[i,j] = True"
   ]
  },
  {
   "cell_type": "code",
   "execution_count": 4,
   "metadata": {
    "collapsed": true
   },
   "outputs": [],
   "source": [
    "#gives the indicies along the x-axis of the true values as the \n",
    "#first array and the y-values as the second array\n",
    "CNT_tube_num1, CNT_tube_num2 = np.where(CNT_intersect)\n",
    "edges = [None]*np.sum(CNT_intersect)\n",
    "\n",
    "#formatting the intersection data so it will fit work with networkX\n",
    "for k in range(0,np.sum(CNT_intersect)):\n",
    "    edges[k] = (CNT_tube_num1[k], CNT_tube_num2[k], {'resistance': 10.})"
   ]
  },
  {
   "cell_type": "code",
   "execution_count": 5,
   "metadata": {},
   "outputs": [
    {
     "ename": "TypeError",
     "evalue": "'module' object is not callable",
     "output_type": "error",
     "traceback": [
      "\u001b[0;31m---------------------------------------------------------------------------\u001b[0m",
      "\u001b[0;31mTypeError\u001b[0m                                 Traceback (most recent call last)",
      "\u001b[0;32m<ipython-input-5-fc078741a398>\u001b[0m in \u001b[0;36m<module>\u001b[0;34m()\u001b[0m\n\u001b[0;32m----> 1\u001b[0;31m \u001b[0mgraph\u001b[0m \u001b[0;34m=\u001b[0m \u001b[0mnx\u001b[0m\u001b[0;34m.\u001b[0m\u001b[0mgraph\u001b[0m\u001b[0;34m(\u001b[0m\u001b[0;34m)\u001b[0m\u001b[0;34m\u001b[0m\u001b[0m\n\u001b[0m\u001b[1;32m      2\u001b[0m \u001b[0mgraph\u001b[0m\u001b[0;34m.\u001b[0m\u001b[0madd_edges_from\u001b[0m\u001b[0;34m(\u001b[0m\u001b[0medges\u001b[0m\u001b[0;34m)\u001b[0m\u001b[0;34m\u001b[0m\u001b[0m\n",
      "\u001b[0;31mTypeError\u001b[0m: 'module' object is not callable"
     ]
    }
   ],
   "source": [
    "graph = nx.graph()\n",
    "graph.add_edges_from(edges)"
   ]
  },
  {
   "cell_type": "raw",
   "metadata": {
    "collapsed": true
   },
   "source": [
    "#generating a boolean array of the tubes that intersect and creating the G-matrix from that data.\n",
    "#The G-matrix has the resistances of all resistors (contact points) and what they are connected\n",
    "#to with the sum of the resistances of all intersections of the tube down the diaganol.\n",
    "G_matrix = np.zeros((CNT_num_tubes,CNT_num_tubes),dtype=bool)\n",
    "for i in range(0,CNT_num_tubes):\n",
    "    m1 = CNT_init[i,3]\n",
    "    b1 = CNT_init[i,4]\n",
    "    for j in range(0,CNT_num_tubes):\n",
    "        #Preventing errors from checking if a line intersects with itself\n",
    "        if i == j:\n",
    "            G_matrix[i,j] = False\n",
    "            continue\n",
    "        x_intersect = (CNT_init[j,4] - b1) / (m1 - CNT_init[j,3])\n",
    "        if CNT_init[i,1] <= x_intersect <= CNT_init[i,5] and CNT_init[j,1] <= x_intersect <= CNT_init[j,5]:\n",
    "            G_matrix[i,j] = True\n",
    "G_matrix = G_matrix * 2\n",
    "for k in range(0,CNT_num_tubes):\n",
    "    G_matrix[k,k] = np.sum(G_matrix[k,:])"
   ]
  },
  {
   "cell_type": "code",
   "execution_count": null,
   "metadata": {
    "collapsed": true
   },
   "outputs": [],
   "source": [
    "# Functions for equivalent resistance calculation\n",
    "\n",
    "def set_currents(graph, check_nodes):\n",
    "    \"\"\"\n",
    "    Takes a graph list of two nodes in that graph.\n",
    "    Sets current of +1A at one of the nodes and -1A at the other\n",
    "    to prepare for nodal analysis. Returns the new graph.\n",
    "    \"\"\"\n",
    "    # Make sure we're not changing the input graph\n",
    "    graph_with_currents = graph.copy()\n",
    "    \n",
    "    # Set currents at the two nodes of interest to +1 and -1\n",
    "    first_node = True\n",
    "    for node in check_nodes:\n",
    "        try:\n",
    "            if first_node:\n",
    "                graph_with_currents.nodes[node]['current'] = 1.\n",
    "                first_node = False\n",
    "            else:\n",
    "                graph_with_currents.nodes[node]['current'] = -1.\n",
    "        # if the given check node is not in the graph, raise error\n",
    "        except KeyError:\n",
    "            print(\"Illegal node given as start or endpoint!\")\n",
    "            raise\n",
    "    return graph_with_currents\n",
    "\n",
    "def G_matrix(graph):\n",
    "    \"\"\"\n",
    "    Using the data from the input networkx graph, returns\n",
    "    the G matrix needed to complete the nodal analysis calculation.\n",
    "    \"\"\"\n",
    "    # Find the reciprocal of resistance for each connection (i.e. each edge)\n",
    "    for node1, node2 in graph.edges():\n",
    "        graph[node1][node2]['reciprocalR'] = 1.0 / graph[node1][node2]['resistance']\n",
    "    # The adjacency matrix gives all needed elements but the diagonal\n",
    "    G = nx.adjacency_matrix(graph, weight='reciprocalR')\n",
    "    # Add the diagonal\n",
    "    G.setdiag(np.squeeze(np.asarray(-nx.incidence_matrix(graph, \n",
    "                                                          weight='reciprocalR').sum(axis=1))))\n",
    "    # G is a csr_matrix, but we want an array\n",
    "    return G.toarray()\n",
    "\n",
    "def equivalent_resistance(graph, check_nodes):\n",
    "    \"\"\"\n",
    "    Given a graph and a list of two check nodes,\n",
    "    computes the equivalent resistance.\n",
    "    \"\"\"\n",
    "    # Make sure we're not changing the input graph\n",
    "    graph_with_currents = graph.copy()\n",
    "    \n",
    "    # Put a 1A current at one check node and a -1A current at the other\n",
    "    graph_with_currents = set_currents(graph_with_currents, check_nodes)\n",
    "    \n",
    "    # Get the G matrix\n",
    "    G = G_matrix(graph)\n",
    "    \n",
    "    # Get the matrix of currents, I\n",
    "    I = np.array(list(graph_with_currents.nodes[x]['current'] for x in graph_with_currents.nodes))\n",
    "  \n",
    "    #####################################\n",
    "    ## Remove after debugging finishes ##\n",
    "    #####################################\n",
    "    print(G)                      #######\n",
    "    print(I)                      #######\n",
    "    #####################################\n",
    "    ## Remove after debugging finishes ##\n",
    "    #####################################\n",
    "    \n",
    "    # Solve for the voltage matrix\n",
    "    try:\n",
    "        V = np.linalg.solve(G, I)\n",
    "        \n",
    "        #####################################\n",
    "        ## Remove after debugging finishes ##\n",
    "        #####################################\n",
    "        print(V)                           ##\n",
    "        #####################################\n",
    "        ## Remove after debugging finishes ##\n",
    "        #####################################\n",
    "        \n",
    "        # use a simple numpy operation to compute the equivalent resistance\n",
    "        equivalent_resistance = abs(sum(I*V))\n",
    "        return equivalent_resistance\n",
    "    except:\n",
    "        # if np.linalg.solve fails, raise an error\n",
    "        print(\"Error: could not solve the matrix equation. Is the G-matrix singular?\")\n",
    "        raise"
   ]
  },
  {
   "cell_type": "code",
   "execution_count": null,
   "metadata": {
    "collapsed": true
   },
   "outputs": [],
   "source": []
  },
  {
   "cell_type": "code",
   "execution_count": null,
   "metadata": {
    "collapsed": true
   },
   "outputs": [],
   "source": []
  }
 ],
 "metadata": {
  "kernelspec": {
   "display_name": "Python 3",
   "language": "python",
   "name": "python3"
  },
  "language_info": {
   "codemirror_mode": {
    "name": "ipython",
    "version": 3
   },
   "file_extension": ".py",
   "mimetype": "text/x-python",
   "name": "python",
   "nbconvert_exporter": "python",
   "pygments_lexer": "ipython3",
   "version": "3.6.1"
  }
 },
 "nbformat": 4,
 "nbformat_minor": 2
}
