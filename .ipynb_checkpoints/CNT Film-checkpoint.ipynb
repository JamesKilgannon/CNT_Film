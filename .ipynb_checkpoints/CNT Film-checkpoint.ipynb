{
 "cells": [
  {
   "cell_type": "code",
   "execution_count": 4,
   "metadata": {
    "collapsed": true
   },
   "outputs": [],
   "source": [
    "from matplotlib import pyplot as plt\n",
    "from matplotlib import pylab #displays arrays as images for easy error checking\n",
    "import numpy as np\n",
    "import networkx as nx\n",
    "\n",
    "%matplotlib inline"
   ]
  },
  {
   "cell_type": "code",
   "execution_count": 2,
   "metadata": {
    "collapsed": true
   },
   "outputs": [],
   "source": [
    "#Important variables\n",
    "network_size = 1000 #side length of network boundaries\n",
    "CNT_length_normal = 1000 #normal length of CNT at center of distribution\n",
    "CNT_length_stddev = 2 #standard deviation of CNT length from normal\n",
    "CNT_num_tubes = 100 #number of tubes in film\n",
    "\n",
    "CNT_init = np.zeros((CNT_num_tubes,6))\n",
    "\n",
    "#Generating tube information\n",
    "#randomly assigning tube lengths distributed around a set tube length\n",
    "CNT_init[:,0] = np.random.normal(CNT_length_normal, CNT_length_stddev, CNT_num_tubes)\n",
    "\n",
    "#randomly assign starting point and orientation\n",
    "CNT_init[:,1:4] = np.random.rand(CNT_num_tubes, 3)\n",
    "\n",
    "#applying scaling to random numbers so they match the needed values\n",
    "scaling_factor = np.array([1, network_size, network_size, 2*np.pi, 1, 1])\n",
    "CNT_init = CNT_init * scaling_factor\n",
    "\n",
    "#calculating the x-range for the tubes\n",
    "CNT_init[:,5] = np.cos(CNT_init[:,3]) * CNT_init[:,0]\n",
    "\n",
    "#calculating slope\n",
    "CNT_init[:,3] = np.tan(CNT_init[:,3])\n",
    "\n",
    "#calculating the y-intercept of the lines\n",
    "CNT_init[:,4] = CNT_init[:,2] - CNT_init[:,3] * CNT_init[:,2]\n",
    "\n",
    "#delete this in final code this is just a reference to know what is in each column\n",
    "header = ['Length','x-value','y-value','slope','y-intercept','x-high']"
   ]
  },
  {
   "cell_type": "code",
   "execution_count": 3,
   "metadata": {
    "collapsed": true
   },
   "outputs": [],
   "source": [
    "#generating a boolean array of the tubes that intersect\n",
    "CNT_intersect = np.zeros((CNT_num_tubes,CNT_num_tubes),dtype=bool)\n",
    "for i in range(0,CNT_num_tubes):\n",
    "    m1 = CNT_init[i,3]\n",
    "    b1 = CNT_init[i,4]\n",
    "    for j in range(i+1,CNT_num_tubes):\n",
    "        x_intersect = (CNT_init[j,4] - b1) / (m1 - CNT_init[j,3])\n",
    "        if CNT_init[i,1] <= x_intersect <= CNT_init[i,5] and CNT_init[j,1] <= x_intersect <= CNT_init[j,5]:\n",
    "            CNT_intersect[i,j] = True"
   ]
  },
  {
   "cell_type": "markdown",
   "metadata": {},
   "source": [
    "Printing this boolean array will be a lot of information, especially as the number of tubes in the network grows. Since it is a boolean array and there are only two possible values, it will be easier to visualize and understand how many intersections there are by turning the array into an image where True is one color and False is another."
   ]
  },
  {
   "cell_type": "code",
   "execution_count": 29,
   "metadata": {},
   "outputs": [
    {
     "name": "stdout",
     "output_type": "stream",
     "text": [
      "The number of intersections in the network is 60.\n",
      "Below is a list where each element represents how many intersections the respective tube has:\n",
      "[9 3 0 0 0 2 0 0 0 0 0 0 1 0 4 4 0 2 0 0 1 0 0 2 0 1 0 0 4 0 0 0 4 0 0 0 0\n",
      " 0 0 0 4 0 0 0 4 0 0 0 0 0 0 2 0 0 0 0 0 0 0 0 0 0 0 0 0 1 0 0 0 0 0 0 4 3\n",
      " 0 4 1 0 0 0 0 0 0 0 0 0 0 0 0 0 0 0 0 0 0 0 0 0 0 0]\n"
     ]
    },
    {
     "data": {
      "image/png": "[encoded data removed]",
      "text/plain": [
       "<matplotlib.figure.Figure at 0x117d71f60>"
      ]
     },
     "metadata": {},
     "output_type": "display_data"
    }
   ],
   "source": [
    "#THIS CELL IS ONLY FOR TROUBLESHOOTING, IT DOES NOT CODE FOR ANYTHING\n",
    "#this cell visually shows the true values as yellow pixels\n",
    "#generating a boolean array of the tubes that intersect\n",
    "CNT_intersectALL = np.zeros((CNT_num_tubes,CNT_num_tubes),dtype=bool)\n",
    "for i in range(0,CNT_num_tubes):\n",
    "    m1 = CNT_init[i,3]\n",
    "    b1 = CNT_init[i,4]\n",
    "    for j in range(0,CNT_num_tubes):\n",
    "        if i == j:\n",
    "            continue\n",
    "        x_intersect = (CNT_init[j,4] - b1) / (m1 - CNT_init[j,3])\n",
    "        if CNT_init[i,1] <= x_intersect <= CNT_init[i,5] and CNT_init[j,1] <= x_intersect <= CNT_init[j,5]:\n",
    "            CNT_intersectALL[i,j] = True\n",
    "\n",
    "pylab.imshow(CNT_intersect)\n",
    "CNT_perTubeIntersect = np.sum(CNT_intersect,axis=1)\n",
    "print('The number of intersections in the network is {}.'.format(np.sum(CNT_intersect)))\n",
    "print('Below is a list where each element represents how many intersections the respective tube has:')\n",
    "print(CNT_perTubeIntersect)"
   ]
  },
  {
   "cell_type": "code",
   "execution_count": 48,
   "metadata": {},
   "outputs": [
    {
     "name": "stdout",
     "output_type": "stream",
     "text": [
      "[ 0  0  0  0  0  0  0  0  0  1  1  1  5  5 12 14 14 14 14 15 15 15 15 17 17\n",
      " 20 23 23 25 28 28 28 28 32 32 32 32 40 40 40 40 44 44 44 44 51 51 65 72 72\n",
      " 72 72 73 73 73 75 75 75 75 76]\n",
      "[ 5 23 28 32 44 65 72 73 81  5 32 78 32 75 43 23 28 65 72 17 28 51 79 23 28\n",
      " 76 28 65 44 40 44 65 72 44 72 75 81 44 63 72 79 51 63 65 79 65 72 72 75 76\n",
      " 79 81 75 78 93 76 78 80 81 81]\n",
      "[(0, 5, {'resistance': 10.0}), (0, 23, {'resistance': 10.0}), (0, 28, {'resistance': 10.0}), (0, 32, {'resistance': 10.0}), (0, 44, {'resistance': 10.0}), (0, 65, {'resistance': 10.0}), (0, 72, {'resistance': 10.0}), (0, 73, {'resistance': 10.0}), (0, 81, {'resistance': 10.0}), (1, 5, {'resistance': 10.0}), (1, 32, {'resistance': 10.0}), (1, 78, {'resistance': 10.0}), (5, 32, {'resistance': 10.0}), (5, 75, {'resistance': 10.0}), (12, 43, {'resistance': 10.0}), (14, 23, {'resistance': 10.0}), (14, 28, {'resistance': 10.0}), (14, 65, {'resistance': 10.0}), (14, 72, {'resistance': 10.0}), (15, 17, {'resistance': 10.0}), (15, 28, {'resistance': 10.0}), (15, 51, {'resistance': 10.0}), (15, 79, {'resistance': 10.0}), (17, 23, {'resistance': 10.0}), (17, 28, {'resistance': 10.0}), (20, 76, {'resistance': 10.0}), (23, 28, {'resistance': 10.0}), (23, 65, {'resistance': 10.0}), (25, 44, {'resistance': 10.0}), (28, 40, {'resistance': 10.0}), (28, 44, {'resistance': 10.0}), (28, 65, {'resistance': 10.0}), (28, 72, {'resistance': 10.0}), (32, 44, {'resistance': 10.0}), (32, 72, {'resistance': 10.0}), (32, 75, {'resistance': 10.0}), (32, 81, {'resistance': 10.0}), (40, 44, {'resistance': 10.0}), (40, 63, {'resistance': 10.0}), (40, 72, {'resistance': 10.0}), (40, 79, {'resistance': 10.0}), (44, 51, {'resistance': 10.0}), (44, 63, {'resistance': 10.0}), (44, 65, {'resistance': 10.0}), (44, 79, {'resistance': 10.0}), (51, 65, {'resistance': 10.0}), (51, 72, {'resistance': 10.0}), (65, 72, {'resistance': 10.0}), (72, 75, {'resistance': 10.0}), (72, 76, {'resistance': 10.0}), (72, 79, {'resistance': 10.0}), (72, 81, {'resistance': 10.0}), (73, 75, {'resistance': 10.0}), (73, 78, {'resistance': 10.0}), (73, 93, {'resistance': 10.0}), (75, 76, {'resistance': 10.0}), (75, 78, {'resistance': 10.0}), (75, 80, {'resistance': 10.0}), (75, 81, {'resistance': 10.0}), (76, 81, {'resistance': 10.0})]\n"
     ]
    }
   ],
   "source": [
    "#gives the indicies along the x-axis of the true values as the \n",
    "#first array and the y-values as the second array\n",
    "CNT_tube_num1, CNT_tube_num2 = np.where(CNT_intersect)\n",
    "edges = [None]*np.sum(CNT_intersect)\n",
    "\n",
    "#formatting the intersection data so it will fit work with networkX\n",
    "for k in range(0,np.sum(CNT_intersect)):\n",
    "    edges[k] = (CNT_tube_num1[k], CNT_tube_num2[k], {'resistance': 10.})\n",
    "print(CNT_tube_num1)\n",
    "print(CNT_tube_num2)\n",
    "print(edges)"
   ]
  },
  {
   "cell_type": "code",
   "execution_count": null,
   "metadata": {
    "collapsed": true
   },
   "outputs": [],
   "source": []
  },
  {
   "cell_type": "code",
   "execution_count": null,
   "metadata": {
    "collapsed": true
   },
   "outputs": [],
   "source": [
    "# We will use the wonderfully useful library networkx to allow us\n",
    "# to represent graphs in a nice way.\n",
    "\n",
    "example_graph = nx.Graph()\n",
    "example_graph.clear()\n",
    "example_graph.add_nodes_from(list(\"ABCDEF\"), current=0.) # initialize with all current = 0.\n",
    "edges = [\n",
    "    ('A', 'B', {'resistance': 10.}),\n",
    "    ('A', 'C', {'resistance': 1.}),\n",
    "    ('B', 'C', {'resistance': 3.}),\n",
    "    ('B', 'D', {'resistance': 100.}),\n",
    "    ('C', 'F', {'resistance': 1.}),\n",
    "    ('D', 'E', {'resistance': 4.}),\n",
    "    ('D', 'F', {'resistance': 1.}),\n",
    "    ('E', 'F', {'resistance': 15.}),\n",
    "]\n",
    "\n",
    "example_graph.add_edges_from(edges)"
   ]
  },
  {
   "cell_type": "code",
   "execution_count": 4,
   "metadata": {
    "collapsed": true
   },
   "outputs": [],
   "source": [
    "#THIS CELL IS ONLY FOR TROUBLESHOOTING, IT DOES NOT CODE FOR ANYTHING\n",
    "def num_intersect(network_size, CNT_length_normal, CNT_length_stddev, CNT_num_tubes, num_iterations=1000):\n",
    "    \"\"\"\n",
    "    This function is for testing the number of intersections in the network\n",
    "    generated with the given inputs.\n",
    "    \"\"\"\n",
    "    #initializing empty array\n",
    "    data = np.zeros(num_iterations)\n",
    "    \n",
    "    for k in range(0,num_iterations):\n",
    "        #initializing data array\n",
    "        CNT_init = np.zeros((CNT_num_tubes,6))\n",
    "\n",
    "        #Generating tube information\n",
    "        #randomly assigning tube lengths distributed around a set tube length\n",
    "        CNT_init[:,0] = np.random.normal(CNT_length_normal, CNT_length_stddev, CNT_num_tubes)\n",
    "\n",
    "        #randomly assign starting point and orientation\n",
    "        CNT_init[:,1:4] = np.random.rand(CNT_num_tubes, 3)\n",
    "\n",
    "        #applying scaling to random numbers so they match the needed values\n",
    "        scaling_factor = np.array([1, network_size, network_size, 2*np.pi, 1, 1])\n",
    "        CNT_init = CNT_init * scaling_factor\n",
    "\n",
    "        #calculating the x-range for the tubes\n",
    "        CNT_init[:,5] = np.cos(CNT_init[:,3]) * CNT_init[:,0]\n",
    "\n",
    "        #calculating slope\n",
    "        CNT_init[:,3] = np.tan(CNT_init[:,3])\n",
    "\n",
    "        #calculating the y-intercept of the lines\n",
    "        CNT_init[:,4] = CNT_init[:,2] - CNT_init[:,3] * CNT_init[:,2]\n",
    "\n",
    "        #array_size = (CNT_init[:,0].size,CNT_init[0,:].size)\n",
    "        CNT_intersect = np.zeros((CNT_num_tubes,CNT_num_tubes),dtype=bool)\n",
    "        for i in range(0,CNT_num_tubes):\n",
    "            m1 = CNT_init[i,3]\n",
    "            b1 = CNT_init[i,4]\n",
    "            for j in range(i+1,CNT_num_tubes):\n",
    "                x_intersect = (CNT_init[j,4] - b1) / (m1 - CNT_init[j,3])\n",
    "                if CNT_init[i,1] <= x_intersect <= CNT_init[i,5] and CNT_init[j,1] <= x_intersect <= CNT_init[j,5]:\n",
    "                    CNT_intersect[i,j] = True\n",
    "        data[k] = np.sum(CNT_intersect)\n",
    "    plt.hist(data)\n",
    "    plt.show()"
   ]
  },
  {
   "cell_type": "code",
   "execution_count": 5,
   "metadata": {},
   "outputs": [
    {
     "data": {
      "image/png": "[encoded data removed]",
      "text/plain": [
       "<matplotlib.figure.Figure at 0x10ae58eb8>"
      ]
     },
     "metadata": {},
     "output_type": "display_data"
    }
   ],
   "source": [
    "#THIS CELL IS ONLY FOR TROUBLESHOOTING, IT DOES NOT CODE FOR ANYTHING\n",
    "#run this cell to get a histogram of the number of connections for the given conditions\n",
    "network_size = 1000 #side length of network boundaries\n",
    "CNT_length_normal = 1000 #normal length of CNT at center of distribution\n",
    "CNT_length_stddev = 2 #standard deviation of CNT length from normal\n",
    "CNT_num_tubes = 100 #number of tubes in film\n",
    "\n",
    "num_intersect(network_size, CNT_length_normal, CNT_length_stddev, CNT_num_tubes)"
   ]
  },
  {
   "cell_type": "code",
   "execution_count": null,
   "metadata": {
    "collapsed": true
   },
   "outputs": [],
   "source": [
    "#THIS CELL IS OLD CODE AND IS NOT FOR USE IN THE FINAL PROGRAM\n",
    "def intersect(EOL_1,EOL_2):\n",
    "    #Calculates if two line segments intersect given two equations of lines given the\n",
    "    #slopes, y-intercepts, and acceptable range\n",
    "    #Input format: [slope, y_intercept, x_range]\n",
    "    m1 = EOL_1[0] #slope of line 1\n",
    "    m2 = EOL_2[0] #slope of line 2\n",
    "    b1 = EOL_1[1] #Y-intercept of line 1\n",
    "    b2 = EOL_2[1] #Y-intercept of line 2\n",
    "    x_range_1 = EOL_1[2]\n",
    "    x_range_2 = EOL_2[2]\n",
    "    \n",
    "    #Checking for parallel\n",
    "    if m1 == m2:\n",
    "        return False\n",
    "    \n",
    "    x_intersect = (b2 - b1) / (m1 - m2)\n",
    "    \n",
    "    return x_intersect in range(*x_range_1) and x_intersect in range(*x_range_2)"
   ]
  },
  {
   "cell_type": "code",
   "execution_count": null,
   "metadata": {
    "collapsed": true
   },
   "outputs": [],
   "source": [
    "#THIS CELL IS OLD CODE AND IS NOT FOR USE IN THE FINAL PROGRAM\n",
    "def EOL(endpoint_1,endpoint_2):\n",
    "    #Determines the slope, y-intercept of the parent line, and range of x-values of a line\n",
    "    #segment made by 2 points. Endpoints are input as a list of x and y values e.g. [x,y]\n",
    "    x1 = endpoint_1[0]\n",
    "    y1 = endpoint_1[1]\n",
    "    x2 = endpoint_2[0]\n",
    "    y2 = endpoint_2[1]\n",
    "    \n",
    "    #Preventing undefined values for infinite slope\n",
    "    if x1 == x2:\n",
    "        slope = 1e10\n",
    "    else:\n",
    "        slope = (y2 - y1) / (x2 - x1)\n",
    "    y_intercept = y1 - slope * x1\n",
    "    #finding range of x-values the segment runs for to make determining intersection easier\n",
    "    x_range = [np.min(x1,x2),np.max(x1,x2)]\n",
    "    return slope, y_intercept, x_range"
   ]
  },
  {
   "cell_type": "code",
   "execution_count": null,
   "metadata": {
    "collapsed": true
   },
   "outputs": [],
   "source": []
  }
 ],
 "metadata": {
  "kernelspec": {
   "display_name": "Python 3",
   "language": "python",
   "name": "python3"
  },
  "language_info": {
   "codemirror_mode": {
    "name": "ipython",
    "version": 3
   },
   "file_extension": ".py",
   "mimetype": "text/x-python",
   "name": "python",
   "nbconvert_exporter": "python",
   "pygments_lexer": "ipython3",
   "version": "3.6.1"
  }
 },
 "nbformat": 4,
 "nbformat_minor": 2
}
