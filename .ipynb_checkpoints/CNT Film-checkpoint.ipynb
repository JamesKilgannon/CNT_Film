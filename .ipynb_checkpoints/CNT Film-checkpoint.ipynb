{
 "cells": [
  {
   "cell_type": "code",
   "execution_count": 1,
   "metadata": {
    "collapsed": true
   },
   "outputs": [],
   "source": [
    "import numpy as np"
   ]
  },
  {
   "cell_type": "code",
   "execution_count": 30,
   "metadata": {
    "collapsed": true
   },
   "outputs": [],
   "source": [
<<<<<<< HEAD
    "#Important variables\n",
    "network_size = 1000 #side length of network boundaries\n",
    "CNT_length_normal = 1000 #normal length of CNT at center of distribution\n",
    "CNT_length_stddev = 2 #standard deviation of CNT length from normal\n",
    "CNT_num_tubes = 100 #number of tubes in film\n",
    "\n",
    "CNT_init = np.zeros((CNT_num_tubes,6))\n",
    "\n",
    "#Generating tube information\n",
    "#randomly assigning tube lengths distributed around a set tube length\n",
    "CNT_init[:,0] = np.random.normal(CNT_length_normal, CNT_length_stddev, CNT_num_tubes)\n",
    "\n",
    "#randomly assign starting point and orientation\n",
    "CNT_init[:,1:4] = np.random.rand(CNT_num_tubes, 3)\n",
    "\n",
    "#applying scaling to random numbers so they match the needed values\n",
    "scaling_factor = np.array([1, network_size, network_size, 2*np.pi, 1, 1])\n",
    "CNT_init = CNT_init * scaling_factor\n",
    "\n",
    "#calculating the x-range for the tubes\n",
    "CNT_init[:,5] = np.cos(CNT_init[:,3]) * CNT_init[:,0]\n",
    "\n",
    "#calculating slope\n",
    "CNT_init[:,3] = np.tan(CNT_init[:,3])\n",
    "\n",
    "#calculating the y-intercept of the lines\n",
    "CNT_init[:,4] = CNT_init[:,2] - CNT_init[:,3] * CNT_init[:,2]\n",
    "\n",
    "#delete this in final code this is just a reference to know what is in each column\n",
    "header = ['Length','x-value','y-value','slope','y-intercept','x-high']"
   ]
  },
  {
   "cell_type": "code",
   "execution_count": 3,
   "metadata": {
    "collapsed": true
   },
   "outputs": [],
   "source": [
    "#generating a boolean array of the tubes that intersect\n",
    "CNT_intersect = np.zeros((CNT_num_tubes,CNT_num_tubes),dtype=bool)\n",
    "for i in range(0,CNT_num_tubes):\n",
    "    m1 = CNT_init[i,3]\n",
    "    b1 = CNT_init[i,4]\n",
    "    for j in range(i+1,CNT_num_tubes):\n",
    "        x_intersect = (CNT_init[j,4] - b1) / (m1 - CNT_init[j,3])\n",
    "        if CNT_init[i,1] <= x_intersect <= CNT_init[i,5] and CNT_init[j,1] <= x_intersect <= CNT_init[j,5]:\n",
    "            CNT_intersect[i,j] = True"
   ]
  },
  {
   "cell_type": "markdown",
   "metadata": {},
   "source": [
    "Printing this boolean array will be a lot of information, especially as the number of tubes in the network grows. Since it is a boolean array and there are only two possible values, it will be easier to visualize and understand how many intersections there are by turning the array into an image where True is one color and False is another."
   ]
  },
  {
   "cell_type": "code",
   "execution_count": 29,
   "metadata": {},
   "outputs": [
    {
     "name": "stdout",
     "output_type": "stream",
     "text": [
      "The number of intersections in the network is 60.\n",
      "Below is a list where each element represents how many intersections the respective tube has:\n",
      "[9 3 0 0 0 2 0 0 0 0 0 0 1 0 4 4 0 2 0 0 1 0 0 2 0 1 0 0 4 0 0 0 4 0 0 0 0\n",
      " 0 0 0 4 0 0 0 4 0 0 0 0 0 0 2 0 0 0 0 0 0 0 0 0 0 0 0 0 1 0 0 0 0 0 0 4 3\n",
      " 0 4 1 0 0 0 0 0 0 0 0 0 0 0 0 0 0 0 0 0 0 0 0 0 0 0]\n"
     ]
    },
    {
     "data": {
      "image/png": "iVBORw0KGgoAAAANSUhEUgAAAP8AAAD8CAYAAAC4nHJkAAAABHNCSVQICAgIfAhkiAAAAAlwSFlz\nAAALEgAACxIB0t1+/AAADJdJREFUeJzt3V2oZfV5x/HvrzO+VMU405ZhfKF6YRMkNDEMVWMpIaNt\nakPGKzHFMhTBi6aNCSlhbK96l4sQkosSGLRhaCRBjFSREGNPkovcDE6jpOqoY2N9nVHbNLFYapQ8\nvTjr0JPhjGef2S9n7/N8P3DYe6299uxnr9m//V/rv9da/1QVkvr5tc0uQNLmMPxSU4ZfasrwS00Z\nfqkpwy81ZfilpsYKf5KPJXk6ybNJDkyqKEnTl9M9yCfJNuAZ4HrgJeAR4JNV9eTkypM0LdvHeO7v\nAc9W1U8AknwT2AecMvxn5qw6m3NH+sd/53f/B4BnfnzOGCVOx0ZqG2XZWb3XeV6n72aculeeu2Lc\n9z7v6/B/eZNf1FsZZdlxwn8R8OKq6ZeAq05eKMltwG0AZ3MOV2XvSP/4Qw89BsAfXfjBMUqcjo3U\nNsqys3qv87xO3804da88d8W4733e1+HhWhp52XHCP5KqOggcBDg/O7fEiQQb+Y+fpw/JPNWyEePU\nfVpfGK+cOuCLug7XMk6H38vAJaumLx7mSVoA43T4bWe5w28vy6F/BPjTqnriVM85Pztr1M1+SRt3\nuJZ4o3463X3+qnonyV8CDwHbgH94t+BLmi9j7fNX1beBb0+oFkkz5BF+UlOGX2rK8EtNGX6pqakf\n5KP1vdtBJZqOlXUOfde7Lb/UlC3/HOja8mwm17ktv9SW4ZeaMvxSU4ZfasrwS00Zfqkpwy81Zfil\npgy/1JThl5oy/FJThl9qyvA38NArj/3KKawSGH6pLU/pbcDTV7UWW36pKcMvNWX4T8NGOtDsbBvf\nOOvQ9X9qhl9qqn2H3+lcObdjB9pmXmF41kN0r9jqV1W25ZeaOu0huk+HQ3RL07WRIbpt+aWmDP9p\nsLdfW4Hhl5pq39t/OvxlQFuBLb/U1LrhT3JJku8neTLJE0luH+bvTPJwkmPD7Y7plytpUkZp+d8B\nPldVVwBXA59KcgVwAFiqqsuBpWFa0oJYN/xVdbyqfjTc/2/gKHARsA84NCx2CLhxWkVKmrwN7fMn\nuRS4EjgM7Kqq48NDJ4BdE61MmpGuP8eOHP4k5wHfAj5TVW+sfqyWDxNc81DBJLclOZLkyNu8NVax\nkiZnpJ/6kpzBcvDvrqr7htmvJtldVceT7AZeW+u5VXUQOAjLh/dOoGZporr+HDtKb3+Au4CjVfWl\nVQ89AOwf7u8H7p98eZKmZZSW/1rgz4B/TbKyY/Q3wBeAe5LcCjwP3DSdEiVNw7rhr6ofAqc6S8hT\n9KQF5RF+U9a1J3mSXIfTYfilpjyxZ8q69iRPkutwOmz5paYMfyPuO2s1wy81Zfilpuzwa8SOM61m\nyy81Zfilpgy/1JTh3yJG+RlvUX/qc5Te6TD8UlOO1SdtIY7VJ2ldhl9qyvBLTRl+qSnDLzVl+KWm\nPLGnkZWDXTqd4HOq97z6wJ+NrI+ttA5t+aWmPMhH2kI8yEfSugy/1JThl5oy/FJThl9qyvBLTRl+\nqSnDLzVl+KWmDL/UlOGXmjL8UlMjhz/JtiSPJnlwmN6Z5OEkx4bbHdMrU9KkbaTlvx04umr6ALBU\nVZcDS8O0pAUxUviTXAz8CXDnqtn7gEPD/UPAjZMtTZO2CKPXrNQ4qTod7efURm35vwx8Hvjlqnm7\nqur4cP8EsGutJya5LcmRJEfe5q3Tr1TSRK17MY8kHwduqKq/SPIR4K+r6uNJflZVF6xa7r+q6l33\n+72YhzRdG7mYxyjX8LsW+ESSG4CzgfOTfB14NcnuqjqeZDfw2umXLGnW1t3sr6o7quriqroUuBn4\nXlXdAjwA7B8W2w/cP7UqJU3cOL/zfwG4Pskx4LphWtKC2NClu6vqB8APhvv/CbgDLy0oj/CTmjL8\nUlOO2KORzGqkmrVG0tmsUXK20ug8a7Hll5pyxB5pC3HEHknrMvxSU4ZfasrwS00Zfqkpwy81Zfil\npgy/1JThl5oy/FJThl9qyvBLTRl+zT2vvT8dhl9qyot5aO6NczGNrXohjkmw5ZeaMvxSU4Zfasrw\nS00Zfqkpwy81Zfilpgy/1JThl5oy/FJThl9qyvBLTRl+qSnDLzU1UviTXJDk3iRPJTma5JokO5M8\nnOTYcLtj2sVKmpxRW/6vAN+pqvcBHwCOAgeApaq6HFgapiUtiHXDn+Q9wB8AdwFU1S+q6mfAPuDQ\nsNgh4MZpFSlp8kZp+S8DXge+luTRJHcmORfYVVXHh2VOALumVaSkyRsl/NuBDwFfraorgTc5aRO/\nqgqotZ6c5LYkR5IceZu3xq1X0oSMEv6XgJeq6vAwfS/LXwavJtkNMNy+ttaTq+pgVe2pqj1ncNYk\napY0AeuGv6pOAC8mee8way/wJPAAsH+Ytx+4fyoVSpqKUa/e+1fA3UnOBH4C/DnLXxz3JLkVeB64\naTolSpqGkcJfVY8Be9Z4aO9ky5E0Kx7hJzVl+KWmDL/UlOGXmjL8UlOGX1uaQ3SfmuGXmnKIbm1p\nDtF9arb8UlOGX2rK8EtNGX6pKcMvNWX4paYMv9SU4ZeaMvxSU4ZfasrwS00ZfqkpT+xRS2ud5nvy\nSUAry6yev9a8RWXLLzVly6/2RmnxT7XstMxiC8OWX2oqy2Nszsb52VlXxXE+pGk5XEu8UT/NKMva\n8ktNuc+v9k7evz7V9Gr29ktaWIZfasrNfrV38ib8u01vpTEAbPmlpmz5pQ3YCh19K2z5paYMv9SU\n4ZeaGin8ST6b5Ikkjyf5RpKzk+xM8nCSY8PtjmkXK2ly1g1/kouATwN7qur9wDbgZuAAsFRVlwNL\nw7SkBTHqZv924NeTbAfOAV4B9gGHhscPATdOvjxJ07Ju+KvqZeCLwAvAceDnVfVdYFdVHR8WOwHs\nWuv5SW5LciTJkbd5a0JlSxrXKJv9O1hu5S8DLgTOTXLL6mVq+bzgNc8NrqqDVbWnqvacwVkTKFnS\nJIyy2X8d8FxVvV5VbwP3AR8GXk2yG2C4fW16ZUqatFHC/wJwdZJzkgTYCxwFHgD2D8vsB+6fTomS\npmHdw3ur6nCSe4EfAe8AjwIHgfOAe5LcCjwP3DTNQiVNlpfxkrYQL+MlaV2GX2rK8EtNGX6pKcMv\nNWX4paYMv9SU4ZeaMvxSU4ZfasrwS00Zfqkpwy81Zfilpgy/1JThl5oy/FJThl9qyvBLTRl+qSnD\nLzVl+KWmDL/UlOGXmjL8UlOGX2rK8EtNGX6pKcMvNWX4paYMv9SU4ZeaMvxSU4ZfasrwS00Zfqkp\nwy81laqa3YslrwNvAv8xsxcd32+yOPUuUq2wWPUuSq2/XVW/NcqCMw0/QJIjVbVnpi86hkWqd5Fq\nhcWqd5FqHZWb/VJThl9qajPCf3ATXnMci1TvItUKi1XvItU6kpnv80uaD272S03NLPxJPpbk6STP\nJjkwq9cdVZJLknw/yZNJnkhy+zB/Z5KHkxwbbndsdq0rkmxL8miSB4fpea71giT3JnkqydEk18xr\nvUk+O3wGHk/yjSRnz2ut45hJ+JNsA/4e+GPgCuCTSa6YxWtvwDvA56rqCuBq4FNDjQeApaq6HFga\npufF7cDRVdPzXOtXgO9U1fuAD7Bc99zVm+Qi4NPAnqp6P7ANuJk5rHVsVTX1P+Aa4KFV03cAd8zi\ntceo+X7geuBpYPcwbzfw9GbXNtRyMcsfwo8CDw7z5rXW9wDPMfQxrZo/d/UCFwEvAjuB7cCDwB/O\nY63j/s1qs39lha54aZg3l5JcClwJHAZ2VdXx4aETwK5NKutkXwY+D/xy1bx5rfUy4HXga8Nuyp1J\nzmUO662ql4EvAi8Ax4GfV9V3mcNax2WH30mSnAd8C/hMVb2x+rFa/trf9J9HknwceK2q/uVUy8xL\nrYPtwIeAr1bVlSwf4v0rm83zUu+wL7+P5S+sC4Fzk9yyepl5qXVcswr/y8Alq6YvHubNlSRnsBz8\nu6vqvmH2q0l2D4/vBl7brPpWuRb4RJJ/B74JfDTJ15nPWmF5S++lqjo8TN/L8pfBPNZ7HfBcVb1e\nVW8D9wEfZj5rHcuswv8IcHmSy5KcyXIHygMzeu2RJAlwF3C0qr606qEHgP3D/f0s9wVsqqq6o6ou\nrqpLWV6X36uqW5jDWgGq6gTwYpL3DrP2Ak8yn/W+AFyd5JzhM7GX5c7Jeax1PDPsSLkBeAb4N+Bv\nN7uzY436fp/lTbkfA48NfzcAv8Fyx9ox4J+BnZtd60l1f4T/7/Cb21qBDwJHhvX7T8COea0X+Dvg\nKeBx4B+Bs+a11nH+PMJPasoOP6kpwy81Zfilpgy/1JThl5oy/FJThl9qyvBLTf0ffJP5iYhl0Y0A\nAAAASUVORK5CYII=\n",
      "text/plain": [
       "<matplotlib.figure.Figure at 0x117d71f60>"
      ]
     },
     "metadata": {},
     "output_type": "display_data"
    }
   ],
   "source": [
    "#THIS CELL IS ONLY FOR TROUBLESHOOTING, IT DOES NOT CODE FOR ANYTHING\n",
    "#this cell visually shows the true values as yellow pixels\n",
    "#generating a boolean array of the tubes that intersect\n",
    "CNT_intersectALL = np.zeros((CNT_num_tubes,CNT_num_tubes),dtype=bool)\n",
    "for i in range(0,CNT_num_tubes):\n",
    "    m1 = CNT_init[i,3]\n",
    "    b1 = CNT_init[i,4]\n",
    "    for j in range(0,CNT_num_tubes):\n",
    "        if i == j:\n",
    "            continue\n",
    "        x_intersect = (CNT_init[j,4] - b1) / (m1 - CNT_init[j,3])\n",
    "        if CNT_init[i,1] <= x_intersect <= CNT_init[i,5] and CNT_init[j,1] <= x_intersect <= CNT_init[j,5]:\n",
    "            CNT_intersectALL[i,j] = True\n",
    "\n",
    "pylab.imshow(CNT_intersect)\n",
    "CNT_perTubeIntersect = np.sum(CNT_intersect,axis=1)\n",
    "print('The number of intersections in the network is {}.'.format(np.sum(CNT_intersect)))\n",
    "print('Below is a list where each element represents how many intersections the respective tube has:')\n",
    "print(CNT_perTubeIntersect)"
   ]
  },
  {
   "cell_type": "code",
   "execution_count": 48,
   "metadata": {},
   "outputs": [
    {
     "name": "stdout",
     "output_type": "stream",
     "text": [
      "[ 0  0  0  0  0  0  0  0  0  1  1  1  5  5 12 14 14 14 14 15 15 15 15 17 17\n",
      " 20 23 23 25 28 28 28 28 32 32 32 32 40 40 40 40 44 44 44 44 51 51 65 72 72\n",
      " 72 72 73 73 73 75 75 75 75 76]\n",
      "[ 5 23 28 32 44 65 72 73 81  5 32 78 32 75 43 23 28 65 72 17 28 51 79 23 28\n",
      " 76 28 65 44 40 44 65 72 44 72 75 81 44 63 72 79 51 63 65 79 65 72 72 75 76\n",
      " 79 81 75 78 93 76 78 80 81 81]\n",
      "[(0, 5, {'resistance': 10.0}), (0, 23, {'resistance': 10.0}), (0, 28, {'resistance': 10.0}), (0, 32, {'resistance': 10.0}), (0, 44, {'resistance': 10.0}), (0, 65, {'resistance': 10.0}), (0, 72, {'resistance': 10.0}), (0, 73, {'resistance': 10.0}), (0, 81, {'resistance': 10.0}), (1, 5, {'resistance': 10.0}), (1, 32, {'resistance': 10.0}), (1, 78, {'resistance': 10.0}), (5, 32, {'resistance': 10.0}), (5, 75, {'resistance': 10.0}), (12, 43, {'resistance': 10.0}), (14, 23, {'resistance': 10.0}), (14, 28, {'resistance': 10.0}), (14, 65, {'resistance': 10.0}), (14, 72, {'resistance': 10.0}), (15, 17, {'resistance': 10.0}), (15, 28, {'resistance': 10.0}), (15, 51, {'resistance': 10.0}), (15, 79, {'resistance': 10.0}), (17, 23, {'resistance': 10.0}), (17, 28, {'resistance': 10.0}), (20, 76, {'resistance': 10.0}), (23, 28, {'resistance': 10.0}), (23, 65, {'resistance': 10.0}), (25, 44, {'resistance': 10.0}), (28, 40, {'resistance': 10.0}), (28, 44, {'resistance': 10.0}), (28, 65, {'resistance': 10.0}), (28, 72, {'resistance': 10.0}), (32, 44, {'resistance': 10.0}), (32, 72, {'resistance': 10.0}), (32, 75, {'resistance': 10.0}), (32, 81, {'resistance': 10.0}), (40, 44, {'resistance': 10.0}), (40, 63, {'resistance': 10.0}), (40, 72, {'resistance': 10.0}), (40, 79, {'resistance': 10.0}), (44, 51, {'resistance': 10.0}), (44, 63, {'resistance': 10.0}), (44, 65, {'resistance': 10.0}), (44, 79, {'resistance': 10.0}), (51, 65, {'resistance': 10.0}), (51, 72, {'resistance': 10.0}), (65, 72, {'resistance': 10.0}), (72, 75, {'resistance': 10.0}), (72, 76, {'resistance': 10.0}), (72, 79, {'resistance': 10.0}), (72, 81, {'resistance': 10.0}), (73, 75, {'resistance': 10.0}), (73, 78, {'resistance': 10.0}), (73, 93, {'resistance': 10.0}), (75, 76, {'resistance': 10.0}), (75, 78, {'resistance': 10.0}), (75, 80, {'resistance': 10.0}), (75, 81, {'resistance': 10.0}), (76, 81, {'resistance': 10.0})]\n"
     ]
    }
   ],
   "source": [
    "#gives the indicies along the x-axis of the true values as the \n",
    "#first array and the y-values as the second array\n",
    "CNT_tube_num1, CNT_tube_num2 = np.where(CNT_intersect)\n",
    "edges = [None]*np.sum(CNT_intersect)\n",
    "\n",
    "#formatting the intersection data so it will fit work with networkX\n",
    "for k in range(0,np.sum(CNT_intersect)):\n",
    "    edges[k] = (CNT_tube_num1[k], CNT_tube_num2[k], {'resistance': 10.})\n",
    "print(CNT_tube_num1)\n",
    "print(CNT_tube_num2)\n",
    "print(edges)"
   ]
  },
  {
   "cell_type": "code",
   "execution_count": null,
   "metadata": {
    "collapsed": true
   },
   "outputs": [],
   "source": []
  },
  {
   "cell_type": "code",
   "execution_count": null,
   "metadata": {
    "collapsed": true
   },
   "outputs": [],
   "source": [
    "# We will use the wonderfully useful library networkx to allow us\n",
    "# to represent graphs in a nice way.\n",
    "\n",
    "example_graph = nx.Graph()\n",
    "example_graph.clear()\n",
    "example_graph.add_nodes_from(list(\"ABCDEF\"), current=0.) # initialize with all current = 0.\n",
    "edges = [\n",
    "    ('A', 'B', {'resistance': 10.}),\n",
    "    ('A', 'C', {'resistance': 1.}),\n",
    "    ('B', 'C', {'resistance': 3.}),\n",
    "    ('B', 'D', {'resistance': 100.}),\n",
    "    ('C', 'F', {'resistance': 1.}),\n",
    "    ('D', 'E', {'resistance': 4.}),\n",
    "    ('D', 'F', {'resistance': 1.}),\n",
    "    ('E', 'F', {'resistance': 15.}),\n",
    "]\n",
    "\n",
    "example_graph.add_edges_from(edges)"
   ]
  },
  {
   "cell_type": "code",
   "execution_count": 4,
   "metadata": {
    "collapsed": true
   },
   "outputs": [],
   "source": [
    "#THIS CELL IS ONLY FOR TROUBLESHOOTING, IT DOES NOT CODE FOR ANYTHING\n",
    "def num_intersect(network_size, CNT_length_normal, CNT_length_stddev, CNT_num_tubes, num_iterations=1000):\n",
    "    \"\"\"\n",
    "    This function is for testing the number of intersections in the network\n",
    "    generated with the given inputs.\n",
    "    \"\"\"\n",
    "    #initializing empty array\n",
    "    data = np.zeros(num_iterations)\n",
=======
    "def EOL(endpoint_1,endpoint_2):\n",
    "    #Determines the slope, y-intercept of the parent line, and range of x-values of a line\n",
    "    #segment made by 2 points. Endpoints are input as a list of x and y values e.g. [x,y]\n",
    "    x1 = endpoint_1[0]\n",
    "    y1 = endpoint_1[1]\n",
    "    x2 = endpoint_2[0]\n",
    "    y2 = endpoint_2[1]\n",
>>>>>>> 734de9797df31758ad6f322e728b1ffbc10ce018
    "    \n",
    "    #Preventing undefined values for infinite slope\n",
    "    if x1 == x2:\n",
    "        slope = 1e10\n",
    "    else:\n",
    "        slope = (y2 - y1) / (x2 - x1)\n",
    "    y_intercept = y1 - slope * x1\n",
    "    #finding range of x-values the segment runs for to make determining intersection easier\n",
    "    x_range = [np.min(x1,x2),np.max(x1,x2)]\n",
    "    return slope, y_intercept, x_range"
   ]
  },
  {
   "cell_type": "code",
   "execution_count": 31,
   "metadata": {},
   "outputs": [],
   "source": [
    "def intersect(EOL_1,EOL_2):\n",
    "    #Calculates if two line segments intersect given two equations of lines given the\n",
    "    #slopes, y-intercepts, and acceptable range\n",
    "    #Input format: [slope, y_intercept, x_range]\n",
    "    m1 = EOL_1[0] #slope of line 1\n",
    "    m2 = EOL_2[0] #slope of line 2\n",
    "    b1 = EOL_1[1] #Y-intercept of line 1\n",
    "    b2 = EOL_2[1] #Y-intercept of line 2\n",
    "    x_range_1 = EOL_1[2]\n",
    "    x_range_2 = EOL_2[2]\n",
    "    \n",
    "    #Checking for parallel\n",
    "    if m1 == m2:\n",
    "        return False\n",
    "    \n",
    "    x_intersect = (b2 - b1) / (m1 - m2)\n",
    "    \n",
    "    return x_intersect in range(*x_range_1) and x_intersect in range(*x_range_2)"
   ]
  },
  {
   "cell_type": "code",
   "execution_count": null,
   "metadata": {
    "collapsed": true
   },
   "outputs": [],
   "source": [
    "def y_delta"
   ]
  },
  {
   "cell_type": "code",
   "execution_count": 29,
   "metadata": {},
   "outputs": [
    {
     "data": {
      "text/plain": [
       "1000000.0"
      ]
     },
     "execution_count": 29,
     "metadata": {},
     "output_type": "execute_result"
    }
   ],
   "source": [
    "1e6"
   ]
  },
  {
   "cell_type": "code",
   "execution_count": null,
   "metadata": {
    "collapsed": true
   },
   "outputs": [],
   "source": []
  }
 ],
 "metadata": {
  "kernelspec": {
   "display_name": "Python 3",
   "language": "python",
   "name": "python3"
  },
  "language_info": {
   "codemirror_mode": {
    "name": "ipython",
    "version": 3
   },
   "file_extension": ".py",
   "mimetype": "text/x-python",
   "name": "python",
   "nbconvert_exporter": "python",
   "pygments_lexer": "ipython3",
   "version": "3.6.1"
  }
 },
 "nbformat": 4,
 "nbformat_minor": 2
}
