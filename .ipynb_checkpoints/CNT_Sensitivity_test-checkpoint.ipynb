{
 "cells": [
  {
   "cell_type": "code",
   "execution_count": 1,
   "metadata": {
    "collapsed": true
   },
   "outputs": [],
   "source": [
    "import matplotlib\n",
    "matplotlib.use(\"Agg\")\n",
    "from matplotlib import pyplot as plt\n",
    "from matplotlib import pylab #displays arrays as images for easy error checking\n",
    "import numpy as np\n",
    "import scipy as sp\n",
    "import networkx as nx\n",
    "from PIL import Image\n",
    "from PIL import ImageDraw\n",
    "\n",
    "from SALib.sample import morris as ms\n",
    "from SALib.analyze import morris as ma\n",
    "from SALib.plotting import morris as mp"
   ]
  },
  {
   "cell_type": "code",
   "execution_count": 41,
   "metadata": {
    "collapsed": true
   },
   "outputs": [],
   "source": [
    "# Functions for equivalent resistance calculation\n",
    "def G_matrix(graph):\n",
    "    \"\"\"\n",
    "    Using the data from the input networkx graph, returns\n",
    "    the G matrix needed to complete the nodal analysis calculation.\n",
    "    \"\"\"\n",
    "    # Find the reciprocal of resistance for each connection (i.e. each edge)\n",
    "    for node1, node2 in graph.edges():\n",
    "        graph[node1][node2]['reciprocalR'] = 1.0 / graph[node1][node2]['resistance']\n",
    "    # The adjacency matrix gives all needed elements but the diagonal\n",
    "    G = nx.adjacency_matrix(graph, weight='reciprocalR')\n",
    "    # Add the diagonal\n",
    "    G.setdiag(np.squeeze(np.asarray(-nx.incidence_matrix(graph, weight='reciprocalR').sum(axis=1))))\n",
    "    # G is a csr_matrix, but we want an array\n",
    "    return G.toarray()\n",
    "\n",
    "def equivalent_resistance(graph, check_nodes):\n",
    "    \"\"\"\n",
    "    Given a graph and a list of two check nodes,\n",
    "    computes the equivalent resistance.\n",
    "    \"\"\"\n",
    "    # Get the G matrix\n",
    "    G = G_matrix(graph)\n",
    "    I = np.zeros(len(G))\n",
    "    I[check_nodes[0]] = 1.\n",
    "    I[check_nodes[1]] = -1.\n",
    "    \n",
    "    # Solve for the voltage matrix\n",
    "    try:\n",
    "        V = np.linalg.solve(G, I)\n",
    "        \n",
    "        # use a simple numpy operation to compute the equivalent resistance\n",
    "        equivalent_resistance = abs(sum(I*V))\n",
    "        return equivalent_resistance\n",
    "    except:\n",
    "        # if np.linalg.solve fails, raise an error\n",
    "        print(\"Error: could not solve the matrix equation. Is the G-matrix singular?\")\n",
    "        raise\n",
    "\n",
    "# credit to Bryce Boe http://bryceboe.com/2006/10/23/line-segment-intersection-algorithm/\n",
    "def ccw(ax, ay, bx, by, cx, cy):\n",
    "    \"\"\"\n",
    "    Determines whether points a, b, and c are counerclockwise\n",
    "    \"\"\"\n",
    "    return (cy - ay)*(bx - ax) > (by-ay)*(cx-ax)\n",
    "\n",
    "def intersect(ax, ay, bx, by, cx, cy, dx, dy):\n",
    "    \"\"\"\n",
    "    a and b describe one line segment; c and d describe another.\n",
    "    \"\"\"\n",
    "    return (ccw(ax, ay, cx, cy, dx, dy) != ccw(bx, by, cx, cy, dx, dy) and\n",
    "            ccw(ax, ay, bx, by, cx, cy) != ccw(ax, ay, bx, by, dx, dy))\n",
    "\n",
    "def model(network_size,\n",
    "         CNT_length_normal,\n",
    "         CNT_length_stddev,\n",
    "         CNT_num_tubes,\n",
    "         resistance_mean,\n",
    "         resistance_stddev):\n",
    "    \"\"\"\n",
    "    Returns the equivalent resistance, given inputs of the size of the CNT film,\n",
    "    and information about the tubes' size distribution.\n",
    "    \"\"\"\n",
    "    #converting CNT_num_tubes to an integer so function doesn't break when the array\n",
    "    #for sensitivity analysis is passed to it\n",
    "    CNT_num_tubes = int(CNT_num_tubes)\n",
    "    CNT_init = np.zeros((CNT_num_tubes+2,7))\n",
    "\n",
    "    #creating the pseudo tubes that will act as the edges in the network\n",
    "    CNT_init[0:2,:] = [[network_size,0,0,0,0,network_size,0],\n",
    "                       [network_size,0,1,0,network_size,network_size,network_size]]\n",
    "    \n",
    "    #Generating tube information\n",
    "    #randomly assigning tube lengths distributed around a set tube length\n",
    "    logmean = np.log(CNT_length_normal / (np.sqrt(1+(CNT_length_stddev/CNT_length_normal)**2)))\n",
    "    logstdev = np.sqrt(np.log(1+(CNT_length_stddev/CNT_length_normal)**2))\n",
    "    CNT_init[2:,0] = np.random.lognormal(logmean, logstdev, CNT_num_tubes)\n",
    "\n",
    "    #randomly assign starting point and orientation\n",
    "    CNT_init[2:,1:4] = np.random.rand(CNT_num_tubes, 3)\n",
    "\n",
    "    #applying scaling to random numbers so they match the needed values\n",
    "    scaling_factor = np.array([1, network_size, network_size, 2*np.pi, 1, 1, 1])\n",
    "    CNT_init = CNT_init * scaling_factor\n",
    "\n",
    "    #calculating the x-max for the tubes\n",
    "    CNT_init[:,5] = CNT_init[:,1] + np.cos(CNT_init[:,3]) * CNT_init[:,0]\n",
    "\n",
    "    #calculating the y-max for the tubes\n",
    "    CNT_init[:,6] = CNT_init[:,2] + np.sin(CNT_init[:,3]) * CNT_init[:,0]\n",
    "\n",
    "    #calculating slope\n",
    "    CNT_init[:,3] = np.tan(CNT_init[:,3])\n",
    "    \n",
    "    #calculating the y-intercept of the lines\n",
    "    CNT_init[:,4] = CNT_init[:,2] - CNT_init[:,3] * CNT_init[:,2]\n",
    "\n",
    "    #print CNT_init to file, indexing to the run number (hopefully)\n",
    "    filename = \"CNT_data_\" + str(sampleindex) + \".npy\"\n",
    "    np.save(filename, CNT_init)\n",
    "    \n",
    "    #generating a boolean array of the tubes that intersect\n",
    "    CNT_intersect = np.zeros((CNT_num_tubes+2,CNT_num_tubes+2),dtype=bool)\n",
    "    \n",
    "    for i,row1 in enumerate(CNT_init):\n",
    "        for j,row2 in enumerate(CNT_init[i+1:,:]):\n",
    "            coords = np.concatenate((row1[1:3], row1[5:7], row2[1:3], row2[5:7]))\n",
    "            if intersect(*coords):\n",
    "                CNT_intersect[i,j+i+1] = True\n",
    "    \n",
    "    #gives the indicies along the x-axis of the true values as the \n",
    "    #first array and the y-values as the second array\n",
    "    CNT_tube_num1, CNT_tube_num2 = np.where(CNT_intersect)\n",
    "    \n",
    "    #add the intersections as edges in a networkx graph\n",
    "    graph = nx.Graph()\n",
    "    graph.add_edges_from((CNT_tube_num1[k], CNT_tube_num2[k],\n",
    "                          {'resistance': np.random.normal(resistance_mean, resistance_stddev)})\n",
    "                         for k in range(0, np.sum(CNT_intersect)))\n",
    "    \n",
    "    #get rid of any bits of the graph not contiguous with node 0 (one of the test nodes)\n",
    "    #thanks to Pieter Swart from 2006 [https://groups.google.com/forum/#!topic/networkx-discuss/XmP5wZhrDMI]\n",
    "    try:\n",
    "        contiguous_nodes = nx.node_connected_component(graph, 0)\n",
    "        new_graph = graph.subgraph(contiguous_nodes)\n",
    "    except KeyError:\n",
    "        print(\"Could not compute equivalent resistance; the starting tube has no intersections\")\n",
    "        path_exists = False\n",
    "    \n",
    "    #computes equiv. resistance\n",
    "    try:\n",
    "        path_exists = nx.has_path(new_graph, 0, 1)\n",
    "    except:\n",
    "        path_exists = False\n",
    "    \n",
    "    if path_exists:\n",
    "        try:\n",
    "            eqr = equivalent_resistance(new_graph,[0,1])\n",
    "        except:\n",
    "            eqr = np.nan\n",
    "    else:\n",
    "        print(\"Could not compute equivalent resistance; there is no contiguous path through the network.\")\n",
    "        eqr = np.nan\n",
    " \n",
    "    return eqr\n",
    "\n",
    "\n",
    "## read the six parameters from the input file\n",
    "#\n",
    "## run the model:\n",
    "#equivalent_resistance = model(network_size, CNT_length_normal, CNT_length_stddev,\n",
    "#                                CNT_num_tubes, resistance_mean, resistance_stddev)\n",
    "#\n",
    "## save the model output\n",
    "#\n",
    "## (unfinished)\n",
    "#\n",
    "#\n",
    "##Important variables\n",
    "#network_size = 10 #side length of network boundaries\n",
    "#CNT_length_normal = 445 #normal length of CNT at center of distribution\n",
    "#CNT_length_stddev = 310 #standard deviation of CNT length from normal\n",
    "#CNT_num_tubes = 1000 #number of tubes in film\n",
    "#resistance_mean = 10\n",
    "#resistance_stddev = 1"
   ]
  },
  {
   "cell_type": "code",
   "execution_count": 4,
   "metadata": {
    "collapsed": true
   },
   "outputs": [],
   "source": [
    "#Defining the problem\n",
    "morris_problem = {\n",
    "    # There are six variables\n",
    "    'num_vars': 6,\n",
    "    # These are their names\n",
    "    'names': ['network_size', 'CNT_length_normal', 'CNT_length_stddev', 'CNT_num_tubes', 'resistance_mean', 'resistance_stddev'],\n",
    "    # These are their plausible ranges over which we'll move the variables\n",
    "    'bounds': [[1000, 10000], # network size (nm)\n",
    "               [100, 1000], # length that tubes are distributed around (nm)\n",
    "               [100, 500], # standard deviation of tube length (nm)\n",
    "               [100, 5000], # number of tubes in network\n",
    "               [1, 100], # mean contact resistance of tubes (Ω)\n",
    "               [1, 20], # standard deviation of contact resistance (Ω)\n",
    "              ],\n",
    "    # I don't want to group any of these variables together\n",
    "    'groups': None\n",
    "    }"
   ]
  },
  {
   "cell_type": "code",
   "execution_count": 78,
   "metadata": {
    "collapsed": true
   },
   "outputs": [],
   "source": [
    "num_levels = 50\n",
    "grid_jump = 2\n",
    "sample = ms.sample(morris_problem, 50, num_levels, grid_jump)\n",
    "#forcing the number of tubes to be an integer so no errors are thrown\n",
    "#sample[:,3] = np.around(sample[:,3])"
   ]
  },
  {
   "cell_type": "code",
   "execution_count": 79,
   "metadata": {},
   "outputs": [
    {
     "name": "stdout",
     "output_type": "stream",
     "text": [
      "(350, 6)\n",
      "[[ 6693.87755102   283.67346939   206.12244898   200.             9.08163265\n",
      "      7.97959184]\n",
      " [ 6326.53061224   283.67346939   206.12244898   200.             9.08163265\n",
      "      7.97959184]\n",
      " [ 6326.53061224   283.67346939   206.12244898   200.             9.08163265\n",
      "      7.20408163]\n",
      " ..., \n",
      " [ 5775.51020408   412.24489796   214.28571429  3500.            19.18367347\n",
      "     11.85714286]\n",
      " [ 5775.51020408   412.24489796   214.28571429  3300.            19.18367347\n",
      "     11.85714286]\n",
      " [ 5775.51020408   412.24489796   214.28571429  3300.            19.18367347\n",
      "     11.08163265]]\n"
     ]
    }
   ],
   "source": [
    "print(sample.shape)\n",
    "print(sample)"
   ]
  },
  {
   "cell_type": "code",
   "execution_count": null,
   "metadata": {
    "collapsed": true
   },
   "outputs": [],
   "source": [
    "##run this to recreate error\n",
    "#sample = np.load('sample_input_error.npy')\n",
    "##shows the variables that will return the error\n",
    "#print(sample.shape)\n",
    "#print(sample)"
   ]
  },
  {
   "cell_type": "code",
   "execution_count": 51,
   "metadata": {},
   "outputs": [
    {
     "name": "stdout",
     "output_type": "stream",
     "text": [
      "7\n",
      "[ 10000.    100.    500.    100.    100.     20.]\n",
      "[ 10000.    100.    500.    100.    100.     20.]\n",
      "[ 10000.            100.            500.           3366.66666667    100.\n",
      "     20.        ]\n",
      "[  1.00000000e+04   1.00000000e+02   5.00000000e+02   3.36666667e+03\n",
      "   1.00000000e+02   7.33333333e+00]\n",
      "[ 4000.           100.           500.          3366.66666667   100.\n",
      "     7.33333333]\n",
      "[ 4000.           100.           500.          3366.66666667    34.\n",
      "     7.33333333]\n",
      "[ 4000.           700.           500.          3366.66666667    34.\n",
      "     7.33333333]\n",
      "[ 4000.           700.           233.33333333  3366.66666667    34.\n",
      "     7.33333333]\n"
     ]
    }
   ],
   "source": [
    "print(sample.shape[0])\n",
    "print(sample[0])\n",
    "for row in sample:\n",
    "    print(row)"
   ]
  },
  {
   "cell_type": "code",
   "execution_count": 52,
   "metadata": {},
   "outputs": [
    {
     "name": "stdout",
     "output_type": "stream",
     "text": [
      "Could not compute equivalent resistance; the starting tube has no intersections\n",
      "Could not compute equivalent resistance; there is no contiguous path through the network.\n",
      "Finished run index 0\n",
      "Could not compute equivalent resistance; there is no contiguous path through the network.\n",
      "Finished run index 1\n",
      "Could not compute equivalent resistance; there is no contiguous path through the network.\n",
      "Finished run index 2\n"
     ]
    },
    {
     "name": "stderr",
     "output_type": "stream",
     "text": [
      "/Users/mplajer/anaconda/lib/python3.6/site-packages/scipy/sparse/compressed.py:774: SparseEfficiencyWarning: Changing the sparsity structure of a csr_matrix is expensive. lil_matrix is more efficient.\n",
      "  SparseEfficiencyWarning)\n"
     ]
    },
    {
     "name": "stdout",
     "output_type": "stream",
     "text": [
      "Finished run index 3\n",
      "Finished run index 4\n",
      "Finished run index 5\n",
      "Finished run index 6\n"
     ]
    }
   ],
   "source": [
    "# Run the sample through the monte carlo procedure of the power model\n",
    "#for sampleindex in range(0,sample.shape[0]):\n",
    "#    output = model(*sample.T[:,sampleindex])\n",
    "#    print(sampleindex)\n",
    "#    print(sample.T[:,sampleindex])\n",
    "#    print(output)\n",
    "\n",
    "equivalent_resistance_results = []\n",
    "for sampleindex, parameters in enumerate(sample):\n",
    "    equivalent_resistance_results.append(model(*parameters))\n",
    "    \n",
    "    #remove the line below this one\n",
    "    print(\"Finished run index {}\".format(sampleindex))\n",
    "    \n",
    "assert len(equivalent_resistance_results) == sample.shape[0]\n",
    "\n",
    "np.save(\"CNT_results.npy\", np.array(equivalent_resistance_results))\n",
    "\n",
    "#output = model(*sample.T[:,1])\n",
    "#print(output.shape)\n",
    "\n",
    "#print(max(output))"
   ]
  },
  {
   "cell_type": "code",
   "execution_count": 42,
   "metadata": {},
   "outputs": [
    {
     "name": "stdout",
     "output_type": "stream",
     "text": [
      "Equivalent resistance: 6.639653081855966 ohm/sq\n"
     ]
    },
    {
     "name": "stderr",
     "output_type": "stream",
     "text": [
      "/Users/mplajer/anaconda/lib/python3.6/site-packages/scipy/sparse/compressed.py:774: SparseEfficiencyWarning: Changing the sparsity structure of a csr_matrix is expensive. lil_matrix is more efficient.\n",
      "  SparseEfficiencyWarning)\n"
     ]
    }
   ],
   "source": [
    "# quick working example for testing\n",
    "sampleindex = 15\n",
    "np.random.seed(42)\n",
    "print(\"Equivalent resistance: {} ohm/sq\"\n",
    "      .format(model(1000, 445, 310, 30, 10, 1)))"
   ]
  },
  {
   "cell_type": "code",
   "execution_count": 10,
   "metadata": {
    "collapsed": true
   },
   "outputs": [],
   "source": [
    "#np.load('sample_working_input_array.npy') #this is an example for which the last 4 of 7 calculate properly "
   ]
  },
  {
   "cell_type": "code",
   "execution_count": 53,
   "metadata": {},
   "outputs": [
    {
     "name": "stdout",
     "output_type": "stream",
     "text": [
      "[         nan          nan          nan  58.85936645  11.38522072\n",
      "   2.85577713   0.60838226]\n"
     ]
    }
   ],
   "source": [
    "print(np.load(\"CNT_results.npy\"))"
   ]
  },
  {
   "cell_type": "code",
   "execution_count": 54,
   "metadata": {},
   "outputs": [
    {
     "name": "stderr",
     "output_type": "stream",
     "text": [
      "/Users/mplajer/anaconda/lib/python3.6/site-packages/scipy/sparse/compressed.py:774: SparseEfficiencyWarning: Changing the sparsity structure of a csr_matrix is expensive. lil_matrix is more efficient.\n",
      "  SparseEfficiencyWarning)\n"
     ]
    },
    {
     "name": "stdout",
     "output_type": "stream",
     "text": [
      "1 loop, best of 3: 36.3 s per loop\n"
     ]
    }
   ],
   "source": [
    "%%timeit\n",
    "sampleindex = 3\n",
    "model(*sample[3])"
   ]
  },
  {
   "cell_type": "code",
   "execution_count": 57,
   "metadata": {},
   "outputs": [
    {
     "name": "stdout",
     "output_type": "stream",
     "text": [
      "[ 4000.           100.           500.          3366.66666667   100.\n",
      "     7.33333333]\n"
     ]
    }
   ],
   "source": [
    "print(sample[3])"
   ]
  },
  {
   "cell_type": "code",
   "execution_count": 58,
   "metadata": {},
   "outputs": [
    {
     "name": "stdout",
     "output_type": "stream",
     "text": [
      "20\n",
      "21\n",
      "22\n",
      "23\n",
      "24\n",
      "25\n",
      "26\n",
      "27\n",
      "28\n",
      "29\n",
      "30\n",
      "31\n",
      "32\n",
      "33\n",
      "34\n",
      "35\n",
      "36\n",
      "37\n",
      "38\n",
      "39\n"
     ]
    }
   ],
   "source": [
    "for i in range(20,40):\n",
    "    print(i)"
   ]
  },
  {
   "cell_type": "code",
   "execution_count": 64,
   "metadata": {},
   "outputs": [
    {
     "name": "stdout",
     "output_type": "stream",
     "text": [
      "20\n"
     ]
    }
   ],
   "source": [
    "print(len(sample[:-1]))"
   ]
  },
  {
   "cell_type": "code",
   "execution_count": 80,
   "metadata": {
    "collapsed": true
   },
   "outputs": [],
   "source": [
    "np.save(\"CNT_parameters.npy\", sample)"
   ]
  },
  {
   "cell_type": "code",
   "execution_count": 81,
   "metadata": {},
   "outputs": [
    {
     "name": "stdout",
     "output_type": "stream",
     "text": [
      "(350, 6)\n"
     ]
    }
   ],
   "source": [
    "print((np.load(\"CNT_parameters.npy\").shape))"
   ]
  },
  {
   "cell_type": "code",
   "execution_count": 77,
   "metadata": {},
   "outputs": [
    {
     "name": "stdout",
     "output_type": "stream",
     "text": [
      "[ 2.47434191  2.0074317   1.93891815]\n"
     ]
    }
   ],
   "source": [
    "print(np.load(\"CNT_results_0.npy\"))"
   ]
  },
  {
   "cell_type": "code",
   "execution_count": null,
   "metadata": {
    "collapsed": true
   },
   "outputs": [],
   "source": []
  }
 ],
 "metadata": {
  "kernelspec": {
   "display_name": "Python 3",
   "language": "python",
   "name": "python3"
  },
  "language_info": {
   "codemirror_mode": {
    "name": "ipython",
    "version": 3
   },
   "file_extension": ".py",
   "mimetype": "text/x-python",
   "name": "python",
   "nbconvert_exporter": "python",
   "pygments_lexer": "ipython3",
   "version": "3.6.1"
  }
 },
 "nbformat": 4,
 "nbformat_minor": 2
}
